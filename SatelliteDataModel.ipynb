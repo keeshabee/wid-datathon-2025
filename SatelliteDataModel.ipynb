{
 "cells": [
  {
   "cell_type": "code",
   "execution_count": null,
   "id": "c630ad8f",
   "metadata": {},
   "outputs": [],
   "source": [
    "# Define the dimensional model structure\n",
    "class SatelliteDataModel:\n",
    "    \"\"\"\n",
    "    Star schema for Space Situational Awareness dashboard\n",
    "    \"\"\"\n",
    "    \n",
    "    # FACT TABLE - Satellite Observations\n",
    "        'pass_id': 'INT PRIMARY KEY',\n",
    "        'satellite_id': 'INT FK',\n",
    "        'location_id': 'INT FK', \n",
    "        'time_id': 'INT FK',\n",
    "        'orbit_id': 'INT FK',\n",
    "        'risk_id': 'INT FK',\n",
    "        # Measures\n",
    "        'distance_km': 'FLOAT',\n",
    "        'max_elevation_deg': 'FLOAT',\n",
    "        'pass_duration_sec': 'FLOAT',\n",
    "        'relative_velocity_km_s': 'FLOAT',\n",
    "        'collision_probability': 'FLOAT',\n",
    "        'debris_density_index': 'FLOAT'\n",
    "    }\n",
    "    \n",
    "    # DIMENSION - Satellites\n",
    "    dim_satellite = {\n",
    "        'satellite_id': 'INT PRIMARY KEY',\n",
    "        'norad_id': 'VARCHAR(10)',\n",
    "        'satellite_name': 'VARCHAR(100)',\n",
    "        'object_type': 'VARCHAR(50)',  # PAYLOAD, DEBRIS, ROCKET_BODY\n",
    "        'country_code': 'VARCHAR(5)',\n",
    "        'launch_date': 'DATE',\n",
    "        'status': 'VARCHAR(20)',  # ACTIVE, INACTIVE, DECAYED\n",
    "        'purpose': 'VARCHAR(50)'  # COMMUNICATIONS, EARTH_OBS, NAVIGATION\n",
    "    }\n",
    "    \n",
    "    # DIMENSION - Locations\n",
    "    dim_location = {\n",
    "        'location_id': 'INT PRIMARY KEY',\n",
    "        'city_name': 'VARCHAR(100)',\n",
    "        'country': 'VARCHAR(100)',\n",
    "        'latitude': 'FLOAT',\n",
    "        'longitude': 'FLOAT',\n",
    "        'timezone': 'VARCHAR(50)',\n",
    "        'population': 'INT',\n",
    "        'tech_dependency_score': 'FLOAT'  # How dependent on satellite services\n",
    "    }\n",
    "    \n",
    "    # DIMENSION - Time\n",
    "    dim_time = {\n",
    "        'time_id': 'INT PRIMARY KEY',\n",
    "        'datetime': 'TIMESTAMP',\n",
    "        'date': 'DATE',\n",
    "        'year': 'INT',\n",
    "        'month': 'INT',\n",
    "        'day': 'INT',\n",
    "        'hour': 'INT',\n",
    "        'day_of_week': 'VARCHAR(10)',\n",
    "        'is_weekend': 'BOOLEAN',\n",
    "        'solar_activity_level': 'VARCHAR(10)'  # LOW, MEDIUM, HIGH\n",
    "    }\n",
    "    \n",
    "    # DIMENSION - Orbital Characteristics\n",
    "    dim_orbit = {\n",
    "        'orbit_id': 'INT PRIMARY KEY',\n",
    "        'altitude_km': 'FLOAT',\n",
    "        'inclination_deg': 'FLOAT',\n",
    "        'eccentricity': 'FLOAT',\n",
    "        'mean_motion_rev_day': 'FLOAT',\n",
    "        'orbital_period_min': 'FLOAT',\n",
    "        'orbit_class': 'VARCHAR(10)',  # LEO, MEO, GEO, HEO\n",
    "        'orbit_type': 'VARCHAR(30)'  # SUN_SYNCHRONOUS, POLAR, EQUATORIAL\n",
    "    }\n",
    "    \n",
    "    # DIMENSION - Risk Factors\n",
    "    dim_risk = {\n",
    "        'risk_id': 'INT PRIMARY KEY',\n",
    "        'congestion_score': 'FLOAT',  # 0-1 scale\n",
    "        'debris_risk_score': 'FLOAT',  # 0-1 scale\n",
    "        'crossing_risk_score': 'FLOAT',  # 0-1 scale\n",
    "        'total_risk_score': 'FLOAT',  # 0-100 scale\n",
    "        'risk_level': 'VARCHAR(10)',  # LOW, MEDIUM, HIGH, CRITICAL\n",
    "        'kessler_probability': 'FLOAT',  # Cascade event probability\n",
    "        'mitigation_priority': 'INT'  # 1-10 scale\n",
    "    }"
   ]
  },
  {
   "cell_type": "code",
   "execution_count": 2,
   "id": "5847c0e4",
   "metadata": {},
   "outputs": [],
   "source": [
    "import pandas as pd\n",
    "import numpy as np\n",
    "from datetime import datetime, timedelta\n",
    "\n",
    "def create_dimensional_model(raw_satellite_data, cities):\n",
    "    \"\"\"\n",
    "    Transform raw data into star schema format\n",
    "    \"\"\"\n",
    "    \n",
    "    # Create dimension tables\n",
    "    dim_satellite_df = create_satellite_dimension(raw_satellite_data)\n",
    "    dim_location_df = create_location_dimension(cities)\n",
    "    dim_time_df = create_time_dimension()\n",
    "    dim_orbit_df = create_orbit_dimension(raw_satellite_data)\n",
    "    dim_risk_df = create_risk_dimension()\n",
    "    \n",
    "    # Create fact table\n",
    "    fact_passes_df = create_fact_table(\n",
    "        raw_satellite_data, \n",
    "        dim_satellite_df,\n",
    "        dim_location_df,\n",
    "        dim_time_df,\n",
    "        dim_orbit_df,\n",
    "        dim_risk_df\n",
    "    )\n",
    "    \n",
    "    return {\n",
    "        'fact_satellite_passes': fact_passes_df,\n",
    "        'dim_satellite': dim_satellite_df,\n",
    "        'dim_location': dim_location_df,\n",
    "        'dim_time': dim_time_df,\n",
    "        'dim_orbit': dim_orbit_df,\n",
    "        'dim_risk': dim_risk_df\n",
    "    }\n",
    "\n",
    "def create_satellite_dimension(satellites_df):\n",
    "    \"\"\"\n",
    "    Create satellite dimension with surrogate keys\n",
    "    \"\"\"\n",
    "    dim_satellite = pd.DataFrame({\n",
    "        'satellite_id': range(1, len(satellites_df) + 1),\n",
    "        'norad_id': satellites_df['norad_id'],\n",
    "        'satellite_name': satellites_df['name'],\n",
    "        'object_type': np.random.choice(['PAYLOAD', 'DEBRIS', 'ROCKET_BODY'], \n",
    "                                       len(satellites_df), p=[0.7, 0.2, 0.1]),\n",
    "        'country_code': 'USA',  # Would need real data\n",
    "        'launch_date': pd.date_range(start='2010-01-01', \n",
    "                                    periods=len(satellites_df), freq='W'),\n",
    "        'status': np.where(satellites_df['altitude_km'] > 0, 'ACTIVE', 'DECAYED'),\n",
    "        'purpose': np.random.choice(['COMMUNICATIONS', 'EARTH_OBS', 'NAVIGATION', 'SCIENTIFIC'],\n",
    "                                   len(satellites_df))\n",
    "    })\n",
    "    return dim_satellite\n",
    "\n",
    "def create_location_dimension(cities):\n",
    "    \"\"\"\n",
    "    Create location dimension for cities\n",
    "    \"\"\"\n",
    "    dim_location = pd.DataFrame([\n",
    "        {\n",
    "            'location_id': 1,\n",
    "            'city_name': 'Philadelphia',\n",
    "            'country': 'United States',\n",
    "            'latitude': 39.9526,\n",
    "            'longitude': -75.1652,\n",
    "            'timezone': 'America/New_York',\n",
    "            'population': 1584000,\n",
    "            'tech_dependency_score': 0.85\n",
    "        },\n",
    "        {\n",
    "            'location_id': 2,\n",
    "            'city_name': 'Rio de Janeiro',\n",
    "            'country': 'Brazil',\n",
    "            'latitude': -22.9068,\n",
    "            'longitude': -43.1729,\n",
    "            'timezone': 'America/Sao_Paulo',\n",
    "            'population': 6748000,\n",
    "            'tech_dependency_score': 0.75\n",
    "        }\n",
    "    ])\n",
    "    return dim_location\n",
    "\n",
    "def create_orbit_dimension(satellites_df):\n",
    "    \"\"\"\n",
    "    Create orbital characteristics dimension\n",
    "    \"\"\"\n",
    "    dim_orbit = pd.DataFrame({\n",
    "        'orbit_id': range(1, len(satellites_df) + 1),\n",
    "        'altitude_km': satellites_df['altitude_km'],\n",
    "        'inclination_deg': satellites_df['inclination'],\n",
    "        'eccentricity': satellites_df['eccentricity'],\n",
    "        'mean_motion_rev_day': satellites_df['mean_motion'],\n",
    "        'orbital_period_min': 1440 / satellites_df['mean_motion'],\n",
    "        'orbit_class': pd.cut(satellites_df['altitude_km'], \n",
    "                             bins=[0, 2000, 35786, 100000],\n",
    "                             labels=['LEO', 'MEO', 'GEO']),\n",
    "        'orbit_type': np.where(\n",
    "            abs(satellites_df['inclination'] - 98) < 2, 'SUN_SYNCHRONOUS',\n",
    "            np.where(satellites_df['inclination'] > 85, 'POLAR',\n",
    "            np.where(satellites_df['inclination'] < 10, 'EQUATORIAL', 'INCLINED'))\n",
    "        )\n",
    "    })\n",
    "    return dim_orbit\n",
    "\n",
    "def create_risk_dimension():\n",
    "    \"\"\"\n",
    "    Create pre-calculated risk scenarios\n",
    "    \"\"\"\n",
    "    risk_scenarios = []\n",
    "    for congestion in np.arange(0, 1.1, 0.2):\n",
    "        for debris in np.arange(0, 1.1, 0.2):\n",
    "            for crossing in np.arange(0, 1.1, 0.5):\n",
    "                total = (congestion * 0.4 + debris * 0.4 + crossing * 0.2) * 100\n",
    "                risk_scenarios.append({\n",
    "                    'risk_id': len(risk_scenarios) + 1,\n",
    "                    'congestion_score': round(congestion, 2),\n",
    "                    'debris_risk_score': round(debris, 2),\n",
    "                    'crossing_risk_score': round(crossing, 2),\n",
    "                    'total_risk_score': round(total, 1),\n",
    "                    'risk_level': 'CRITICAL' if total > 70 else 'HIGH' if total > 50 \n",
    "                                 else 'MEDIUM' if total > 30 else 'LOW',\n",
    "                    'kessler_probability': min(1.0, total / 100 * 1.5),\n",
    "                    'mitigation_priority': min(10, int(total / 10))\n",
    "                })\n",
    "    \n",
    "    return pd.DataFrame(risk_scenarios)\n",
    "\n",
    "def calculate_risk_id(altitude, inclination, location_lat):\n",
    "    \"\"\"\n",
    "    Map orbital parameters to risk dimension\n",
    "    \"\"\"\n",
    "    # Simplified risk calculation logic\n",
    "    congestion = min(1.0, (3000 - altitude) / 3000) if altitude < 2000 else 0.2\n",
    "    debris = 0.8 if 700 < altitude < 900 else 0.3\n",
    "    crossing = min(1.0, abs(inclination - abs(location_lat)) / 90)\n",
    "    \n",
    "    # Find nearest risk scenario\n",
    "    # In production, this would be a lookup\n",
    "    return 1  # Placeholder"
   ]
  },
  {
   "cell_type": "code",
   "execution_count": 3,
   "id": "3781bc42",
   "metadata": {},
   "outputs": [],
   "source": [
    "def create_fact_table(satellites_df, dim_sat, dim_loc, dim_time, dim_orbit, dim_risk):\n",
    "    \"\"\"\n",
    "    Generate fact records for satellite passes\n",
    "    \"\"\"\n",
    "    fact_records = []\n",
    "    pass_id = 1\n",
    "    \n",
    "    # Simulate passes for each city\n",
    "    for loc_idx, location in dim_loc.iterrows():\n",
    "        # Sample satellites visible from this location\n",
    "        visible_sats = satellites_df.sample(n=min(100, len(satellites_df)))\n",
    "        \n",
    "        for sat_idx, sat in visible_sats.iterrows():\n",
    "            # Calculate pass characteristics\n",
    "            lat_diff = abs(sat['inclination'] - abs(location['latitude']))\n",
    "            visibility = lat_diff < 90  # Simplified\n",
    "            \n",
    "            if visibility:\n",
    "                fact_records.append({\n",
    "                    'pass_id': pass_id,\n",
    "                    'satellite_id': sat_idx + 1,\n",
    "                    'location_id': location['location_id'],\n",
    "                    'time_id': np.random.randint(1, 1000),\n",
    "                    'orbit_id': sat_idx + 1,\n",
    "                    'risk_id': calculate_risk_id(\n",
    "                        sat['altitude_km'], \n",
    "                        sat['inclination'],\n",
    "                        location['latitude']\n",
    "                    ),\n",
    "                    'distance_km': np.random.uniform(400, 2000),\n",
    "                    'max_elevation_deg': np.random.uniform(10, 90),\n",
    "                    'pass_duration_sec': np.random.uniform(60, 600),\n",
    "                    'relative_velocity_km_s': 7.5 - (sat['altitude_km'] / 1000),\n",
    "                    'collision_probability': np.random.exponential(0.00001),\n",
    "                    'debris_density_index': np.random.exponential(10)\n",
    "                })\n",
    "                pass_id += 1\n",
    "    \n",
    "    return pd.DataFrame(fact_records)"
   ]
  },
  {
   "cell_type": "code",
   "execution_count": 14,
   "id": "dce5692a",
   "metadata": {},
   "outputs": [
    {
     "data": {
      "application/vnd.plotly.v1+json": {
       "config": {
        "plotlyServerURL": "https://plot.ly"
       },
       "data": [
        {
         "marker": {
          "color": "blue"
         },
         "name": "Temporal Distribution",
         "nbinsx": 30,
         "type": "histogram",
         "x": {
          "bdata": "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",
          "dtype": "i4"
         },
         "xaxis": "x",
         "yaxis": "y"
        },
        {
         "marker": {
          "color": [
           "green",
           "orange"
          ]
         },
         "text": [
          "261",
          "239"
         ],
         "textposition": "outside",
         "type": "bar",
         "x": [
          "Philadelphia",
          "Rio de Janeiro"
         ],
         "xaxis": "x2",
         "y": [
          261,
          239
         ],
         "yaxis": "y2"
        },
        {
         "marker": {
          "color": "red"
         },
         "name": "Risk vs Distance",
         "type": "box",
         "x": [
          "High",
          "Medium",
          "Medium",
          "Medium",
          "Low",
          "Low",
          "Medium",
          "High",
          "Low",
          "Low",
          "Medium",
          "High",
          "Medium",
          "Low",
          "Medium",
          "High",
          "Low",
          "Medium",
          "Medium",
          "Low",
          "Low",
          "Medium",
          "High",
          "Medium",
          "High",
          "Low",
          "High",
          "High",
          "Medium",
          "Low",
          "Medium",
          "Low",
          "Low",
          "Low",
          "Medium",
          "Low",
          "Medium",
          "Medium",
          "Medium",
          "Medium",
          "High",
          "High",
          "High",
          "High",
          "High",
          "Low",
          "High",
          "Medium",
          "High",
          "High",
          "High",
          "Low",
          "Low",
          "Medium",
          "Medium",
          "High",
          "Medium",
          "Low",
          "High",
          "High",
          "Low",
          "Medium",
          "Medium",
          "Medium",
          "Medium",
          "High",
          "Low",
          "High",
          "High",
          "High",
          "Low",
          "High",
          "High",
          "High",
          "Low",
          "Medium",
          "High",
          "Low",
          "Medium",
          "Medium",
          "High",
          "Low",
          "High",
          "High",
          "Medium",
          "High",
          "Low",
          "High",
          "High",
          "High",
          "High",
          "High",
          "Low",
          "Low",
          "Low",
          "Low",
          "Low",
          "Low",
          "High",
          "High",
          "High",
          "High",
          "Low",
          "Low",
          "Low",
          "Medium",
          "Medium",
          "High",
          "Low",
          "Low",
          "Medium",
          "Medium",
          "Low",
          "Low",
          "Medium",
          "Medium",
          "Low",
          "High",
          "High",
          "Low",
          "Low",
          "Medium",
          "Low",
          "Medium",
          "Low",
          "Low",
          "Medium",
          "High",
          "Medium",
          "High",
          "High",
          "High",
          "Low",
          "Medium",
          "High",
          "High",
          "Medium",
          "Low",
          "Medium",
          "Medium",
          "Medium",
          "High",
          "High",
          "High",
          "Low",
          "Medium",
          "Low",
          "High",
          "Medium",
          "Low",
          "High",
          "Low",
          "Low",
          "High",
          "Medium",
          "Medium",
          "High",
          "Medium",
          "Medium",
          "High",
          "Low",
          "Medium",
          "High",
          "Medium",
          "Medium",
          "High",
          "High",
          "High",
          "High",
          "High",
          "High",
          "Low",
          "Low",
          "High",
          "High",
          "Low",
          "High",
          "High",
          "Low",
          "Low",
          "High",
          "Medium",
          "High",
          "Medium",
          "Low",
          "High",
          "High",
          "Medium",
          "Low",
          "High",
          "High",
          "Medium",
          "Medium",
          "High",
          "High",
          "Low",
          "Low",
          "Low",
          "High",
          "Low",
          "High",
          "High",
          "High",
          "High",
          "Low",
          "High",
          "Medium",
          "Medium",
          "Low",
          "High",
          "Low",
          "Medium",
          "Medium",
          "Medium",
          "Low",
          "High",
          "High",
          "Low",
          "Low",
          "High",
          "Low",
          "High",
          "High",
          "Medium",
          "High",
          "High",
          "Low",
          "Low",
          "Low",
          "Low",
          "Medium",
          "Low",
          "Medium",
          "Low",
          "Low",
          "Medium",
          "High",
          "Low",
          "Low",
          "Medium",
          "Low",
          "High",
          "Low",
          "Low",
          "Medium",
          "Medium",
          "High",
          "High",
          "High",
          "High",
          "Low",
          "High",
          "High",
          "High",
          "High",
          "Medium",
          "High",
          "Low",
          "Low",
          "High",
          "Medium",
          "Low",
          "Low",
          "Low",
          "High",
          "Medium",
          "Medium",
          "Medium",
          "Low",
          "High",
          "Low",
          "High",
          "Low",
          "High",
          "High",
          "Low",
          "Low",
          "High",
          "Medium",
          "Medium",
          "High",
          "High",
          "Medium",
          "Medium",
          "High",
          "High",
          "High",
          "High",
          "Medium",
          "High",
          "High",
          "Medium",
          "Medium",
          "High",
          "Medium",
          "High",
          "Low",
          "Medium",
          "Low",
          "Low",
          "Medium",
          "High",
          "High",
          "Low",
          "High",
          "Medium",
          "High",
          "High",
          "Low",
          "Medium",
          "High",
          "Low",
          "Medium",
          "Medium",
          "Medium",
          "Medium",
          "Low",
          "High",
          "High",
          "High",
          "Low",
          "Medium",
          "Low",
          "Medium",
          "High",
          "Low",
          "High",
          "Low",
          "Medium",
          "High",
          "Medium",
          "Low",
          "High",
          "Low",
          "High",
          "Medium",
          "Medium",
          "Low",
          "Low",
          "Low",
          "High",
          "High",
          "Medium",
          "High",
          "Low",
          "Low",
          "Low",
          "High",
          "High",
          "Low",
          "Low",
          "High",
          "High",
          "High",
          "Low",
          "High",
          "Medium",
          "Low",
          "High",
          "Medium",
          "Low",
          "High",
          "Medium",
          "Medium",
          "High",
          "Low",
          "Low",
          "Medium",
          "Low",
          "Medium",
          "Medium",
          "Low",
          "Low",
          "Low",
          "Low",
          "Low",
          "Medium",
          "Medium",
          "Medium",
          "Medium",
          "High",
          "High",
          "High",
          "High",
          "High",
          "High",
          "High",
          "Medium",
          "Low",
          "High",
          "Low",
          "High",
          "Low",
          "Low",
          "Low",
          "High",
          "Low",
          "Low",
          "Medium",
          "Medium",
          "Low",
          "High",
          "Low",
          "Low",
          "Medium",
          "Medium",
          "Medium",
          "Medium",
          "Low",
          "Low",
          "High",
          "High",
          "High",
          "Low",
          "High",
          "High",
          "Low",
          "High",
          "High",
          "Medium",
          "Low",
          "High",
          "High",
          "High",
          "High",
          "Medium",
          "Medium",
          "High",
          "Medium",
          "High",
          "Low",
          "Medium",
          "High",
          "Low",
          "Low",
          "Low",
          "Medium",
          "Low",
          "Medium",
          "Medium",
          "High",
          "Low",
          "Low",
          "High",
          "High",
          "Medium",
          "Medium",
          "High",
          "Medium",
          "High",
          "Low",
          "Medium",
          "High",
          "High",
          "Medium",
          "Medium",
          "Low",
          "High",
          "Low",
          "Low",
          "Medium",
          "Medium",
          "Medium",
          "Low",
          "Low",
          "High",
          "High",
          "Low",
          "High",
          "Low",
          "High",
          "Low",
          "High",
          "High",
          "High",
          "High",
          "Medium",
          "Low",
          "Low",
          "Low",
          "High",
          "High",
          "High",
          "High",
          "Low",
          "Medium",
          "Medium",
          "Medium",
          "Medium",
          "Low",
          "Medium",
          "Low",
          "Low",
          "Low",
          "Medium",
          "High",
          "Low",
          "Medium",
          "Medium",
          "High"
         ],
         "xaxis": "x3",
         "y": {
          "bdata": "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",
          "dtype": "f8"
         },
         "yaxis": "y3"
        },
        {
         "marker": {
          "color": {
           "bdata": "LgAAABkAAAARAAAAHQAAAAgAAAAPAAAAGwAAAC4AAAAHAAAAAwAAAB0AAAAsAAAAGAAAAAMAAAAUAAAALgAAAA8AAAAZAAAAHgAAAA4AAAAHAAAAEQAAACwAAAAUAAAAJAAAAAkAAAAmAAAAMAAAABYAAAACAAAAGAAAAAgAAAALAAAADQAAABEAAAAIAAAAFQAAABIAAAAeAAAAEgAAAC4AAAAvAAAAHwAAACYAAAAgAAAACwAAAC0AAAAZAAAAIQAAACYAAAApAAAACAAAAAsAAAAWAAAAGAAAACkAAAARAAAADAAAAC4AAAAgAAAADwAAABAAAAAWAAAAHAAAABQAAAAhAAAACgAAACgAAAAgAAAAIQAAAAIAAAAhAAAAIQAAACkAAAANAAAAHgAAACEAAAANAAAAGgAAABYAAAAnAAAAAgAAACYAAAAnAAAAGgAAAC4AAAAPAAAAIgAAACoAAAAsAAAAMQAAACgAAAALAAAAAwAAAAYAAAAJAAAABgAAAAkAAAAnAAAAHwAAACAAAAApAAAADAAAAAgAAAAIAAAAHAAAABQAAAAvAAAABwAAAAsAAAAUAAAAEAAAAAQAAAAGAAAAFgAAABoAAAADAAAAKQAAACoAAAAOAAAACwAAABIAAAAMAAAAFwAAAAwAAAANAAAAGQAAAC0AAAATAAAALgAAACQAAAAtAAAACAAAAB0AAAAgAAAALAAAABIAAAAGAAAAEgAAABMAAAAWAAAAJQAAACAAAAApAAAAAwAAABwAAAAKAAAAIwAAAB0AAAAPAAAAIQAAAAcAAAAMAAAAMQAAAB4AAAAVAAAAHwAAABgAAAAUAAAAJQAAAAQAAAAcAAAALAAAABQAAAAYAAAAMQAAACAAAAApAAAAJAAAACIAAAAkAAAAAgAAAA8AAAAiAAAAJAAAAAYAAAAnAAAAKgAAAAwAAAADAAAALQAAABIAAAAoAAAAFQAAAA8AAAAhAAAAIwAAABoAAAAIAAAAJAAAADAAAAAeAAAAFwAAACoAAAAsAAAADgAAAA4AAAACAAAAJQAAAAUAAAAmAAAALQAAACkAAAAvAAAADgAAACcAAAAZAAAAFAAAAAIAAAAnAAAABgAAABEAAAAZAAAAHAAAAAIAAAAjAAAAJQAAAAUAAAABAAAAKAAAAAwAAAAkAAAALQAAABcAAAAvAAAAHwAAAAsAAAAKAAAAAwAAAA4AAAAQAAAACgAAAB0AAAAKAAAADAAAAB4AAAApAAAAAQAAAAUAAAAUAAAACAAAACsAAAAMAAAAAQAAABQAAAAcAAAAKwAAACUAAAAvAAAAJQAAAAwAAAAlAAAAMQAAADEAAAAsAAAAHAAAAC8AAAAPAAAABgAAACwAAAAUAAAADgAAAAIAAAAJAAAAJQAAABQAAAAaAAAAHQAAAAEAAAAjAAAABgAAACUAAAAFAAAAIQAAADEAAAAOAAAADAAAACoAAAAUAAAAGAAAACsAAAAiAAAAGQAAAB0AAAAnAAAAHwAAAC8AAAArAAAAFwAAACwAAAAmAAAAFAAAABcAAAAtAAAAEAAAACoAAAAIAAAAFQAAAAEAAAAIAAAAHQAAACAAAAAmAAAABQAAAC8AAAAWAAAALwAAACIAAAABAAAAGgAAACsAAAAKAAAAHgAAABIAAAARAAAAGgAAAAgAAAAvAAAAKAAAADEAAAAMAAAAGwAAAAgAAAAZAAAALgAAAAQAAAAhAAAAAQAAABMAAAAfAAAAEAAAAA4AAAAwAAAABQAAACkAAAAaAAAAHAAAAAIAAAAGAAAACQAAACEAAAApAAAAGQAAADAAAAANAAAACQAAAA0AAAAfAAAAKQAAAAsAAAAEAAAAIgAAACYAAAAuAAAABAAAACYAAAATAAAABgAAACIAAAASAAAADQAAACkAAAAXAAAAEwAAAC0AAAALAAAAAQAAABgAAAAHAAAAGQAAABUAAAAPAAAAAQAAAAwAAAAHAAAADwAAABUAAAATAAAAHQAAABkAAAAhAAAAMQAAACAAAAAxAAAAIwAAACwAAAAmAAAAGgAAAAsAAAAjAAAACAAAAC4AAAAOAAAACgAAAAIAAAAuAAAACQAAAAMAAAAVAAAAGgAAAAgAAAAwAAAAAgAAAAYAAAAcAAAAHQAAABoAAAAZAAAADAAAAAUAAAAiAAAAMAAAACUAAAAPAAAALAAAACQAAAAPAAAAKwAAADAAAAAXAAAABgAAAC4AAAAsAAAAKwAAAC0AAAAVAAAAFwAAACsAAAAQAAAALwAAAA8AAAAZAAAAJAAAAAsAAAAPAAAABAAAABUAAAANAAAAFgAAABMAAAAiAAAADgAAAAQAAAAwAAAALgAAABsAAAAdAAAALwAAABwAAAAjAAAACAAAABAAAAAqAAAAJAAAAB4AAAASAAAAAgAAADEAAAANAAAABAAAABoAAAAZAAAAHgAAAAsAAAAHAAAAHwAAACwAAAAKAAAAJwAAAA0AAAAfAAAABwAAADEAAAAqAAAAKgAAACQAAAAUAAAABAAAAAcAAAABAAAALAAAAC0AAAAqAAAALwAAAA0AAAAWAAAAFQAAABYAAAAcAAAACQAAABoAAAAJAAAADwAAAAoAAAAYAAAAKgAAAAgAAAAYAAAAEAAAADEAAAA=",
           "dtype": "i4"
          },
          "colorbar": {
           "len": 0.4,
           "title": {
            "text": "Risk ID"
           },
           "x": 0.63
          },
          "colorscale": [
           [
            0,
            "#440154"
           ],
           [
            0.1111111111111111,
            "#482878"
           ],
           [
            0.2222222222222222,
            "#3e4989"
           ],
           [
            0.3333333333333333,
            "#31688e"
           ],
           [
            0.4444444444444444,
            "#26828e"
           ],
           [
            0.5555555555555556,
            "#1f9e89"
           ],
           [
            0.6666666666666666,
            "#35b779"
           ],
           [
            0.7777777777777778,
            "#6ece58"
           ],
           [
            0.8888888888888888,
            "#b5de2b"
           ],
           [
            1,
            "#fde725"
           ]
          ],
          "showscale": true,
          "size": 5
         },
         "mode": "markers",
         "type": "scatter",
         "x": {
          "bdata": "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",
          "dtype": "f8"
         },
         "xaxis": "x4",
         "y": {
          "bdata": "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",
          "dtype": "f8"
         },
         "yaxis": "y4"
        },
        {
         "marker": {
          "color": [
           "red",
           "blue",
           "blue",
           "blue",
           "blue",
           "blue"
          ],
          "size": [
           40,
           25,
           25,
           25,
           25,
           25
          ]
         },
         "mode": "markers+text",
         "text": [
          "FACT: Passes",
          "DIM: Satellite",
          "DIM: Location",
          "DIM: Time",
          "DIM: Orbit",
          "DIM: Risk"
         ],
         "textposition": "top center",
         "type": "scatter",
         "x": [
          0,
          -1,
          -1,
          0,
          1,
          1
         ],
         "xaxis": "x5",
         "y": [
          0,
          1,
          -1,
          -1.5,
          -1,
          1
         ],
         "yaxis": "y5"
        },
        {
         "line": {
          "color": "gray",
          "width": 1
         },
         "mode": "lines",
         "showlegend": false,
         "type": "scatter",
         "x": [
          0,
          -1
         ],
         "xaxis": "x5",
         "y": [
          0,
          1
         ],
         "yaxis": "y5"
        },
        {
         "line": {
          "color": "gray",
          "width": 1
         },
         "mode": "lines",
         "showlegend": false,
         "type": "scatter",
         "x": [
          0,
          -1
         ],
         "xaxis": "x5",
         "y": [
          0,
          -1
         ],
         "yaxis": "y5"
        },
        {
         "line": {
          "color": "gray",
          "width": 1
         },
         "mode": "lines",
         "showlegend": false,
         "type": "scatter",
         "x": [
          0,
          0
         ],
         "xaxis": "x5",
         "y": [
          0,
          -1.5
         ],
         "yaxis": "y5"
        },
        {
         "line": {
          "color": "gray",
          "width": 1
         },
         "mode": "lines",
         "showlegend": false,
         "type": "scatter",
         "x": [
          0,
          1
         ],
         "xaxis": "x5",
         "y": [
          0,
          -1
         ],
         "yaxis": "y5"
        },
        {
         "line": {
          "color": "gray",
          "width": 1
         },
         "mode": "lines",
         "showlegend": false,
         "type": "scatter",
         "x": [
          0,
          1
         ],
         "xaxis": "x5",
         "y": [
          0,
          1
         ],
         "yaxis": "y5"
        },
        {
         "cells": {
          "align": "left",
          "fill": {
           "color": "white"
          },
          "values": [
           [
            1,
            2,
            3,
            4,
            5
           ],
           [
            52,
            93,
            15,
            72,
            61
           ],
           [
            2,
            2,
            2,
            1,
            1
           ],
           [
            46,
            25,
            17,
            29,
            8
           ],
           [
            778.99,
            1648.84,
            839.69,
            1716.18,
            1077.98
           ],
           [
            12.28,
            0.52,
            0.76,
            5.16,
            3.5
           ]
          ]
         },
         "domain": {
          "x": [
           0.7111111111111111,
           1
          ],
          "y": [
           0,
           0.375
          ]
         },
         "header": {
          "align": "left",
          "fill": {
           "color": "lightgray"
          },
          "values": [
           "pass_id",
           "satellite_id",
           "location_id",
           "risk_id",
           "distance_km",
           "debris_density_index"
          ]
         },
         "type": "table"
        }
       ],
       "layout": {
        "annotations": [
         {
          "font": {
           "size": 16
          },
          "showarrow": false,
          "text": "Fact Table Record Distribution",
          "x": 0.14444444444444446,
          "xanchor": "center",
          "xref": "paper",
          "y": 1,
          "yanchor": "bottom",
          "yref": "paper"
         },
         {
          "font": {
           "size": 16
          },
          "showarrow": false,
          "text": "Satellite Passes by Location",
          "x": 0.5,
          "xanchor": "center",
          "xref": "paper",
          "y": 1,
          "yanchor": "bottom",
          "yref": "paper"
         },
         {
          "font": {
           "size": 16
          },
          "showarrow": false,
          "text": "Risk Distribution Across Passes",
          "x": 0.8555555555555556,
          "xanchor": "center",
          "xref": "paper",
          "y": 1,
          "yanchor": "bottom",
          "yref": "paper"
         },
         {
          "font": {
           "size": 16
          },
          "showarrow": false,
          "text": "Debris Density by Distance",
          "x": 0.14444444444444446,
          "xanchor": "center",
          "xref": "paper",
          "y": 0.375,
          "yanchor": "bottom",
          "yref": "paper"
         },
         {
          "font": {
           "size": 16
          },
          "showarrow": false,
          "text": "Star Schema Relationships",
          "x": 0.5,
          "xanchor": "center",
          "xref": "paper",
          "y": 0.375,
          "yanchor": "bottom",
          "yref": "paper"
         },
         {
          "font": {
           "size": 16
          },
          "showarrow": false,
          "text": "Fact Table Sample Records",
          "x": 0.8555555555555556,
          "xanchor": "center",
          "xref": "paper",
          "y": 0.375,
          "yanchor": "bottom",
          "yref": "paper"
         }
        ],
        "height": 700,
        "showlegend": false,
        "template": {
         "data": {
          "bar": [
           {
            "error_x": {
             "color": "#2a3f5f"
            },
            "error_y": {
             "color": "#2a3f5f"
            },
            "marker": {
             "line": {
              "color": "#E5ECF6",
              "width": 0.5
             },
             "pattern": {
              "fillmode": "overlay",
              "size": 10,
              "solidity": 0.2
             }
            },
            "type": "bar"
           }
          ],
          "barpolar": [
           {
            "marker": {
             "line": {
              "color": "#E5ECF6",
              "width": 0.5
             },
             "pattern": {
              "fillmode": "overlay",
              "size": 10,
              "solidity": 0.2
             }
            },
            "type": "barpolar"
           }
          ],
          "carpet": [
           {
            "aaxis": {
             "endlinecolor": "#2a3f5f",
             "gridcolor": "white",
             "linecolor": "white",
             "minorgridcolor": "white",
             "startlinecolor": "#2a3f5f"
            },
            "baxis": {
             "endlinecolor": "#2a3f5f",
             "gridcolor": "white",
             "linecolor": "white",
             "minorgridcolor": "white",
             "startlinecolor": "#2a3f5f"
            },
            "type": "carpet"
           }
          ],
          "choropleth": [
           {
            "colorbar": {
             "outlinewidth": 0,
             "ticks": ""
            },
            "type": "choropleth"
           }
          ],
          "contour": [
           {
            "colorbar": {
             "outlinewidth": 0,
             "ticks": ""
            },
            "colorscale": [
             [
              0,
              "#0d0887"
             ],
             [
              0.1111111111111111,
              "#46039f"
             ],
             [
              0.2222222222222222,
              "#7201a8"
             ],
             [
              0.3333333333333333,
              "#9c179e"
             ],
             [
              0.4444444444444444,
              "#bd3786"
             ],
             [
              0.5555555555555556,
              "#d8576b"
             ],
             [
              0.6666666666666666,
              "#ed7953"
             ],
             [
              0.7777777777777778,
              "#fb9f3a"
             ],
             [
              0.8888888888888888,
              "#fdca26"
             ],
             [
              1,
              "#f0f921"
             ]
            ],
            "type": "contour"
           }
          ],
          "contourcarpet": [
           {
            "colorbar": {
             "outlinewidth": 0,
             "ticks": ""
            },
            "type": "contourcarpet"
           }
          ],
          "heatmap": [
           {
            "colorbar": {
             "outlinewidth": 0,
             "ticks": ""
            },
            "colorscale": [
             [
              0,
              "#0d0887"
             ],
             [
              0.1111111111111111,
              "#46039f"
             ],
             [
              0.2222222222222222,
              "#7201a8"
             ],
             [
              0.3333333333333333,
              "#9c179e"
             ],
             [
              0.4444444444444444,
              "#bd3786"
             ],
             [
              0.5555555555555556,
              "#d8576b"
             ],
             [
              0.6666666666666666,
              "#ed7953"
             ],
             [
              0.7777777777777778,
              "#fb9f3a"
             ],
             [
              0.8888888888888888,
              "#fdca26"
             ],
             [
              1,
              "#f0f921"
             ]
            ],
            "type": "heatmap"
           }
          ],
          "histogram": [
           {
            "marker": {
             "pattern": {
              "fillmode": "overlay",
              "size": 10,
              "solidity": 0.2
             }
            },
            "type": "histogram"
           }
          ],
          "histogram2d": [
           {
            "colorbar": {
             "outlinewidth": 0,
             "ticks": ""
            },
            "colorscale": [
             [
              0,
              "#0d0887"
             ],
             [
              0.1111111111111111,
              "#46039f"
             ],
             [
              0.2222222222222222,
              "#7201a8"
             ],
             [
              0.3333333333333333,
              "#9c179e"
             ],
             [
              0.4444444444444444,
              "#bd3786"
             ],
             [
              0.5555555555555556,
              "#d8576b"
             ],
             [
              0.6666666666666666,
              "#ed7953"
             ],
             [
              0.7777777777777778,
              "#fb9f3a"
             ],
             [
              0.8888888888888888,
              "#fdca26"
             ],
             [
              1,
              "#f0f921"
             ]
            ],
            "type": "histogram2d"
           }
          ],
          "histogram2dcontour": [
           {
            "colorbar": {
             "outlinewidth": 0,
             "ticks": ""
            },
            "colorscale": [
             [
              0,
              "#0d0887"
             ],
             [
              0.1111111111111111,
              "#46039f"
             ],
             [
              0.2222222222222222,
              "#7201a8"
             ],
             [
              0.3333333333333333,
              "#9c179e"
             ],
             [
              0.4444444444444444,
              "#bd3786"
             ],
             [
              0.5555555555555556,
              "#d8576b"
             ],
             [
              0.6666666666666666,
              "#ed7953"
             ],
             [
              0.7777777777777778,
              "#fb9f3a"
             ],
             [
              0.8888888888888888,
              "#fdca26"
             ],
             [
              1,
              "#f0f921"
             ]
            ],
            "type": "histogram2dcontour"
           }
          ],
          "mesh3d": [
           {
            "colorbar": {
             "outlinewidth": 0,
             "ticks": ""
            },
            "type": "mesh3d"
           }
          ],
          "parcoords": [
           {
            "line": {
             "colorbar": {
              "outlinewidth": 0,
              "ticks": ""
             }
            },
            "type": "parcoords"
           }
          ],
          "pie": [
           {
            "automargin": true,
            "type": "pie"
           }
          ],
          "scatter": [
           {
            "fillpattern": {
             "fillmode": "overlay",
             "size": 10,
             "solidity": 0.2
            },
            "type": "scatter"
           }
          ],
          "scatter3d": [
           {
            "line": {
             "colorbar": {
              "outlinewidth": 0,
              "ticks": ""
             }
            },
            "marker": {
             "colorbar": {
              "outlinewidth": 0,
              "ticks": ""
             }
            },
            "type": "scatter3d"
           }
          ],
          "scattercarpet": [
           {
            "marker": {
             "colorbar": {
              "outlinewidth": 0,
              "ticks": ""
             }
            },
            "type": "scattercarpet"
           }
          ],
          "scattergeo": [
           {
            "marker": {
             "colorbar": {
              "outlinewidth": 0,
              "ticks": ""
             }
            },
            "type": "scattergeo"
           }
          ],
          "scattergl": [
           {
            "marker": {
             "colorbar": {
              "outlinewidth": 0,
              "ticks": ""
             }
            },
            "type": "scattergl"
           }
          ],
          "scattermap": [
           {
            "marker": {
             "colorbar": {
              "outlinewidth": 0,
              "ticks": ""
             }
            },
            "type": "scattermap"
           }
          ],
          "scattermapbox": [
           {
            "marker": {
             "colorbar": {
              "outlinewidth": 0,
              "ticks": ""
             }
            },
            "type": "scattermapbox"
           }
          ],
          "scatterpolar": [
           {
            "marker": {
             "colorbar": {
              "outlinewidth": 0,
              "ticks": ""
             }
            },
            "type": "scatterpolar"
           }
          ],
          "scatterpolargl": [
           {
            "marker": {
             "colorbar": {
              "outlinewidth": 0,
              "ticks": ""
             }
            },
            "type": "scatterpolargl"
           }
          ],
          "scatterternary": [
           {
            "marker": {
             "colorbar": {
              "outlinewidth": 0,
              "ticks": ""
             }
            },
            "type": "scatterternary"
           }
          ],
          "surface": [
           {
            "colorbar": {
             "outlinewidth": 0,
             "ticks": ""
            },
            "colorscale": [
             [
              0,
              "#0d0887"
             ],
             [
              0.1111111111111111,
              "#46039f"
             ],
             [
              0.2222222222222222,
              "#7201a8"
             ],
             [
              0.3333333333333333,
              "#9c179e"
             ],
             [
              0.4444444444444444,
              "#bd3786"
             ],
             [
              0.5555555555555556,
              "#d8576b"
             ],
             [
              0.6666666666666666,
              "#ed7953"
             ],
             [
              0.7777777777777778,
              "#fb9f3a"
             ],
             [
              0.8888888888888888,
              "#fdca26"
             ],
             [
              1,
              "#f0f921"
             ]
            ],
            "type": "surface"
           }
          ],
          "table": [
           {
            "cells": {
             "fill": {
              "color": "#EBF0F8"
             },
             "line": {
              "color": "white"
             }
            },
            "header": {
             "fill": {
              "color": "#C8D4E3"
             },
             "line": {
              "color": "white"
             }
            },
            "type": "table"
           }
          ]
         },
         "layout": {
          "annotationdefaults": {
           "arrowcolor": "#2a3f5f",
           "arrowhead": 0,
           "arrowwidth": 1
          },
          "autotypenumbers": "strict",
          "coloraxis": {
           "colorbar": {
            "outlinewidth": 0,
            "ticks": ""
           }
          },
          "colorscale": {
           "diverging": [
            [
             0,
             "#8e0152"
            ],
            [
             0.1,
             "#c51b7d"
            ],
            [
             0.2,
             "#de77ae"
            ],
            [
             0.3,
             "#f1b6da"
            ],
            [
             0.4,
             "#fde0ef"
            ],
            [
             0.5,
             "#f7f7f7"
            ],
            [
             0.6,
             "#e6f5d0"
            ],
            [
             0.7,
             "#b8e186"
            ],
            [
             0.8,
             "#7fbc41"
            ],
            [
             0.9,
             "#4d9221"
            ],
            [
             1,
             "#276419"
            ]
           ],
           "sequential": [
            [
             0,
             "#0d0887"
            ],
            [
             0.1111111111111111,
             "#46039f"
            ],
            [
             0.2222222222222222,
             "#7201a8"
            ],
            [
             0.3333333333333333,
             "#9c179e"
            ],
            [
             0.4444444444444444,
             "#bd3786"
            ],
            [
             0.5555555555555556,
             "#d8576b"
            ],
            [
             0.6666666666666666,
             "#ed7953"
            ],
            [
             0.7777777777777778,
             "#fb9f3a"
            ],
            [
             0.8888888888888888,
             "#fdca26"
            ],
            [
             1,
             "#f0f921"
            ]
           ],
           "sequentialminus": [
            [
             0,
             "#0d0887"
            ],
            [
             0.1111111111111111,
             "#46039f"
            ],
            [
             0.2222222222222222,
             "#7201a8"
            ],
            [
             0.3333333333333333,
             "#9c179e"
            ],
            [
             0.4444444444444444,
             "#bd3786"
            ],
            [
             0.5555555555555556,
             "#d8576b"
            ],
            [
             0.6666666666666666,
             "#ed7953"
            ],
            [
             0.7777777777777778,
             "#fb9f3a"
            ],
            [
             0.8888888888888888,
             "#fdca26"
            ],
            [
             1,
             "#f0f921"
            ]
           ]
          },
          "colorway": [
           "#636efa",
           "#EF553B",
           "#00cc96",
           "#ab63fa",
           "#FFA15A",
           "#19d3f3",
           "#FF6692",
           "#B6E880",
           "#FF97FF",
           "#FECB52"
          ],
          "font": {
           "color": "#2a3f5f"
          },
          "geo": {
           "bgcolor": "white",
           "lakecolor": "white",
           "landcolor": "#E5ECF6",
           "showlakes": true,
           "showland": true,
           "subunitcolor": "white"
          },
          "hoverlabel": {
           "align": "left"
          },
          "hovermode": "closest",
          "mapbox": {
           "style": "light"
          },
          "paper_bgcolor": "white",
          "plot_bgcolor": "#E5ECF6",
          "polar": {
           "angularaxis": {
            "gridcolor": "white",
            "linecolor": "white",
            "ticks": ""
           },
           "bgcolor": "#E5ECF6",
           "radialaxis": {
            "gridcolor": "white",
            "linecolor": "white",
            "ticks": ""
           }
          },
          "scene": {
           "xaxis": {
            "backgroundcolor": "#E5ECF6",
            "gridcolor": "white",
            "gridwidth": 2,
            "linecolor": "white",
            "showbackground": true,
            "ticks": "",
            "zerolinecolor": "white"
           },
           "yaxis": {
            "backgroundcolor": "#E5ECF6",
            "gridcolor": "white",
            "gridwidth": 2,
            "linecolor": "white",
            "showbackground": true,
            "ticks": "",
            "zerolinecolor": "white"
           },
           "zaxis": {
            "backgroundcolor": "#E5ECF6",
            "gridcolor": "white",
            "gridwidth": 2,
            "linecolor": "white",
            "showbackground": true,
            "ticks": "",
            "zerolinecolor": "white"
           }
          },
          "shapedefaults": {
           "line": {
            "color": "#2a3f5f"
           }
          },
          "ternary": {
           "aaxis": {
            "gridcolor": "white",
            "linecolor": "white",
            "ticks": ""
           },
           "baxis": {
            "gridcolor": "white",
            "linecolor": "white",
            "ticks": ""
           },
           "bgcolor": "#E5ECF6",
           "caxis": {
            "gridcolor": "white",
            "linecolor": "white",
            "ticks": ""
           }
          },
          "title": {
           "x": 0.05
          },
          "xaxis": {
           "automargin": true,
           "gridcolor": "white",
           "linecolor": "white",
           "ticks": "",
           "title": {
            "standoff": 15
           },
           "zerolinecolor": "white",
           "zerolinewidth": 2
          },
          "yaxis": {
           "automargin": true,
           "gridcolor": "white",
           "linecolor": "white",
           "ticks": "",
           "title": {
            "standoff": 15
           },
           "zerolinecolor": "white",
           "zerolinewidth": 2
          }
         }
        },
        "title": {
         "text": "Space Situational Awareness - Fact Table Analysis"
        },
        "xaxis": {
         "anchor": "y",
         "domain": [
          0,
          0.2888888888888889
         ],
         "title": {
          "text": "Time ID (Day of Year)"
         }
        },
        "xaxis2": {
         "anchor": "y2",
         "domain": [
          0.35555555555555557,
          0.6444444444444445
         ],
         "title": {
          "text": "City"
         }
        },
        "xaxis3": {
         "anchor": "y3",
         "domain": [
          0.7111111111111111,
          1
         ],
         "title": {
          "text": "Risk Category"
         }
        },
        "xaxis4": {
         "anchor": "y4",
         "domain": [
          0,
          0.2888888888888889
         ],
         "title": {
          "text": "Distance (km)"
         }
        },
        "xaxis5": {
         "anchor": "y5",
         "domain": [
          0.35555555555555557,
          0.6444444444444445
         ],
         "showgrid": false,
         "showticklabels": false
        },
        "yaxis": {
         "anchor": "x",
         "domain": [
          0.625,
          1
         ],
         "title": {
          "text": "Count"
         }
        },
        "yaxis2": {
         "anchor": "x2",
         "domain": [
          0.625,
          1
         ],
         "title": {
          "text": "Number of Passes"
         }
        },
        "yaxis3": {
         "anchor": "x3",
         "domain": [
          0.625,
          1
         ],
         "title": {
          "text": "Distance (km)"
         }
        },
        "yaxis4": {
         "anchor": "x4",
         "domain": [
          0,
          0.375
         ],
         "title": {
          "text": "Debris Density Index"
         }
        },
        "yaxis5": {
         "anchor": "x5",
         "domain": [
          0,
          0.375
         ],
         "showgrid": false,
         "showticklabels": false
        }
       }
      }
     },
     "metadata": {},
     "output_type": "display_data"
    },
    {
     "name": "stdout",
     "output_type": "stream",
     "text": [
      "Fact Table Analytics Summary\n",
      "==================================================\n",
      "Total Records: 500\n",
      "Unique Satellites: 99\n",
      "Average Distance: 1190.6 km\n",
      "High Risk Passes (risk_id > 30): 192\n",
      "Average Debris Density: 9.92\n",
      "\n",
      "Passes by Location:\n",
      "  Philadelphia: 261\n",
      "  Rio de Janeiro: 239\n"
     ]
    }
   ],
   "source": [
    "import pandas as pd\n",
    "import numpy as np  # ADD THIS LINE\n",
    "import plotly.graph_objects as go\n",
    "from plotly.subplots import make_subplots\n",
    "\n",
    "\n",
    "# First, create sample data for visualization\n",
    "def generate_sample_fact_table():\n",
    "    \"\"\"Generate sample fact table data for visualization\"\"\"\n",
    "    \n",
    "    # Create sample fact table\n",
    "    np.random.seed(42)\n",
    "    n_records = 500\n",
    "    \n",
    "    fact_table = pd.DataFrame({\n",
    "        'pass_id': range(1, n_records + 1),\n",
    "        'satellite_id': np.random.randint(1, 101, n_records),\n",
    "        'location_id': np.random.choice([1, 2], n_records),  # Philadelphia or Rio\n",
    "        'time_id': np.random.randint(1, 365, n_records),\n",
    "        'orbit_id': np.random.randint(1, 101, n_records),\n",
    "        'risk_id': np.random.randint(1, 50, n_records),\n",
    "        'distance_km': np.random.uniform(400, 2000, n_records),\n",
    "        'max_elevation_deg': np.random.uniform(10, 90, n_records),\n",
    "        'debris_density_index': np.random.exponential(10, n_records),\n",
    "        'collision_probability': np.random.exponential(0.00001, n_records),\n",
    "    })\n",
    "    \n",
    "    return fact_table\n",
    "\n",
    "# Generate the data\n",
    "fact_df = generate_sample_fact_table()\n",
    "\n",
    "# Create visualizations\n",
    "fig = make_subplots(\n",
    "    rows=2, cols=3,\n",
    "    subplot_titles=(\n",
    "        'Fact Table Record Distribution',\n",
    "        'Satellite Passes by Location', \n",
    "        'Risk Distribution Across Passes',\n",
    "        'Debris Density by Distance',\n",
    "        'Star Schema Relationships',\n",
    "        'Fact Table Sample Records'\n",
    "    ),\n",
    "    specs=[\n",
    "        [{'type': 'histogram'}, {'type': 'bar'}, {'type': 'box'}],\n",
    "        [{'type': 'scatter'}, {'type': 'scatter'}, {'type': 'table'}]\n",
    "    ]\n",
    ")\n",
    "\n",
    "# 1. Record distribution over time\n",
    "fig.add_trace(\n",
    "    go.Histogram(x=fact_df['time_id'], nbinsx=30, \n",
    "                 marker_color='blue', name='Temporal Distribution'),\n",
    "    row=1, col=1\n",
    ")\n",
    "\n",
    "# 2. Passes by location\n",
    "location_counts = fact_df['location_id'].value_counts()\n",
    "fig.add_trace(\n",
    "    go.Bar(x=['Philadelphia', 'Rio de Janeiro'], \n",
    "           y=[location_counts.get(1, 0), location_counts.get(2, 0)],\n",
    "           marker_color=['green', 'orange'],\n",
    "           text=[location_counts.get(1, 0), location_counts.get(2, 0)],\n",
    "           textposition='outside'),\n",
    "    row=1, col=2\n",
    ")\n",
    "\n",
    "# 3. Risk distribution\n",
    "risk_categories = pd.cut(fact_df['risk_id'], bins=[0, 15, 30, 50], \n",
    "                         labels=['Low', 'Medium', 'High'])\n",
    "fig.add_trace(\n",
    "    go.Box(y=fact_df['distance_km'], x=risk_categories, \n",
    "           marker_color='red', name='Risk vs Distance'),\n",
    "    row=1, col=3\n",
    ")\n",
    "\n",
    "# 4. Debris density scatter\n",
    "fig.add_trace(\n",
    "    go.Scatter(x=fact_df['distance_km'], y=fact_df['debris_density_index'],\n",
    "               mode='markers', marker=dict(\n",
    "                   size=5,\n",
    "                   color=fact_df['risk_id'],\n",
    "                   colorscale='Viridis',\n",
    "                   showscale=True,\n",
    "                   colorbar=dict(title=\"Risk ID\", x=0.63, len=0.4)\n",
    "               )),\n",
    "    row=2, col=1\n",
    ")\n",
    "\n",
    "# 5. Star schema visualization using network position\n",
    "star_x = [0, -1, -1, 0, 1, 1]  # Fact table at center\n",
    "star_y = [0, 1, -1, -1.5, -1, 1]\n",
    "star_labels = ['FACT: Passes', 'DIM: Satellite', 'DIM: Location', \n",
    "               'DIM: Time', 'DIM: Orbit', 'DIM: Risk']\n",
    "\n",
    "fig.add_trace(\n",
    "    go.Scatter(x=star_x, y=star_y, mode='markers+text',\n",
    "               marker=dict(size=[40, 25, 25, 25, 25, 25],\n",
    "                          color=['red', 'blue', 'blue', 'blue', 'blue', 'blue']),\n",
    "               text=star_labels,\n",
    "               textposition='top center'),\n",
    "    row=2, col=2\n",
    ")\n",
    "\n",
    "# Add edges to show relationships\n",
    "for i in range(1, 6):\n",
    "    fig.add_trace(\n",
    "        go.Scatter(x=[0, star_x[i]], y=[0, star_y[i]],\n",
    "                   mode='lines', line=dict(color='gray', width=1),\n",
    "                   showlegend=False),\n",
    "        row=2, col=2\n",
    "    )\n",
    "\n",
    "# 6. Sample fact table records\n",
    "sample_data = fact_df.head(5)[['pass_id', 'satellite_id', 'location_id', \n",
    "                                'risk_id', 'distance_km', 'debris_density_index']]\n",
    "fig.add_trace(\n",
    "    go.Table(\n",
    "        header=dict(values=list(sample_data.columns),\n",
    "                   fill_color='lightgray',\n",
    "                   align='left'),\n",
    "        cells=dict(values=[sample_data[col].round(2) for col in sample_data.columns],\n",
    "                  fill_color='white',\n",
    "                  align='left')),\n",
    "    row=2, col=3\n",
    ")\n",
    "\n",
    "# Update layout\n",
    "fig.update_layout(\n",
    "    height=700,\n",
    "    showlegend=False,\n",
    "    title_text=\"Space Situational Awareness - Fact Table Analysis\"\n",
    ")\n",
    "\n",
    "fig.update_xaxes(title_text=\"Time ID (Day of Year)\", row=1, col=1)\n",
    "fig.update_xaxes(title_text=\"City\", row=1, col=2)\n",
    "fig.update_xaxes(title_text=\"Risk Category\", row=1, col=3)\n",
    "fig.update_xaxes(title_text=\"Distance (km)\", row=2, col=1)\n",
    "fig.update_xaxes(showticklabels=False, showgrid=False, row=2, col=2)\n",
    "\n",
    "fig.update_yaxes(title_text=\"Count\", row=1, col=1)\n",
    "fig.update_yaxes(title_text=\"Number of Passes\", row=1, col=2)\n",
    "fig.update_yaxes(title_text=\"Distance (km)\", row=1, col=3)\n",
    "fig.update_yaxes(title_text=\"Debris Density Index\", row=2, col=1)\n",
    "fig.update_yaxes(showticklabels=False, showgrid=False, row=2, col=2)\n",
    "\n",
    "fig.show()\n",
    "\n",
    "# Create a detailed analysis of fact table metrics\n",
    "print(\"Fact Table Analytics Summary\")\n",
    "print(\"=\"*50)\n",
    "print(f\"Total Records: {len(fact_df)}\")\n",
    "print(f\"Unique Satellites: {fact_df['satellite_id'].nunique()}\")\n",
    "print(f\"Average Distance: {fact_df['distance_km'].mean():.1f} km\")\n",
    "print(f\"High Risk Passes (risk_id > 30): {len(fact_df[fact_df['risk_id'] > 30])}\")\n",
    "print(f\"Average Debris Density: {fact_df['debris_density_index'].mean():.2f}\")\n",
    "print(f\"\\nPasses by Location:\")\n",
    "print(f\"  Philadelphia: {len(fact_df[fact_df['location_id'] == 1])}\")\n",
    "print(f\"  Rio de Janeiro: {len(fact_df[fact_df['location_id'] == 2])}\")"
   ]
  },
  {
   "cell_type": "code",
   "execution_count": 15,
   "id": "cddc4441",
   "metadata": {},
   "outputs": [
    {
     "data": {
      "application/vnd.plotly.v1+json": {
       "config": {
        "plotlyServerURL": "https://plot.ly"
       },
       "data": [
        {
         "line": {
          "color": "blue"
         },
         "mode": "lines",
         "name": "Philadelphia",
         "type": "scatter",
         "x": {
          "bdata": "AQAAAAMAAAAEAAAABQAAAAYAAAAIAAAACwAAAA4AAAAPAAAAEgAAABMAAAAUAAAAFgAAABcAAAAZAAAAHAAAAB0AAAAfAAAAIAAAACIAAAAmAAAAKgAAAC4AAAAvAAAAMQAAADUAAAA2AAAANwAAADwAAAA9AAAAPgAAAD8AAABDAAAARAAAAEUAAABJAAAASwAAAEwAAABOAAAAUQAAAFMAAABUAAAAVgAAAFgAAABZAAAAWgAAAF0AAABeAAAAXwAAAGAAAABhAAAAZQAAAGgAAABuAAAAbwAAAHEAAABzAAAAdgAAAHgAAAB9AAAAfgAAAH8AAACAAAAAggAAAIQAAACJAAAAjgAAAI8AAACQAAAAkQAAAJQAAACVAAAAlwAAAJgAAACaAAAAmwAAAJwAAACdAAAAnwAAAKEAAAClAAAAqAAAAKwAAACtAAAArwAAALEAAACyAAAAswAAALQAAAC2AAAAuAAAALsAAAC9AAAAwgAAAMUAAADGAAAAyAAAAMoAAADLAAAAzwAAANMAAADUAAAA1QAAANYAAADXAAAA2AAAANoAAADcAAAA3gAAAN8AAADgAAAA4QAAAOMAAADkAAAA5QAAAOcAAADpAAAA6gAAAOsAAADsAAAA7wAAAPMAAAD0AAAA+QAAAPsAAAD9AAAA/gAAAAEBAAADAQAABQEAAAYBAAAHAQAACAEAAAoBAAALAQAADgEAABEBAAATAQAAFQEAABgBAAAaAQAAHQEAAB4BAAAgAQAAIQEAACMBAAAkAQAAJQEAACYBAAAnAQAAKAEAACsBAAAsAQAALgEAAC8BAAAxAQAANQEAADcBAAA4AQAAOQEAADwBAAA+AQAAPwEAAEEBAABCAQAARAEAAEgBAABKAQAASwEAAE0BAABOAQAATwEAAFEBAABTAQAAVgEAAFoBAABeAQAAYwEAAGQBAABoAQAAaQEAAGsBAABsAQAA",
          "dtype": "i4"
         },
         "xaxis": "x",
         "y": {
          "bdata": "AAAAAAAAJkAAAAAAAABDQAAAAAAAAD9AAAAAAACAQEAAAAAAAAAyQAAAAAAAADBAAAAAAAAAM0AAAAAAAIBEQAAAAAAAADtAAAAAAACAQkAAAAAAAABIQAAAAAAAwENAAAAAAAAAMUAAAAAAAAAxQAAAAAAAAEBAAAAAAAAAIEAAAAAAAAAAQAAAAAAAADxAAAAAAAAAPUAAAAAAAAA2QAAAAAAAADlAAAAAAAAAAEAAAAAAAIBHQAAAAAAAgENAAAAAAAAACEAAAAAAAAAgQAAAAAAAABBAAAAAAACARkAAAAAAAAAUQAAAAAAAAEVAAAAAAACAN0Crqqqqqqo3QAAAAAAAgEdAAAAAAAAANEAAAAAAAAA1QAAAAAAAgEZAAAAAAACASEAAAAAAAAA5QAAAAAAAAD1AAAAAAAAALkAAAAAAAABFQAAAAAAAAClAAAAAAACASEAAAAAAAABCQAAAAAAAAD5AAAAAAAAAL0AAAAAAAABCQAAAAAAAADRAAAAAAAAAM0AAAAAAAABFQAAAAAAAADxAAAAAAAAAIkAAAAAAAAAoQAAAAAAAACpAAAAAAAAANkAAAAAAAMBDQAAAAAAAACBAAAAAAAAAPkAAAAAAAAAAQAAAAAAAgEVAAAAAAAAAPUAAAAAAAAAAQAAAAAAAADlAAAAAAACAMUAAAAAAAAA8QAAAAAAAAEBAAAAAAAAACEAAAAAAAAAoQAAAAAAAAEFAAAAAAACASEAAAAAAAEBHQAAAAAAAAENAAAAAAAAAOEAAAAAAAAAtQAAAAAAAADhAAAAAAAAANEAAAAAAAABGQFVVVVVVVS1AAAAAAAAAPUBVVVVVVVU7QAAAAAAAACpAAAAAAAAARkAAAAAAAAA3QAAAAAAAACBAAAAAAAAAQkAAAAAAAIA0QAAAAAAAACZAAAAAAAAALUBVVVVVVVU4QAAAAAAAgDFAAAAAAACARUAAAAAAAAA2QAAAAAAAAEdAAAAAAAAALkAAAAAAAAA0QAAAAAAAgEZAAAAAAAAAMkAAAAAAAAA4QAAAAAAAAEZAAAAAAAAAQEAAAAAAAAAYQAAAAAAAACBAAAAAAAAACEAAAAAAAIBAQAAAAAAAACpAAAAAAACAR0AAAAAAAABAQAAAAAAAAChAAAAAAACANkAAAAAAAIA0QAAAAAAAgEhAAAAAAAAAQEAAAAAAAABGQAAAAAAAgDFAAAAAAAAAQkAAAAAAAAA9QAAAAAAAgDJAAAAAAAAAHEAAAAAAAABHQAAAAAAAgERAAAAAAAAAKkAAAAAAAAAIQAAAAAAAgERAAAAAAAAARkAAAAAAAAAuQAAAAAAAACRAAAAAAAAACEAAAAAAAAA6QAAAAAAAgEFAAAAAAAAAQUAAAAAAAAA9QAAAAAAAABxAAAAAAACARUAAAAAAAAAwQAAAAAAAQENAAAAAAACAR0AAAAAAAIBGQAAAAAAAAEJAAAAAAAAAAEAAAAAAAAAiQKuqqqqqqjxAAAAAAACAQkAAAAAAAAAUQAAAAAAAgD5AVVVVVVVVO0BVVVVVVVUtQAAAAAAAAEBAAAAAAADARUAAAAAAAABFQAAAAAAAgEVAAAAAAACANEAAAAAAAAAUQAAAAAAAQERAAAAAAABASECrqqqqqqo/QAAAAAAAAChAAAAAAACARkAAAAAAAIBCQAAAAAAAgENAAAAAAAAAM0AAAAAAAAAQQAAAAAAAAChAAAAAAADAREAAAAAAAAAAQAAAAAAAACVAAAAAAAAAMECrqqqqqqomQAAAAAAAgDFAAAAAAAAAMkAAAAAAAIBAQAAAAAAAABhAAAAAAAAAPEAAAAAAAAA6QAAAAAAAACRAAAAAAAAAJEAAAAAAAAAiQAAAAAAAADVAAAAAAACAPkAAAAAAAAAuQAAAAAAAADFAAAAAAAAAREAAAAAAAABHQAAAAAAAgDdA",
          "dtype": "f8"
         },
         "yaxis": "y"
        },
        {
         "line": {
          "color": "green"
         },
         "mode": "lines",
         "name": "Rio de Janeiro",
         "type": "scatter",
         "x": {
          "bdata": "AQAAAAIAAAAFAAAABgAAAAcAAAAIAAAACgAAAAwAAAANAAAADgAAABEAAAAXAAAAGQAAABoAAAAiAAAAIwAAACQAAAAmAAAAJwAAACgAAAAqAAAAKwAAAC8AAAAwAAAAMQAAADMAAAA1AAAANwAAADgAAAA7AAAAPwAAAEMAAABFAAAARgAAAEsAAABOAAAAUgAAAFUAAABWAAAAVwAAAFkAAABcAAAAXgAAAF8AAABhAAAAZQAAAGgAAABqAAAAawAAAG0AAABvAAAAcAAAAHEAAAByAAAAdQAAAHYAAAB3AAAAeAAAAHkAAAB6AAAAewAAAH8AAACAAAAAgwAAAIUAAACGAAAAiAAAAIkAAACKAAAAiwAAAIwAAACNAAAAkQAAAJIAAACTAAAAlgAAAJcAAACZAAAAmgAAAJ0AAACeAAAAoAAAAKIAAAClAAAApgAAAKoAAACrAAAArQAAALIAAACzAAAAtgAAALcAAAC4AAAAvAAAAMAAAADCAAAAwwAAAMQAAADGAAAAygAAAM0AAADSAAAA1AAAANYAAADYAAAA2gAAAOAAAADiAAAA5QAAAOcAAADsAAAA7QAAAO4AAADvAAAA8AAAAPMAAAD3AAAA+QAAAP8AAAAAAQAAAQEAAAUBAAAIAQAACQEAABEBAAASAQAAFQEAABkBAAAbAQAAHQEAAB4BAAAfAQAAIAEAACQBAAAlAQAAJgEAACgBAAApAQAALQEAAC4BAAAvAQAAMQEAADcBAAA5AQAAOwEAADwBAAA9AQAAPwEAAEABAABBAQAAQwEAAEQBAABGAQAARwEAAEgBAABJAQAASgEAAEwBAABPAQAAUAEAAFEBAABUAQAAVgEAAFgBAABaAQAAWwEAAF0BAABeAQAAYAEAAGEBAABkAQAAZwEAAGgBAABrAQAA",
          "dtype": "i4"
         },
         "xaxis": "x",
         "y": {
          "bdata": "q6qqqqqqNUAAAAAAAABFQAAAAAAAADBAAAAAAACAQEAAAAAAAAAwQAAAAAAAAC5AAAAAAAAAOEAAAAAAAAAyQAAAAAAAADlAAAAAAAAAK0AAAAAAAAAcQAAAAAAAgEdAAAAAAACANUAAAAAAAIAxQAAAAAAAADhAAAAAAAAAPEAAAAAAAAA+QAAAAAAAgEFAAAAAAAAAKEAAAAAAAAAkQAAAAAAAAB5AAAAAAAAAHEAAAAAAAMBEQAAAAAAAAChAAAAAAAAAQ0CrqqqqqipAQAAAAAAAADZAAAAAAACAPUAAAAAAAIA7QAAAAAAAACBAAAAAAAAAKkAAAAAAAIA4QAAAAAAAADlAAAAAAAAAIEAAAAAAAIBGQAAAAAAAwEFAAAAAAAAARUAAAAAAAAAkQAAAAAAAgENAAAAAAAAALkAAAAAAAAAUQAAAAAAAADxAAAAAAAAALECrqqqqqqo8QAAAAAAAABhAAAAAAAAAJkAAAAAAAIBCQAAAAAAAABRAAAAAAACAREAAAAAAAAAmQAAAAAAAAD5AAAAAAAAANUAAAAAAAAA0QAAAAAAAAEhAAAAAAAAAGEAAAAAAAAA4QAAAAAAAgDtAAAAAAAAARUAAAAAAAIBEQAAAAAAAAEhAAAAAAAAANEAAAAAAAABIQAAAAAAAADBAAAAAAAAAN0AAAAAAAAA7QAAAAAAAgEFAAAAAAAAAQ0AAAAAAAAAlQAAAAAAAAD5AAAAAAAAANUAAAAAAAAAYQAAAAAAAAD5AAAAAAAAAKEAAAAAAAAA0QAAAAAAAgENAAAAAAADAR0AAAAAAAABGQAAAAAAAgEJAAAAAAAAAQUAAAAAAAABGQAAAAAAAADlAAAAAAAAAIkAAAAAAAIBHQAAAAAAAACxAAAAAAAAAGEAAAAAAAAAmQAAAAAAAgEBAAAAAAAAAOEAAAAAAAAAgQAAAAAAAACxAAAAAAAAAKEAAAAAAAAAIQAAAAAAAAD5AAAAAAACASEAAAAAAAABEQAAAAAAAABBAVVVVVVVVMUAAAAAAAIBAQAAAAAAAAClAAAAAAAAAGEAAAAAAAAAuQAAAAAAAABJAAAAAAAAAAEAAAAAAAIA0QAAAAAAAgEBAAAAAAACASEAAAAAAAAAgQAAAAAAAADFAAAAAAAAAPUAAAAAAAAAiQAAAAAAAgENAAAAAAACAREAAAAAAAAA6QAAAAAAAAEdAAAAAAAAACEAAAAAAAAA9QAAAAAAAgD9AAAAAAABAREAAAAAAAABBQAAAAAAAACpAq6qqqqqqNEAAAAAAAABFQAAAAAAAABZAAAAAAACAREAAAAAAAAAYQAAAAAAAAEFAAAAAAAAAQkAAAAAAAAAsQAAAAAAAgEdAAAAAAAAAHEAAAAAAAAAmQAAAAAAAADpAAAAAAAAAPEAAAAAAAAAwQAAAAAAAADBAAAAAAAAAMkAAAAAAAAA0QAAAAAAAACJAAAAAAAAAJkAAAAAAAIBHQAAAAAAAgENAAAAAAAAAOUAAAAAAAAA5QAAAAAAAADtAAAAAAAAAOUAAAAAAAAA/QAAAAAAAACpAAAAAAAAAJUAAAAAAAMA3QAAAAAAAADVAAAAAAAAAM0AAAAAAAIA6QAAAAAAAgDhAAAAAAAAANUAAAAAAAAAsQAAAAAAAAENAAAAAAAAAOkAAAAAAAABFQAAAAAAAADVAAAAAAAAANEAAAAAAAABAQAAAAAAAAEdAAAAAAAAAIkAAAAAAAAA9QAAAAAAAADtAAAAAAAAAOEAAAAAAAIA7QAAAAAAAAEZAAAAAAAAAMUAAAAAAAABEQAAAAAAAAPA/AAAAAAAANUAAAAAAAIBFQAAAAAAAAERA",
          "dtype": "f8"
         },
         "yaxis": "y"
        },
        {
         "marker": {
          "color": {
           "bdata": "VVVVVVVVNEAzMzMzM7M4QEmSJEmSJDZAMzMzMzMzP0AAAAAAAAA0QAAAAAAAwD9AmpmZmZmZPkDbtm3btm00QAAAAAAAADpAVVVVVVVVI0AAAAAAAIA/QAAAAAAAAD5AmpmZmZmZOUAAAAAAAOA9QJqZmZmZGUBAZmZmZmZmN0AAAAAAAEA+QEmSJEmSJCtAZmZmZmbmQ0AAAAAAAAA2QAAAAAAAgEBAMzMzMzMzPUBVVVVVVVU5QAAAAAAAAD1AAAAAAABAQUAAAAAAAAA+QAAAAAAAADZAAAAAAACAOECrqqqqqio/QAAAAAAAAEFAAAAAAADAO0BmZmZmZuY3QKuqqqqqqkFAVVVVVVXVMUAAAAAAAAA/QAAAAAAAQDxAAAAAAACANkAAAAAAAIAqQAAAAAAAAD1Aq6qqqqqqOUAAAAAAAIA+QAAAAAAAgDxASZIkSZIkL0CrqqqqqqpBQFVVVVVVVS1AMzMzMzMzNUBVVVVVVVUzQFVVVVVVVT9AVVVVVVVVN0Crqqqqqio1QEmSJEmSJDpAVVVVVVVVNUAAAAAAACA7QAAAAAAAgDJAAAAAAAAAKEAAAAAAAAAxQAAAAAAAYDlAt23btm3bN0AAAAAAAAA+QAAAAAAAQDNA27Zt27ZtPUAAAAAAAOA7QDMzMzMzMztAAAAAAACARUAAAAAAAIAyQJqZmZmZmT1Aq6qqqqqqIEAAAAAAAIA5QDMzMzMzMzFAAAAAAAAAIkCamZmZmRlAQFVVVVVV1UFAAAAAAACAQ0CamZmZmZk2QKuqqqqqqiZAAAAAAACANkCrqqqqqqo7QAAAAAAAADBAmpmZmZmZM0CrqqqqqipCQFVVVVVVVTtAAAAAAAAAO0AAAAAAAAAzQAAAAAAAAD1AJUmSJEmSO0AAAAAAAAA7QAAAAAAAgDdAAAAAAACgNkCamZmZmRk1QAAAAAAAgDVAAAAAAACANEAAAAAAAOAyQAAAAAAAADlAq6qqqqqqN0CSJEmSJEk2QAAAAAAAwEFAq6qqqqqqOUAAAAAAAIA0QFVVVVVVVT9A",
           "dtype": "f8"
          },
          "colorscale": [
           [
            0,
            "rgb(0,104,55)"
           ],
           [
            0.1,
            "rgb(26,152,80)"
           ],
           [
            0.2,
            "rgb(102,189,99)"
           ],
           [
            0.3,
            "rgb(166,217,106)"
           ],
           [
            0.4,
            "rgb(217,239,139)"
           ],
           [
            0.5,
            "rgb(255,255,191)"
           ],
           [
            0.6,
            "rgb(254,224,139)"
           ],
           [
            0.7,
            "rgb(253,174,97)"
           ],
           [
            0.8,
            "rgb(244,109,67)"
           ],
           [
            0.9,
            "rgb(215,48,39)"
           ],
           [
            1,
            "rgb(165,0,38)"
           ]
          ],
          "showscale": true,
          "size": {
           "bdata": "Y8kZSff7NEDo1OqZjXQ1QBG5NoTAkjNAyTH8lM38OkA74L616iIXQOtwetuMRSxAHNOQZfLOS0ByDXHxVR83QBgA7zvv1ypAdqzty3DiN0A1e1bw4/8zQAeTobFQSx1Aeca8oHb+NEA682KwdINCQHN3C54rrChABtitro+iMkBJoPJIWY0SQDZ2Lf/gPjBAlhU6GqaAIUBmhGNK5dE2QG3cIY4OxDZA5Fzpu5wmNkAZr2NV5Po7QBgQPiDzNUBASEBZbzEOKEBIi8D/OWUmQCg+oejE1ydABEomihIFG0A6iGh91fQ8QHG3OxHFAyRAH20seHVJMEByKnZHb4I4QFGTSe6W6h5Aeo5vlS76G0Ab/50fKVowQD+ts+WaUjxAMZA3e+1uMED5W93LFE4kQEOOLsfDeyxAFKWAKZAiNUBiq7M7xxNAQLQUFOufKTJAlBZ6s+JjKkCYFC8pDWw5QMyHfpCkYEdAq8QIvbDjJ0DCT2h1a4k+QNtvk3luzDJA3mz7gGj+NUBYNmvsG5k4QPGQU19HLEFA5rW+hGs4QUCiVGEmgjhOQOsuF/H4W01AhbJDG2b9DkBfLJ0VIC8iQMq4uDiGIUJAZ6jnhRNrNUDgqZr/eSQzQPA/DhaF5AhA6x1TjwgWMkDzWek4dXVNQKhumoW7JTJAIURSbHXqLECnmz2OJoUlQPvWSHCPazxAJoh8tqq6FkBHcUIkqMMaQOp56d0RdxpArn9es1c+JkDfhL5GOJo2QLwtnttuACNAOd63CSMNCUA0mmMUXXE0QOWVawsPBRZATgtyD9KOJ0C0Z+JUj0I+QGzB1qAbridAJsWGmeHcQkCw6Dzc9E4zQCWasxEsHDZAr33LuKTDQEBZbsvw6EMJQOzEFkwD2UNAaFelR64DUUATBojNcDQ3QMnT3svxtClAGhpLoejeMECEADjdg1o5QGsQ6fgBmj9A3/rferdINUBSTDNKWVIwQP1gPy3F/vw/bi0Ltm14OkCxfMFdPJMgQEfMDkz0zDtA9V0nONNyNUA24O00ieY0QEC1brwqkjZA",
           "dtype": "f8"
          }
         },
         "mode": "markers",
         "type": "scatter",
         "x": {
          "bdata": "hnAO5vBUlEDjw2CqvgKWQI+VTfdxFo5A6vA0cs/WkUAhnGFcf8yXQK/obL+XopdAvrqH+6URlECXEun2FgKVQGbEmgmnFpZAs2y5p58LkUC6oVnTgW6YQM1+sBzGuZFANiuTvwQrkUD1IViv7HKKQHUNgzxUC5NATkLtybOtk0CKHS3910OSQKPvqaGdg5BABXgkipmIkEBgmhSUM6+WQEbF+PtMUotA+UdgZB9TiUBV0diwwuGVQERRQYDXf4tAbY1ktgYsk0ANSXAin9uRQALQ0SFQgZZArnkpxUMRm0Aj5RHRP8CPQBfsliIxPJFA461tj3A+kUC1sRy+EcGPQDmpnHjabpFAw625m5vsk0BAo/261I+WQLJ/q6HWiI5ABNvu0UtIjkBowKszOSuSQM1fumDHFptA1LmLoPp3k0DspB42t+KJQOys3bXd45ZAq60Fow1RkkAVUlIbKBiVQIXda7qUlJlAw6cqCnJfj0BCOCbgp42VQH9qMscMropA6SAOgTkWlED27Jr1aBiSQNG6NEdxjpNAr9vqEPKIkEAFKp32sH2SQMRxH/7TDZNAgBpFX406lUA7fi21oZGbQDZQ2TFWCJBAfs7N5bmlj0Au5Ttu7luSQHMMOllAypFAkXVL4TDJkEDCFa1Dp8CSQJGHwEMLUZVAczZD2s/6hEACUWx965+UQFvkd+Ht7JJADM6UEZBNnECVaSyB3CuSQLhdpzD334JAEKoXtfq8k0BVXNLImEeVQBSrwuLH/I5Ap6Rs8Mr0gEDh0mArEauRQDg1V/KbvZZAzP7nC8LumkDlbsiQ70GEQKxVujA0spBARiVyobkUlEBNDiuo7JaOQEe9TLkMCJVAWqbKHdpGgUBGFiZldVqSQCTxtSy8B5dAsb9F/gKKk0DsDP4tLKOTQPZkRHf5XZJALCmDGfUclUChpHimguyXQAJAqWymtp5AJjL0I4pykEDTQtuMX0qWQBaDS+Oyj5FA1cgFfLZ+jkBXsDItifySQD11xFB9kYxAo3iTfWAikED9+qXY1BGRQH27b224EItA",
          "dtype": "f8"
         },
         "xaxis": "x2",
         "y": {
          "bdata": "VVVVVVVVNEAzMzMzM7M4QEmSJEmSJDZAMzMzMzMzP0AAAAAAAAA0QAAAAAAAwD9AmpmZmZmZPkDbtm3btm00QAAAAAAAADpAVVVVVVVVI0AAAAAAAIA/QAAAAAAAAD5AmpmZmZmZOUAAAAAAAOA9QJqZmZmZGUBAZmZmZmZmN0AAAAAAAEA+QEmSJEmSJCtAZmZmZmbmQ0AAAAAAAAA2QAAAAAAAgEBAMzMzMzMzPUBVVVVVVVU5QAAAAAAAAD1AAAAAAABAQUAAAAAAAAA+QAAAAAAAADZAAAAAAACAOECrqqqqqio/QAAAAAAAAEFAAAAAAADAO0BmZmZmZuY3QKuqqqqqqkFAVVVVVVXVMUAAAAAAAAA/QAAAAAAAQDxAAAAAAACANkAAAAAAAIAqQAAAAAAAAD1Aq6qqqqqqOUAAAAAAAIA+QAAAAAAAgDxASZIkSZIkL0CrqqqqqqpBQFVVVVVVVS1AMzMzMzMzNUBVVVVVVVUzQFVVVVVVVT9AVVVVVVVVN0Crqqqqqio1QEmSJEmSJDpAVVVVVVVVNUAAAAAAACA7QAAAAAAAgDJAAAAAAAAAKEAAAAAAAAAxQAAAAAAAYDlAt23btm3bN0AAAAAAAAA+QAAAAAAAQDNA27Zt27ZtPUAAAAAAAOA7QDMzMzMzMztAAAAAAACARUAAAAAAAIAyQJqZmZmZmT1Aq6qqqqqqIEAAAAAAAIA5QDMzMzMzMzFAAAAAAAAAIkCamZmZmRlAQFVVVVVV1UFAAAAAAACAQ0CamZmZmZk2QKuqqqqqqiZAAAAAAACANkCrqqqqqqo7QAAAAAAAADBAmpmZmZmZM0CrqqqqqipCQFVVVVVVVTtAAAAAAAAAO0AAAAAAAAAzQAAAAAAAAD1AJUmSJEmSO0AAAAAAAAA7QAAAAAAAgDdAAAAAAACgNkCamZmZmRk1QAAAAAAAgDVAAAAAAACANEAAAAAAAOAyQAAAAAAAADlAq6qqqqqqN0CSJEmSJEk2QAAAAAAAwEFAq6qqqqqqOUAAAAAAAIA0QFVVVVVVVT9A",
          "dtype": "f8"
         },
         "yaxis": "y2"
        },
        {
         "marker": {
          "color": "blue"
         },
         "name": "Philadelphia",
         "type": "bar",
         "x": [
          "Avg Risk",
          "Max Risk",
          "Avg Debris"
         ],
         "xaxis": "x3",
         "y": [
          25.14176245210728,
          49,
          9.889929221562493
         ],
         "yaxis": "y3"
        },
        {
         "marker": {
          "color": "green"
         },
         "name": "Rio de Janeiro",
         "type": "bar",
         "x": [
          "Avg Risk",
          "Max Risk",
          "Avg Debris"
         ],
         "xaxis": "x3",
         "y": [
          24.728033472803347,
          49,
          9.958120741240457
         ],
         "yaxis": "y3"
        },
        {
         "marker": {
          "color": "red"
         },
         "nbinsx": 30,
         "type": "histogram",
         "x": {
          "bdata": "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",
          "dtype": "f8"
         },
         "xaxis": "x4",
         "yaxis": "y4"
        }
       ],
       "layout": {
        "annotations": [
         {
          "font": {
           "size": 16
          },
          "showarrow": false,
          "text": "Daily Risk Trends by City",
          "x": 0.225,
          "xanchor": "center",
          "xref": "paper",
          "y": 1,
          "yanchor": "bottom",
          "yref": "paper"
         },
         {
          "font": {
           "size": 16
          },
          "showarrow": false,
          "text": "Satellite Risk Profiles",
          "x": 0.775,
          "xanchor": "center",
          "xref": "paper",
          "y": 1,
          "yanchor": "bottom",
          "yref": "paper"
         },
         {
          "font": {
           "size": 16
          },
          "showarrow": false,
          "text": "Location Risk Comparison",
          "x": 0.225,
          "xanchor": "center",
          "xref": "paper",
          "y": 0.375,
          "yanchor": "bottom",
          "yref": "paper"
         },
         {
          "font": {
           "size": 16
          },
          "showarrow": false,
          "text": "Collision Probability Distribution",
          "x": 0.775,
          "xanchor": "center",
          "xref": "paper",
          "y": 0.375,
          "yanchor": "bottom",
          "yref": "paper"
         }
        ],
        "height": 700,
        "showlegend": true,
        "template": {
         "data": {
          "bar": [
           {
            "error_x": {
             "color": "#2a3f5f"
            },
            "error_y": {
             "color": "#2a3f5f"
            },
            "marker": {
             "line": {
              "color": "#E5ECF6",
              "width": 0.5
             },
             "pattern": {
              "fillmode": "overlay",
              "size": 10,
              "solidity": 0.2
             }
            },
            "type": "bar"
           }
          ],
          "barpolar": [
           {
            "marker": {
             "line": {
              "color": "#E5ECF6",
              "width": 0.5
             },
             "pattern": {
              "fillmode": "overlay",
              "size": 10,
              "solidity": 0.2
             }
            },
            "type": "barpolar"
           }
          ],
          "carpet": [
           {
            "aaxis": {
             "endlinecolor": "#2a3f5f",
             "gridcolor": "white",
             "linecolor": "white",
             "minorgridcolor": "white",
             "startlinecolor": "#2a3f5f"
            },
            "baxis": {
             "endlinecolor": "#2a3f5f",
             "gridcolor": "white",
             "linecolor": "white",
             "minorgridcolor": "white",
             "startlinecolor": "#2a3f5f"
            },
            "type": "carpet"
           }
          ],
          "choropleth": [
           {
            "colorbar": {
             "outlinewidth": 0,
             "ticks": ""
            },
            "type": "choropleth"
           }
          ],
          "contour": [
           {
            "colorbar": {
             "outlinewidth": 0,
             "ticks": ""
            },
            "colorscale": [
             [
              0,
              "#0d0887"
             ],
             [
              0.1111111111111111,
              "#46039f"
             ],
             [
              0.2222222222222222,
              "#7201a8"
             ],
             [
              0.3333333333333333,
              "#9c179e"
             ],
             [
              0.4444444444444444,
              "#bd3786"
             ],
             [
              0.5555555555555556,
              "#d8576b"
             ],
             [
              0.6666666666666666,
              "#ed7953"
             ],
             [
              0.7777777777777778,
              "#fb9f3a"
             ],
             [
              0.8888888888888888,
              "#fdca26"
             ],
             [
              1,
              "#f0f921"
             ]
            ],
            "type": "contour"
           }
          ],
          "contourcarpet": [
           {
            "colorbar": {
             "outlinewidth": 0,
             "ticks": ""
            },
            "type": "contourcarpet"
           }
          ],
          "heatmap": [
           {
            "colorbar": {
             "outlinewidth": 0,
             "ticks": ""
            },
            "colorscale": [
             [
              0,
              "#0d0887"
             ],
             [
              0.1111111111111111,
              "#46039f"
             ],
             [
              0.2222222222222222,
              "#7201a8"
             ],
             [
              0.3333333333333333,
              "#9c179e"
             ],
             [
              0.4444444444444444,
              "#bd3786"
             ],
             [
              0.5555555555555556,
              "#d8576b"
             ],
             [
              0.6666666666666666,
              "#ed7953"
             ],
             [
              0.7777777777777778,
              "#fb9f3a"
             ],
             [
              0.8888888888888888,
              "#fdca26"
             ],
             [
              1,
              "#f0f921"
             ]
            ],
            "type": "heatmap"
           }
          ],
          "histogram": [
           {
            "marker": {
             "pattern": {
              "fillmode": "overlay",
              "size": 10,
              "solidity": 0.2
             }
            },
            "type": "histogram"
           }
          ],
          "histogram2d": [
           {
            "colorbar": {
             "outlinewidth": 0,
             "ticks": ""
            },
            "colorscale": [
             [
              0,
              "#0d0887"
             ],
             [
              0.1111111111111111,
              "#46039f"
             ],
             [
              0.2222222222222222,
              "#7201a8"
             ],
             [
              0.3333333333333333,
              "#9c179e"
             ],
             [
              0.4444444444444444,
              "#bd3786"
             ],
             [
              0.5555555555555556,
              "#d8576b"
             ],
             [
              0.6666666666666666,
              "#ed7953"
             ],
             [
              0.7777777777777778,
              "#fb9f3a"
             ],
             [
              0.8888888888888888,
              "#fdca26"
             ],
             [
              1,
              "#f0f921"
             ]
            ],
            "type": "histogram2d"
           }
          ],
          "histogram2dcontour": [
           {
            "colorbar": {
             "outlinewidth": 0,
             "ticks": ""
            },
            "colorscale": [
             [
              0,
              "#0d0887"
             ],
             [
              0.1111111111111111,
              "#46039f"
             ],
             [
              0.2222222222222222,
              "#7201a8"
             ],
             [
              0.3333333333333333,
              "#9c179e"
             ],
             [
              0.4444444444444444,
              "#bd3786"
             ],
             [
              0.5555555555555556,
              "#d8576b"
             ],
             [
              0.6666666666666666,
              "#ed7953"
             ],
             [
              0.7777777777777778,
              "#fb9f3a"
             ],
             [
              0.8888888888888888,
              "#fdca26"
             ],
             [
              1,
              "#f0f921"
             ]
            ],
            "type": "histogram2dcontour"
           }
          ],
          "mesh3d": [
           {
            "colorbar": {
             "outlinewidth": 0,
             "ticks": ""
            },
            "type": "mesh3d"
           }
          ],
          "parcoords": [
           {
            "line": {
             "colorbar": {
              "outlinewidth": 0,
              "ticks": ""
             }
            },
            "type": "parcoords"
           }
          ],
          "pie": [
           {
            "automargin": true,
            "type": "pie"
           }
          ],
          "scatter": [
           {
            "fillpattern": {
             "fillmode": "overlay",
             "size": 10,
             "solidity": 0.2
            },
            "type": "scatter"
           }
          ],
          "scatter3d": [
           {
            "line": {
             "colorbar": {
              "outlinewidth": 0,
              "ticks": ""
             }
            },
            "marker": {
             "colorbar": {
              "outlinewidth": 0,
              "ticks": ""
             }
            },
            "type": "scatter3d"
           }
          ],
          "scattercarpet": [
           {
            "marker": {
             "colorbar": {
              "outlinewidth": 0,
              "ticks": ""
             }
            },
            "type": "scattercarpet"
           }
          ],
          "scattergeo": [
           {
            "marker": {
             "colorbar": {
              "outlinewidth": 0,
              "ticks": ""
             }
            },
            "type": "scattergeo"
           }
          ],
          "scattergl": [
           {
            "marker": {
             "colorbar": {
              "outlinewidth": 0,
              "ticks": ""
             }
            },
            "type": "scattergl"
           }
          ],
          "scattermap": [
           {
            "marker": {
             "colorbar": {
              "outlinewidth": 0,
              "ticks": ""
             }
            },
            "type": "scattermap"
           }
          ],
          "scattermapbox": [
           {
            "marker": {
             "colorbar": {
              "outlinewidth": 0,
              "ticks": ""
             }
            },
            "type": "scattermapbox"
           }
          ],
          "scatterpolar": [
           {
            "marker": {
             "colorbar": {
              "outlinewidth": 0,
              "ticks": ""
             }
            },
            "type": "scatterpolar"
           }
          ],
          "scatterpolargl": [
           {
            "marker": {
             "colorbar": {
              "outlinewidth": 0,
              "ticks": ""
             }
            },
            "type": "scatterpolargl"
           }
          ],
          "scatterternary": [
           {
            "marker": {
             "colorbar": {
              "outlinewidth": 0,
              "ticks": ""
             }
            },
            "type": "scatterternary"
           }
          ],
          "surface": [
           {
            "colorbar": {
             "outlinewidth": 0,
             "ticks": ""
            },
            "colorscale": [
             [
              0,
              "#0d0887"
             ],
             [
              0.1111111111111111,
              "#46039f"
             ],
             [
              0.2222222222222222,
              "#7201a8"
             ],
             [
              0.3333333333333333,
              "#9c179e"
             ],
             [
              0.4444444444444444,
              "#bd3786"
             ],
             [
              0.5555555555555556,
              "#d8576b"
             ],
             [
              0.6666666666666666,
              "#ed7953"
             ],
             [
              0.7777777777777778,
              "#fb9f3a"
             ],
             [
              0.8888888888888888,
              "#fdca26"
             ],
             [
              1,
              "#f0f921"
             ]
            ],
            "type": "surface"
           }
          ],
          "table": [
           {
            "cells": {
             "fill": {
              "color": "#EBF0F8"
             },
             "line": {
              "color": "white"
             }
            },
            "header": {
             "fill": {
              "color": "#C8D4E3"
             },
             "line": {
              "color": "white"
             }
            },
            "type": "table"
           }
          ]
         },
         "layout": {
          "annotationdefaults": {
           "arrowcolor": "#2a3f5f",
           "arrowhead": 0,
           "arrowwidth": 1
          },
          "autotypenumbers": "strict",
          "coloraxis": {
           "colorbar": {
            "outlinewidth": 0,
            "ticks": ""
           }
          },
          "colorscale": {
           "diverging": [
            [
             0,
             "#8e0152"
            ],
            [
             0.1,
             "#c51b7d"
            ],
            [
             0.2,
             "#de77ae"
            ],
            [
             0.3,
             "#f1b6da"
            ],
            [
             0.4,
             "#fde0ef"
            ],
            [
             0.5,
             "#f7f7f7"
            ],
            [
             0.6,
             "#e6f5d0"
            ],
            [
             0.7,
             "#b8e186"
            ],
            [
             0.8,
             "#7fbc41"
            ],
            [
             0.9,
             "#4d9221"
            ],
            [
             1,
             "#276419"
            ]
           ],
           "sequential": [
            [
             0,
             "#0d0887"
            ],
            [
             0.1111111111111111,
             "#46039f"
            ],
            [
             0.2222222222222222,
             "#7201a8"
            ],
            [
             0.3333333333333333,
             "#9c179e"
            ],
            [
             0.4444444444444444,
             "#bd3786"
            ],
            [
             0.5555555555555556,
             "#d8576b"
            ],
            [
             0.6666666666666666,
             "#ed7953"
            ],
            [
             0.7777777777777778,
             "#fb9f3a"
            ],
            [
             0.8888888888888888,
             "#fdca26"
            ],
            [
             1,
             "#f0f921"
            ]
           ],
           "sequentialminus": [
            [
             0,
             "#0d0887"
            ],
            [
             0.1111111111111111,
             "#46039f"
            ],
            [
             0.2222222222222222,
             "#7201a8"
            ],
            [
             0.3333333333333333,
             "#9c179e"
            ],
            [
             0.4444444444444444,
             "#bd3786"
            ],
            [
             0.5555555555555556,
             "#d8576b"
            ],
            [
             0.6666666666666666,
             "#ed7953"
            ],
            [
             0.7777777777777778,
             "#fb9f3a"
            ],
            [
             0.8888888888888888,
             "#fdca26"
            ],
            [
             1,
             "#f0f921"
            ]
           ]
          },
          "colorway": [
           "#636efa",
           "#EF553B",
           "#00cc96",
           "#ab63fa",
           "#FFA15A",
           "#19d3f3",
           "#FF6692",
           "#B6E880",
           "#FF97FF",
           "#FECB52"
          ],
          "font": {
           "color": "#2a3f5f"
          },
          "geo": {
           "bgcolor": "white",
           "lakecolor": "white",
           "landcolor": "#E5ECF6",
           "showlakes": true,
           "showland": true,
           "subunitcolor": "white"
          },
          "hoverlabel": {
           "align": "left"
          },
          "hovermode": "closest",
          "mapbox": {
           "style": "light"
          },
          "paper_bgcolor": "white",
          "plot_bgcolor": "#E5ECF6",
          "polar": {
           "angularaxis": {
            "gridcolor": "white",
            "linecolor": "white",
            "ticks": ""
           },
           "bgcolor": "#E5ECF6",
           "radialaxis": {
            "gridcolor": "white",
            "linecolor": "white",
            "ticks": ""
           }
          },
          "scene": {
           "xaxis": {
            "backgroundcolor": "#E5ECF6",
            "gridcolor": "white",
            "gridwidth": 2,
            "linecolor": "white",
            "showbackground": true,
            "ticks": "",
            "zerolinecolor": "white"
           },
           "yaxis": {
            "backgroundcolor": "#E5ECF6",
            "gridcolor": "white",
            "gridwidth": 2,
            "linecolor": "white",
            "showbackground": true,
            "ticks": "",
            "zerolinecolor": "white"
           },
           "zaxis": {
            "backgroundcolor": "#E5ECF6",
            "gridcolor": "white",
            "gridwidth": 2,
            "linecolor": "white",
            "showbackground": true,
            "ticks": "",
            "zerolinecolor": "white"
           }
          },
          "shapedefaults": {
           "line": {
            "color": "#2a3f5f"
           }
          },
          "ternary": {
           "aaxis": {
            "gridcolor": "white",
            "linecolor": "white",
            "ticks": ""
           },
           "baxis": {
            "gridcolor": "white",
            "linecolor": "white",
            "ticks": ""
           },
           "bgcolor": "#E5ECF6",
           "caxis": {
            "gridcolor": "white",
            "linecolor": "white",
            "ticks": ""
           }
          },
          "title": {
           "x": 0.05
          },
          "xaxis": {
           "automargin": true,
           "gridcolor": "white",
           "linecolor": "white",
           "ticks": "",
           "title": {
            "standoff": 15
           },
           "zerolinecolor": "white",
           "zerolinewidth": 2
          },
          "yaxis": {
           "automargin": true,
           "gridcolor": "white",
           "linecolor": "white",
           "ticks": "",
           "title": {
            "standoff": 15
           },
           "zerolinecolor": "white",
           "zerolinewidth": 2
          }
         }
        },
        "title": {
         "text": "Fact Table Aggregated Analytics"
        },
        "xaxis": {
         "anchor": "y",
         "domain": [
          0,
          0.45
         ],
         "title": {
          "text": "Day of Year"
         }
        },
        "xaxis2": {
         "anchor": "y2",
         "domain": [
          0.55,
          1
         ],
         "title": {
          "text": "Average Distance (km)"
         }
        },
        "xaxis3": {
         "anchor": "y3",
         "domain": [
          0,
          0.45
         ],
         "title": {
          "text": "Metric"
         }
        },
        "xaxis4": {
         "anchor": "y4",
         "domain": [
          0.55,
          1
         ],
         "title": {
          "text": "Collision Probability (×10⁻⁶)"
         }
        },
        "yaxis": {
         "anchor": "x",
         "domain": [
          0.625,
          1
         ]
        },
        "yaxis2": {
         "anchor": "x2",
         "domain": [
          0.625,
          1
         ]
        },
        "yaxis3": {
         "anchor": "x3",
         "domain": [
          0,
          0.375
         ]
        },
        "yaxis4": {
         "anchor": "x4",
         "domain": [
          0,
          0.375
         ]
        }
       }
      }
     },
     "metadata": {},
     "output_type": "display_data"
    },
    {
     "name": "stdout",
     "output_type": "stream",
     "text": [
      "\n",
      "Dimensional Cardinality Analysis\n",
      "==================================================\n",
      "Satellite Dimension: 99 unique satellites\n",
      "Location Dimension: 2 cities\n",
      "Time Dimension: 269 unique time periods\n",
      "Orbit Dimension: 100 unique orbital profiles\n",
      "Risk Dimension: 49 risk scenarios\n",
      "\n",
      "Fact Density: 2.5 passes per satellite-location pair\n"
     ]
    }
   ],
   "source": [
    "# Create aggregated views for dashboard\n",
    "def create_aggregated_views(fact_df):\n",
    "    \"\"\"Create pre-aggregated views for dashboard performance\"\"\"\n",
    "    \n",
    "    # Daily risk trends\n",
    "    daily_risk = fact_df.groupby(['time_id', 'location_id']).agg({\n",
    "        'risk_id': 'mean',\n",
    "        'debris_density_index': 'mean',\n",
    "        'pass_id': 'count'\n",
    "    }).reset_index()\n",
    "    daily_risk.columns = ['time_id', 'location_id', 'avg_risk', 'avg_debris', 'pass_count']\n",
    "    \n",
    "    # Satellite risk profile\n",
    "    satellite_risk = fact_df.groupby('satellite_id').agg({\n",
    "        'risk_id': 'mean',\n",
    "        'distance_km': 'mean',\n",
    "        'collision_probability': 'max'\n",
    "    }).reset_index()\n",
    "    \n",
    "    # Location comparison\n",
    "    location_stats = fact_df.groupby('location_id').agg({\n",
    "        'risk_id': ['mean', 'std', 'max'],\n",
    "        'debris_density_index': ['mean', 'max'],\n",
    "        'pass_id': 'count'\n",
    "    }).reset_index()\n",
    "    \n",
    "    return daily_risk, satellite_risk, location_stats\n",
    "\n",
    "daily_risk, satellite_risk, location_stats = create_aggregated_views(fact_df)\n",
    "\n",
    "# Visualize aggregated metrics\n",
    "fig2 = make_subplots(\n",
    "    rows=2, cols=2,\n",
    "    subplot_titles=(\n",
    "        'Daily Risk Trends by City',\n",
    "        'Satellite Risk Profiles',\n",
    "        'Location Risk Comparison',\n",
    "        'Collision Probability Distribution'\n",
    "    )\n",
    ")\n",
    "\n",
    "# Plot 1: Time series of risk\n",
    "philly_risk = daily_risk[daily_risk['location_id'] == 1]\n",
    "rio_risk = daily_risk[daily_risk['location_id'] == 2]\n",
    "\n",
    "fig2.add_trace(\n",
    "    go.Scatter(x=philly_risk['time_id'], y=philly_risk['avg_risk'],\n",
    "               mode='lines', name='Philadelphia', line=dict(color='blue')),\n",
    "    row=1, col=1\n",
    ")\n",
    "fig2.add_trace(\n",
    "    go.Scatter(x=rio_risk['time_id'], y=rio_risk['avg_risk'],\n",
    "               mode='lines', name='Rio de Janeiro', line=dict(color='green')),\n",
    "    row=1, col=1\n",
    ")\n",
    "\n",
    "# Plot 2: Satellite risk bubble chart\n",
    "fig2.add_trace(\n",
    "    go.Scatter(x=satellite_risk['distance_km'], \n",
    "               y=satellite_risk['risk_id'],\n",
    "               mode='markers',\n",
    "               marker=dict(\n",
    "                   size=satellite_risk['collision_probability']*1e6,\n",
    "                   color=satellite_risk['risk_id'],\n",
    "                   colorscale='RdYlGn_r',\n",
    "                   showscale=True\n",
    "               )),\n",
    "    row=1, col=2\n",
    ")\n",
    "\n",
    "# Plot 3: Location comparison\n",
    "locations = ['Philadelphia', 'Rio de Janeiro']\n",
    "metrics = ['Avg Risk', 'Max Risk', 'Avg Debris']\n",
    "philly_vals = [\n",
    "    fact_df[fact_df['location_id']==1]['risk_id'].mean(),\n",
    "    fact_df[fact_df['location_id']==1]['risk_id'].max(),\n",
    "    fact_df[fact_df['location_id']==1]['debris_density_index'].mean()\n",
    "]\n",
    "rio_vals = [\n",
    "    fact_df[fact_df['location_id']==2]['risk_id'].mean(),\n",
    "    fact_df[fact_df['location_id']==2]['risk_id'].max(),\n",
    "    fact_df[fact_df['location_id']==2]['debris_density_index'].mean()\n",
    "]\n",
    "\n",
    "fig2.add_trace(\n",
    "    go.Bar(name='Philadelphia', x=metrics, y=philly_vals, marker_color='blue'),\n",
    "    row=2, col=1\n",
    ")\n",
    "fig2.add_trace(\n",
    "    go.Bar(name='Rio de Janeiro', x=metrics, y=rio_vals, marker_color='green'),\n",
    "    row=2, col=1\n",
    ")\n",
    "\n",
    "# Plot 4: Collision probability histogram\n",
    "fig2.add_trace(\n",
    "    go.Histogram(x=fact_df['collision_probability']*1e6, nbinsx=30,\n",
    "                 marker_color='red'),\n",
    "    row=2, col=2\n",
    ")\n",
    "\n",
    "fig2.update_layout(height=700, showlegend=True, \n",
    "                   title_text=\"Fact Table Aggregated Analytics\")\n",
    "fig2.update_xaxes(title_text=\"Day of Year\", row=1, col=1)\n",
    "fig2.update_xaxes(title_text=\"Average Distance (km)\", row=1, col=2)\n",
    "fig2.update_xaxes(title_text=\"Metric\", row=2, col=1)\n",
    "fig2.update_xaxes(title_text=\"Collision Probability (×10⁻⁶)\", row=2, col=2)\n",
    "\n",
    "fig2.show()\n",
    "\n",
    "# Print dimensional cardinality\n",
    "print(\"\\nDimensional Cardinality Analysis\")\n",
    "print(\"=\"*50)\n",
    "print(f\"Satellite Dimension: {fact_df['satellite_id'].nunique()} unique satellites\")\n",
    "print(f\"Location Dimension: {fact_df['location_id'].nunique()} cities\")\n",
    "print(f\"Time Dimension: {fact_df['time_id'].nunique()} unique time periods\")\n",
    "print(f\"Orbit Dimension: {fact_df['orbit_id'].nunique()} unique orbital profiles\")\n",
    "print(f\"Risk Dimension: {fact_df['risk_id'].nunique()} risk scenarios\")\n",
    "print(f\"\\nFact Density: {len(fact_df) / (fact_df['satellite_id'].nunique() * fact_df['location_id'].nunique()):.1f} passes per satellite-location pair\")"
   ]
  },
  {
   "cell_type": "code",
   "execution_count": 18,
   "id": "b664134a",
   "metadata": {},
   "outputs": [
    {
     "name": "stdout",
     "output_type": "stream",
     "text": [
      "Excel file 'ssa_fact_table.xlsx' created successfully!\n",
      "Contains 500 fact records across 5 sheets\n"
     ]
    }
   ],
   "source": [
    "import pandas as pd\n",
    "import numpy as np\n",
    "from datetime import datetime, timedelta\n",
    "\n",
    "# Generate the fact table data\n",
    "np.random.seed(42)\n",
    "n_records = 500\n",
    "\n",
    "fact_table = pd.DataFrame({\n",
    "    'pass_id': range(1, n_records + 1),\n",
    "    'satellite_id': np.random.randint(1, 101, n_records),\n",
    "    'location_id': np.random.choice([1, 2], n_records),\n",
    "    'time_id': np.random.randint(1, 365, n_records),\n",
    "    'orbit_id': np.random.randint(1, 101, n_records),\n",
    "    'risk_id': np.random.randint(1, 50, n_records),\n",
    "    'distance_km': np.round(np.random.uniform(400, 2000, n_records), 2),\n",
    "    'max_elevation_deg': np.round(np.random.uniform(10, 90, n_records), 2),\n",
    "    'debris_density_index': np.round(np.random.exponential(10, n_records), 3),\n",
    "    'collision_probability': np.round(np.random.exponential(0.00001, n_records), 8),\n",
    "})\n",
    "\n",
    "# Create dimension tables\n",
    "dim_location = pd.DataFrame({\n",
    "    'location_id': [1, 2],\n",
    "    'city_name': ['Philadelphia', 'Rio de Janeiro'],\n",
    "    'country': ['United States', 'Brazil'],\n",
    "    'latitude': [39.9526, -22.9068],\n",
    "    'longitude': [-75.1652, -43.1729]\n",
    "})\n",
    "\n",
    "dim_satellite = pd.DataFrame({\n",
    "    'satellite_id': range(1, 101),\n",
    "    'satellite_name': [f'SAT-{i:04d}' for i in range(1, 101)],\n",
    "    'object_type': np.random.choice(['PAYLOAD', 'DEBRIS', 'ROCKET_BODY'], 100, p=[0.7, 0.2, 0.1]),\n",
    "    'status': np.random.choice(['ACTIVE', 'INACTIVE'], 100, p=[0.8, 0.2])\n",
    "})\n",
    "\n",
    "dim_risk = pd.DataFrame({\n",
    "    'risk_id': range(1, 51),\n",
    "    'risk_level': pd.cut(range(1, 51), bins=[0, 15, 30, 50], labels=['LOW', 'MEDIUM', 'HIGH']),\n",
    "    'congestion_score': np.round(np.random.uniform(0, 1, 50), 3),\n",
    "    'debris_risk_score': np.round(np.random.uniform(0, 1, 50), 3)\n",
    "})\n",
    "\n",
    "# Create Excel file with multiple sheets\n",
    "excel_filename = 'ssa_fact_table.xlsx'\n",
    "\n",
    "with pd.ExcelWriter(excel_filename, engine='openpyxl') as writer:\n",
    "    # Write fact table\n",
    "    fact_table.to_excel(writer, sheet_name='FACT_Satellite_Passes', index=False)\n",
    "    \n",
    "    # Write dimension tables\n",
    "    dim_location.to_excel(writer, sheet_name='DIM_Location', index=False)\n",
    "    dim_satellite.to_excel(writer, sheet_name='DIM_Satellite', index=False)\n",
    "    dim_risk.to_excel(writer, sheet_name='DIM_Risk', index=False)\n",
    "    \n",
    "    # Create summary statistics sheet\n",
    "    summary_stats = pd.DataFrame({\n",
    "        'Metric': [\n",
    "            'Total Passes',\n",
    "            'Unique Satellites',\n",
    "            'Average Distance (km)',\n",
    "            'Max Elevation (deg)',\n",
    "            'High Risk Passes',\n",
    "            'Philadelphia Passes',\n",
    "            'Rio de Janeiro Passes',\n",
    "            'Average Debris Density'\n",
    "        ],\n",
    "        'Value': [\n",
    "            len(fact_table),\n",
    "            fact_table['satellite_id'].nunique(),\n",
    "            round(fact_table['distance_km'].mean(), 2),\n",
    "            round(fact_table['max_elevation_deg'].max(), 2),\n",
    "            len(fact_table[fact_table['risk_id'] > 30]),\n",
    "            len(fact_table[fact_table['location_id'] == 1]),\n",
    "            len(fact_table[fact_table['location_id'] == 2]),\n",
    "            round(fact_table['debris_density_index'].mean(), 3)\n",
    "        ]\n",
    "    })\n",
    "    summary_stats.to_excel(writer, sheet_name='Summary_Statistics', index=False)\n",
    "    \n",
    "    # Format the Excel file\n",
    "    for sheet_name in writer.sheets:\n",
    "        worksheet = writer.sheets[sheet_name]\n",
    "        \n",
    "        # Adjust column widths\n",
    "        for column in worksheet.columns:\n",
    "            max_length = 0\n",
    "            column_letter = column[0].column_letter\n",
    "            for cell in column:\n",
    "                try:\n",
    "                    if len(str(cell.value)) > max_length:\n",
    "                        max_length = len(str(cell.value))\n",
    "                except:\n",
    "                    pass\n",
    "            adjusted_width = min(max_length + 2, 30)\n",
    "            worksheet.column_dimensions[column_letter].width = adjusted_width\n",
    "\n",
    "print(f\"Excel file '{excel_filename}' created successfully!\")\n",
    "print(f\"Contains {len(fact_table)} fact records across 5 sheets\")"
   ]
  },
  {
   "cell_type": "code",
   "execution_count": 19,
   "id": "6744d903",
   "metadata": {},
   "outputs": [
    {
     "name": "stdout",
     "output_type": "stream",
     "text": [
      "Formatted Excel file created with color-coded risk levels\n"
     ]
    }
   ],
   "source": [
    "# Create formatted Excel with conditional formatting\n",
    "from openpyxl import load_workbook\n",
    "from openpyxl.styles import PatternFill, Font, Alignment\n",
    "from openpyxl.formatting.rule import ColorScaleRule\n",
    "\n",
    "# First create the basic Excel\n",
    "fact_table.to_excel('formatted_fact_table.xlsx', index=False)\n",
    "\n",
    "# Load and format\n",
    "wb = load_workbook('formatted_fact_table.xlsx')\n",
    "ws = wb.active\n",
    "\n",
    "# Add header formatting\n",
    "header_fill = PatternFill(start_color='366092', end_color='366092', fill_type='solid')\n",
    "header_font = Font(color='FFFFFF', bold=True)\n",
    "\n",
    "for cell in ws[1]:\n",
    "    cell.fill = header_fill\n",
    "    cell.font = header_font\n",
    "    cell.alignment = Alignment(horizontal='center')\n",
    "\n",
    "# Add conditional formatting to risk_id column\n",
    "risk_col = 'F'  # Column F is risk_id\n",
    "ws.conditional_formatting.add(f'{risk_col}2:{risk_col}{len(fact_table)+1}',\n",
    "                              ColorScaleRule(start_type='min', start_color='90EE90',\n",
    "                                           mid_type='percentile', mid_value=50, mid_color='FFFF00',\n",
    "                                           end_type='max', end_color='FF0000'))\n",
    "\n",
    "# Save formatted file\n",
    "wb.save('formatted_fact_table.xlsx')\n",
    "print(\"Formatted Excel file created with color-coded risk levels\")"
   ]
  }
 ],
 "metadata": {
  "kernelspec": {
   "display_name": "Python 3",
   "language": "python",
   "name": "python3"
  },
  "language_info": {
   "codemirror_mode": {
    "name": "ipython",
    "version": 3
   },
   "file_extension": ".py",
   "mimetype": "text/x-python",
   "name": "python",
   "nbconvert_exporter": "python",
   "pygments_lexer": "ipython3",
   "version": "3.13.7"
  }
 },
 "nbformat": 4,
 "nbformat_minor": 5
}

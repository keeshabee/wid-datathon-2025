{
 "cells": [
  {
   "cell_type": "code",
   "execution_count": 1,
   "id": "39621940",
   "metadata": {},
   "outputs": [
    {
     "name": "stdout",
     "output_type": "stream",
     "text": [
      "Requirement already satisfied: skyfield in c:\\users\\keesh\\appdata\\local\\programs\\python\\python313\\lib\\site-packages (1.53)\n",
      "Requirement already satisfied: plotly in c:\\users\\keesh\\appdata\\local\\programs\\python\\python313\\lib\\site-packages (6.3.0)\n",
      "Requirement already satisfied: requests in c:\\users\\keesh\\appdata\\local\\programs\\python\\python313\\lib\\site-packages (2.32.5)\n",
      "Requirement already satisfied: pandas in c:\\users\\keesh\\appdata\\local\\programs\\python\\python313\\lib\\site-packages (2.3.2)\n",
      "Requirement already satisfied: numpy in c:\\users\\keesh\\appdata\\local\\programs\\python\\python313\\lib\\site-packages (2.3.2)\n",
      "Requirement already satisfied: certifi>=2017.4.17 in c:\\users\\keesh\\appdata\\local\\programs\\python\\python313\\lib\\site-packages (from skyfield) (2025.8.3)\n",
      "Requirement already satisfied: jplephem>=2.13 in c:\\users\\keesh\\appdata\\local\\programs\\python\\python313\\lib\\site-packages (from skyfield) (2.23)\n",
      "Requirement already satisfied: sgp4>=2.13 in c:\\users\\keesh\\appdata\\local\\programs\\python\\python313\\lib\\site-packages (from skyfield) (2.25)\n",
      "Requirement already satisfied: narwhals>=1.15.1 in c:\\users\\keesh\\appdata\\local\\programs\\python\\python313\\lib\\site-packages (from plotly) (2.2.0)\n",
      "Requirement already satisfied: packaging in c:\\users\\keesh\\appdata\\roaming\\python\\python313\\site-packages (from plotly) (25.0)\n",
      "Requirement already satisfied: charset_normalizer<4,>=2 in c:\\users\\keesh\\appdata\\local\\programs\\python\\python313\\lib\\site-packages (from requests) (3.4.3)\n",
      "Requirement already satisfied: idna<4,>=2.5 in c:\\users\\keesh\\appdata\\local\\programs\\python\\python313\\lib\\site-packages (from requests) (3.10)\n",
      "Requirement already satisfied: urllib3<3,>=1.21.1 in c:\\users\\keesh\\appdata\\local\\programs\\python\\python313\\lib\\site-packages (from requests) (2.5.0)\n",
      "Requirement already satisfied: python-dateutil>=2.8.2 in c:\\users\\keesh\\appdata\\roaming\\python\\python313\\site-packages (from pandas) (2.9.0.post0)\n",
      "Requirement already satisfied: pytz>=2020.1 in c:\\users\\keesh\\appdata\\local\\programs\\python\\python313\\lib\\site-packages (from pandas) (2025.2)\n",
      "Requirement already satisfied: tzdata>=2022.7 in c:\\users\\keesh\\appdata\\local\\programs\\python\\python313\\lib\\site-packages (from pandas) (2025.2)\n",
      "Requirement already satisfied: six>=1.5 in c:\\users\\keesh\\appdata\\roaming\\python\\python313\\site-packages (from python-dateutil>=2.8.2->pandas) (1.17.0)\n",
      "Note: you may need to restart the kernel to use updated packages.\n"
     ]
    }
   ],
   "source": [
    "pip install skyfield plotly requests pandas numpy"
   ]
  },
  {
   "cell_type": "code",
   "execution_count": 2,
   "id": "5f1a26cf",
   "metadata": {},
   "outputs": [
    {
     "name": "stdout",
     "output_type": "stream",
     "text": [
      "All packages imported successfully!\n"
     ]
    }
   ],
   "source": [
    "import skyfield\n",
    "import plotly\n",
    "import requests\n",
    "print(\"All packages imported successfully!\")"
   ]
  },
  {
   "cell_type": "code",
   "execution_count": 3,
   "id": "51210349",
   "metadata": {},
   "outputs": [],
   "source": [
    "import requests\n",
    "import pandas as pd\n",
    "from skyfield.api import load, EarthSatellite, wgs84\n",
    "from datetime import datetime, timedelta\n",
    "import numpy as np\n",
    "\n",
    "# Get TLE data from CelesTrak (immediate access)\n",
    "def fetch_satellite_data():\n",
    "    url = \"https://celestrak.org/NORAD/elements/gp.php?GROUP=active&FORMAT=tle\"\n",
    "    response = requests.get(url)\n",
    "    \n",
    "    satellites = []\n",
    "    lines = response.text.strip().split('\\n')\n",
    "    \n",
    "    ts = load.timescale()\n",
    "    for i in range(0, len(lines)-2, 3):\n",
    "        try:\n",
    "            name = lines[i].strip()\n",
    "            line1 = lines[i+1].strip()\n",
    "            line2 = lines[i+2].strip()\n",
    "            \n",
    "            sat = EarthSatellite(line1, line2, name, ts)\n",
    "            \n",
    "            # Extract key orbital parameters\n",
    "            mean_motion = float(line2[52:63])  # revolutions per day\n",
    "            \n",
    "            # Simplified altitude calculation from mean motion\n",
    "            # Using the orbital period formula: T = 2π√(a³/μ)\n",
    "            orbital_period_minutes = 1440 / mean_motion  # minutes\n",
    "            altitude_km = ((orbital_period_minutes * 60)**2 * 398600.5 / (4 * np.pi**2))**(1/3) - 6371\n",
    "            \n",
    "            satellites.append({\n",
    "                'name': name,\n",
    "                'norad_id': line1[2:7],\n",
    "                'inclination': float(line2[8:16]),\n",
    "                'eccentricity': float('0.' + line2[26:33]),\n",
    "                'mean_motion': mean_motion,\n",
    "                'altitude_km': altitude_km,\n",
    "                'tle_line1': line1,\n",
    "                'tle_line2': line2\n",
    "            })\n",
    "        except:\n",
    "            continue\n",
    "    \n",
    "    return pd.DataFrame(satellites)"
   ]
  },
  {
   "cell_type": "code",
   "execution_count": 4,
   "id": "9037602f",
   "metadata": {},
   "outputs": [],
   "source": [
    "def find_satellites_over_location(df_satellites, lat, lon, city_name, time_window_hours=24):\n",
    "    \"\"\"\n",
    "    Find which satellites pass over a specific location\n",
    "    \"\"\"\n",
    "    ts = load.timescale()\n",
    "    location = wgs84.latlon(lat, lon)\n",
    "    \n",
    "    results = []\n",
    "    current_time = ts.now()\n",
    "    end_time = ts.utc(datetime.utcnow() + timedelta(hours=time_window_hours))\n",
    "    \n",
    "    for _, sat_data in df_satellites.iterrows():\n",
    "        satellite = EarthSatellite(sat_data['tle_line1'], sat_data['tle_line2'], \n",
    "                                  sat_data['name'], ts)\n",
    "        \n",
    "        # Check if satellite passes over location\n",
    "        t, events = satellite.find_events(location, current_time, end_time, \n",
    "                                         altitude_degrees=10.0)  # 10° above horizon\n",
    "        \n",
    "        if len(t) > 0:\n",
    "            # Calculate minimum distance and maximum elevation\n",
    "            for time in t:\n",
    "                difference = satellite - location\n",
    "                topocentric = difference.at(time)\n",
    "                alt, az, distance = topocentric.altaz()\n",
    "                \n",
    "                results.append({\n",
    "                    'city': city_name,\n",
    "                    'lat': lat,\n",
    "                    'lon': lon,\n",
    "                    'satellite_name': sat_data['name'],\n",
    "                    'norad_id': sat_data['norad_id'],\n",
    "                    'pass_time': time.utc_datetime(),\n",
    "                    'max_elevation_deg': alt.degrees,\n",
    "                    'distance_km': distance.km,\n",
    "                    'inclination': sat_data['inclination'],\n",
    "                    'altitude_km': sat_data['altitude_km']\n",
    "                })\n",
    "    \n",
    "    return pd.DataFrame(results)"
   ]
  },
  {
   "cell_type": "code",
   "execution_count": 5,
   "id": "17ff3f42",
   "metadata": {},
   "outputs": [],
   "source": [
    "def calculate_risk_factors(satellite_passes_df):\n",
    "    \"\"\"\n",
    "    Calculate risk factors based on orbital characteristics\n",
    "    \"\"\"\n",
    "    risk_data = []\n",
    "    \n",
    "    for city in satellite_passes_df['city'].unique():\n",
    "        city_data = satellite_passes_df[satellite_passes_df['city'] == city]\n",
    "        \n",
    "        # Risk Factor 1: Congestion (number of satellites)\n",
    "        congestion_score = len(city_data) / 100  # Normalize to 0-1\n",
    "        \n",
    "        # Risk Factor 2: Low altitude satellites (more debris risk)\n",
    "        low_alt_sats = city_data[city_data['altitude_km'] < 600]\n",
    "        debris_risk_score = len(low_alt_sats) / len(city_data) if len(city_data) > 0 else 0\n",
    "        \n",
    "        # Risk Factor 3: High inclination variation (crossing orbits)\n",
    "        inclination_std = city_data['inclination'].std()\n",
    "        crossing_risk = min(inclination_std / 90, 1)  # Normalize to 0-1\n",
    "        \n",
    "        # Composite risk score\n",
    "        total_risk = (congestion_score * 0.4 + \n",
    "                     debris_risk_score * 0.4 + \n",
    "                     crossing_risk * 0.2)\n",
    "        \n",
    "        risk_data.append({\n",
    "            'city': city,\n",
    "            'lat': city_data['lat'].iloc[0],\n",
    "            'lon': city_data['lon'].iloc[0],\n",
    "            'satellite_count': len(city_data),\n",
    "            'congestion_score': round(congestion_score, 3),\n",
    "            'debris_risk_score': round(debris_risk_score, 3),\n",
    "            'crossing_risk_score': round(crossing_risk, 3),\n",
    "            'total_risk_score': round(total_risk, 3),\n",
    "            'risk_level': 'High' if total_risk > 0.7 else 'Medium' if total_risk > 0.4 else 'Low'\n",
    "        })\n",
    "    \n",
    "    return pd.DataFrame(risk_data)"
   ]
  },
  {
   "cell_type": "code",
   "execution_count": 6,
   "id": "5bf05fca",
   "metadata": {},
   "outputs": [],
   "source": [
    "from skyfield.api import load, EarthSatellite, wgs84, utc\n",
    "from datetime import datetime, timedelta\n",
    "\n",
    "def find_satellites_over_location(df_satellites, lat, lon, city_name, time_window_hours=24):\n",
    "    \"\"\"\n",
    "    Find which satellites pass over a specific location\n",
    "    \"\"\"\n",
    "    ts = load.timescale()\n",
    "    location = wgs84.latlon(lat, lon)\n",
    "    \n",
    "    results = []\n",
    "    # Fix: Use Skyfield's time methods directly\n",
    "    current_time = ts.now()\n",
    "    \n",
    "    # Calculate end time properly\n",
    "    now = datetime.now(utc)  # timezone-aware\n",
    "    future = now + timedelta(hours=time_window_hours)\n",
    "    end_time = ts.from_datetime(future)\n",
    "    \n",
    "    for _, sat_data in df_satellites.iterrows():\n",
    "        satellite = EarthSatellite(sat_data['tle_line1'], sat_data['tle_line2'], \n",
    "                                  sat_data['name'], ts)\n",
    "        \n",
    "        # Check if satellite passes over location\n",
    "        try:\n",
    "            t, events = satellite.find_events(location, current_time, end_time, \n",
    "                                             altitude_degrees=10.0)  # 10° above horizon\n",
    "            \n",
    "            if len(t) > 0:\n",
    "                # Calculate minimum distance and maximum elevation\n",
    "                for time in t:\n",
    "                    difference = satellite - location\n",
    "                    topocentric = difference.at(time)\n",
    "                    alt, az, distance = topocentric.altaz()\n",
    "                    \n",
    "                    results.append({\n",
    "                        'city': city_name,\n",
    "                        'lat': lat,\n",
    "                        'lon': lon,\n",
    "                        'satellite_name': sat_data['name'],\n",
    "                        'norad_id': sat_data['norad_id'],\n",
    "                        'pass_time': time.utc_datetime(),\n",
    "                        'max_elevation_deg': alt.degrees,\n",
    "                        'distance_km': distance.km,\n",
    "                        'inclination': sat_data['inclination'],\n",
    "                        'altitude_km': sat_data['altitude_km']\n",
    "                    })\n",
    "        except:\n",
    "            # Skip satellites that cause computation errors\n",
    "            continue\n",
    "    \n",
    "    return pd.DataFrame(results)"
   ]
  },
  {
   "cell_type": "code",
   "execution_count": 7,
   "id": "b22f71a7",
   "metadata": {},
   "outputs": [
    {
     "data": {
      "application/vnd.plotly.v1+json": {
       "config": {
        "plotlyServerURL": "https://plot.ly"
       },
       "data": [],
       "layout": {
        "annotations": [
         {
          "font": {
           "size": 16
          },
          "showarrow": false,
          "text": "Satellite Passes Over Cities",
          "x": 0.225,
          "xanchor": "center",
          "xref": "paper",
          "y": 1,
          "yanchor": "bottom",
          "yref": "paper"
         },
         {
          "font": {
           "size": 16
          },
          "showarrow": false,
          "text": "Risk Assessment",
          "x": 0.775,
          "xanchor": "center",
          "xref": "paper",
          "y": 1,
          "yanchor": "bottom",
          "yref": "paper"
         },
         {
          "font": {
           "size": 16
          },
          "showarrow": false,
          "text": "Orbital Altitude Distribution",
          "x": 0.225,
          "xanchor": "center",
          "xref": "paper",
          "y": 0.375,
          "yanchor": "bottom",
          "yref": "paper"
         },
         {
          "font": {
           "size": 16
          },
          "showarrow": false,
          "text": "Risk Factors Breakdown",
          "x": 0.775,
          "xanchor": "center",
          "xref": "paper",
          "y": 0.375,
          "yanchor": "bottom",
          "yref": "paper"
         }
        ],
        "template": {
         "data": {
          "bar": [
           {
            "error_x": {
             "color": "#2a3f5f"
            },
            "error_y": {
             "color": "#2a3f5f"
            },
            "marker": {
             "line": {
              "color": "#E5ECF6",
              "width": 0.5
             },
             "pattern": {
              "fillmode": "overlay",
              "size": 10,
              "solidity": 0.2
             }
            },
            "type": "bar"
           }
          ],
          "barpolar": [
           {
            "marker": {
             "line": {
              "color": "#E5ECF6",
              "width": 0.5
             },
             "pattern": {
              "fillmode": "overlay",
              "size": 10,
              "solidity": 0.2
             }
            },
            "type": "barpolar"
           }
          ],
          "carpet": [
           {
            "aaxis": {
             "endlinecolor": "#2a3f5f",
             "gridcolor": "white",
             "linecolor": "white",
             "minorgridcolor": "white",
             "startlinecolor": "#2a3f5f"
            },
            "baxis": {
             "endlinecolor": "#2a3f5f",
             "gridcolor": "white",
             "linecolor": "white",
             "minorgridcolor": "white",
             "startlinecolor": "#2a3f5f"
            },
            "type": "carpet"
           }
          ],
          "choropleth": [
           {
            "colorbar": {
             "outlinewidth": 0,
             "ticks": ""
            },
            "type": "choropleth"
           }
          ],
          "contour": [
           {
            "colorbar": {
             "outlinewidth": 0,
             "ticks": ""
            },
            "colorscale": [
             [
              0,
              "#0d0887"
             ],
             [
              0.1111111111111111,
              "#46039f"
             ],
             [
              0.2222222222222222,
              "#7201a8"
             ],
             [
              0.3333333333333333,
              "#9c179e"
             ],
             [
              0.4444444444444444,
              "#bd3786"
             ],
             [
              0.5555555555555556,
              "#d8576b"
             ],
             [
              0.6666666666666666,
              "#ed7953"
             ],
             [
              0.7777777777777778,
              "#fb9f3a"
             ],
             [
              0.8888888888888888,
              "#fdca26"
             ],
             [
              1,
              "#f0f921"
             ]
            ],
            "type": "contour"
           }
          ],
          "contourcarpet": [
           {
            "colorbar": {
             "outlinewidth": 0,
             "ticks": ""
            },
            "type": "contourcarpet"
           }
          ],
          "heatmap": [
           {
            "colorbar": {
             "outlinewidth": 0,
             "ticks": ""
            },
            "colorscale": [
             [
              0,
              "#0d0887"
             ],
             [
              0.1111111111111111,
              "#46039f"
             ],
             [
              0.2222222222222222,
              "#7201a8"
             ],
             [
              0.3333333333333333,
              "#9c179e"
             ],
             [
              0.4444444444444444,
              "#bd3786"
             ],
             [
              0.5555555555555556,
              "#d8576b"
             ],
             [
              0.6666666666666666,
              "#ed7953"
             ],
             [
              0.7777777777777778,
              "#fb9f3a"
             ],
             [
              0.8888888888888888,
              "#fdca26"
             ],
             [
              1,
              "#f0f921"
             ]
            ],
            "type": "heatmap"
           }
          ],
          "histogram": [
           {
            "marker": {
             "pattern": {
              "fillmode": "overlay",
              "size": 10,
              "solidity": 0.2
             }
            },
            "type": "histogram"
           }
          ],
          "histogram2d": [
           {
            "colorbar": {
             "outlinewidth": 0,
             "ticks": ""
            },
            "colorscale": [
             [
              0,
              "#0d0887"
             ],
             [
              0.1111111111111111,
              "#46039f"
             ],
             [
              0.2222222222222222,
              "#7201a8"
             ],
             [
              0.3333333333333333,
              "#9c179e"
             ],
             [
              0.4444444444444444,
              "#bd3786"
             ],
             [
              0.5555555555555556,
              "#d8576b"
             ],
             [
              0.6666666666666666,
              "#ed7953"
             ],
             [
              0.7777777777777778,
              "#fb9f3a"
             ],
             [
              0.8888888888888888,
              "#fdca26"
             ],
             [
              1,
              "#f0f921"
             ]
            ],
            "type": "histogram2d"
           }
          ],
          "histogram2dcontour": [
           {
            "colorbar": {
             "outlinewidth": 0,
             "ticks": ""
            },
            "colorscale": [
             [
              0,
              "#0d0887"
             ],
             [
              0.1111111111111111,
              "#46039f"
             ],
             [
              0.2222222222222222,
              "#7201a8"
             ],
             [
              0.3333333333333333,
              "#9c179e"
             ],
             [
              0.4444444444444444,
              "#bd3786"
             ],
             [
              0.5555555555555556,
              "#d8576b"
             ],
             [
              0.6666666666666666,
              "#ed7953"
             ],
             [
              0.7777777777777778,
              "#fb9f3a"
             ],
             [
              0.8888888888888888,
              "#fdca26"
             ],
             [
              1,
              "#f0f921"
             ]
            ],
            "type": "histogram2dcontour"
           }
          ],
          "mesh3d": [
           {
            "colorbar": {
             "outlinewidth": 0,
             "ticks": ""
            },
            "type": "mesh3d"
           }
          ],
          "parcoords": [
           {
            "line": {
             "colorbar": {
              "outlinewidth": 0,
              "ticks": ""
             }
            },
            "type": "parcoords"
           }
          ],
          "pie": [
           {
            "automargin": true,
            "type": "pie"
           }
          ],
          "scatter": [
           {
            "fillpattern": {
             "fillmode": "overlay",
             "size": 10,
             "solidity": 0.2
            },
            "type": "scatter"
           }
          ],
          "scatter3d": [
           {
            "line": {
             "colorbar": {
              "outlinewidth": 0,
              "ticks": ""
             }
            },
            "marker": {
             "colorbar": {
              "outlinewidth": 0,
              "ticks": ""
             }
            },
            "type": "scatter3d"
           }
          ],
          "scattercarpet": [
           {
            "marker": {
             "colorbar": {
              "outlinewidth": 0,
              "ticks": ""
             }
            },
            "type": "scattercarpet"
           }
          ],
          "scattergeo": [
           {
            "marker": {
             "colorbar": {
              "outlinewidth": 0,
              "ticks": ""
             }
            },
            "type": "scattergeo"
           }
          ],
          "scattergl": [
           {
            "marker": {
             "colorbar": {
              "outlinewidth": 0,
              "ticks": ""
             }
            },
            "type": "scattergl"
           }
          ],
          "scattermap": [
           {
            "marker": {
             "colorbar": {
              "outlinewidth": 0,
              "ticks": ""
             }
            },
            "type": "scattermap"
           }
          ],
          "scattermapbox": [
           {
            "marker": {
             "colorbar": {
              "outlinewidth": 0,
              "ticks": ""
             }
            },
            "type": "scattermapbox"
           }
          ],
          "scatterpolar": [
           {
            "marker": {
             "colorbar": {
              "outlinewidth": 0,
              "ticks": ""
             }
            },
            "type": "scatterpolar"
           }
          ],
          "scatterpolargl": [
           {
            "marker": {
             "colorbar": {
              "outlinewidth": 0,
              "ticks": ""
             }
            },
            "type": "scatterpolargl"
           }
          ],
          "scatterternary": [
           {
            "marker": {
             "colorbar": {
              "outlinewidth": 0,
              "ticks": ""
             }
            },
            "type": "scatterternary"
           }
          ],
          "surface": [
           {
            "colorbar": {
             "outlinewidth": 0,
             "ticks": ""
            },
            "colorscale": [
             [
              0,
              "#0d0887"
             ],
             [
              0.1111111111111111,
              "#46039f"
             ],
             [
              0.2222222222222222,
              "#7201a8"
             ],
             [
              0.3333333333333333,
              "#9c179e"
             ],
             [
              0.4444444444444444,
              "#bd3786"
             ],
             [
              0.5555555555555556,
              "#d8576b"
             ],
             [
              0.6666666666666666,
              "#ed7953"
             ],
             [
              0.7777777777777778,
              "#fb9f3a"
             ],
             [
              0.8888888888888888,
              "#fdca26"
             ],
             [
              1,
              "#f0f921"
             ]
            ],
            "type": "surface"
           }
          ],
          "table": [
           {
            "cells": {
             "fill": {
              "color": "#EBF0F8"
             },
             "line": {
              "color": "white"
             }
            },
            "header": {
             "fill": {
              "color": "#C8D4E3"
             },
             "line": {
              "color": "white"
             }
            },
            "type": "table"
           }
          ]
         },
         "layout": {
          "annotationdefaults": {
           "arrowcolor": "#2a3f5f",
           "arrowhead": 0,
           "arrowwidth": 1
          },
          "autotypenumbers": "strict",
          "coloraxis": {
           "colorbar": {
            "outlinewidth": 0,
            "ticks": ""
           }
          },
          "colorscale": {
           "diverging": [
            [
             0,
             "#8e0152"
            ],
            [
             0.1,
             "#c51b7d"
            ],
            [
             0.2,
             "#de77ae"
            ],
            [
             0.3,
             "#f1b6da"
            ],
            [
             0.4,
             "#fde0ef"
            ],
            [
             0.5,
             "#f7f7f7"
            ],
            [
             0.6,
             "#e6f5d0"
            ],
            [
             0.7,
             "#b8e186"
            ],
            [
             0.8,
             "#7fbc41"
            ],
            [
             0.9,
             "#4d9221"
            ],
            [
             1,
             "#276419"
            ]
           ],
           "sequential": [
            [
             0,
             "#0d0887"
            ],
            [
             0.1111111111111111,
             "#46039f"
            ],
            [
             0.2222222222222222,
             "#7201a8"
            ],
            [
             0.3333333333333333,
             "#9c179e"
            ],
            [
             0.4444444444444444,
             "#bd3786"
            ],
            [
             0.5555555555555556,
             "#d8576b"
            ],
            [
             0.6666666666666666,
             "#ed7953"
            ],
            [
             0.7777777777777778,
             "#fb9f3a"
            ],
            [
             0.8888888888888888,
             "#fdca26"
            ],
            [
             1,
             "#f0f921"
            ]
           ],
           "sequentialminus": [
            [
             0,
             "#0d0887"
            ],
            [
             0.1111111111111111,
             "#46039f"
            ],
            [
             0.2222222222222222,
             "#7201a8"
            ],
            [
             0.3333333333333333,
             "#9c179e"
            ],
            [
             0.4444444444444444,
             "#bd3786"
            ],
            [
             0.5555555555555556,
             "#d8576b"
            ],
            [
             0.6666666666666666,
             "#ed7953"
            ],
            [
             0.7777777777777778,
             "#fb9f3a"
            ],
            [
             0.8888888888888888,
             "#fdca26"
            ],
            [
             1,
             "#f0f921"
            ]
           ]
          },
          "colorway": [
           "#636efa",
           "#EF553B",
           "#00cc96",
           "#ab63fa",
           "#FFA15A",
           "#19d3f3",
           "#FF6692",
           "#B6E880",
           "#FF97FF",
           "#FECB52"
          ],
          "font": {
           "color": "#2a3f5f"
          },
          "geo": {
           "bgcolor": "white",
           "lakecolor": "white",
           "landcolor": "#E5ECF6",
           "showlakes": true,
           "showland": true,
           "subunitcolor": "white"
          },
          "hoverlabel": {
           "align": "left"
          },
          "hovermode": "closest",
          "mapbox": {
           "style": "light"
          },
          "paper_bgcolor": "white",
          "plot_bgcolor": "#E5ECF6",
          "polar": {
           "angularaxis": {
            "gridcolor": "white",
            "linecolor": "white",
            "ticks": ""
           },
           "bgcolor": "#E5ECF6",
           "radialaxis": {
            "gridcolor": "white",
            "linecolor": "white",
            "ticks": ""
           }
          },
          "scene": {
           "xaxis": {
            "backgroundcolor": "#E5ECF6",
            "gridcolor": "white",
            "gridwidth": 2,
            "linecolor": "white",
            "showbackground": true,
            "ticks": "",
            "zerolinecolor": "white"
           },
           "yaxis": {
            "backgroundcolor": "#E5ECF6",
            "gridcolor": "white",
            "gridwidth": 2,
            "linecolor": "white",
            "showbackground": true,
            "ticks": "",
            "zerolinecolor": "white"
           },
           "zaxis": {
            "backgroundcolor": "#E5ECF6",
            "gridcolor": "white",
            "gridwidth": 2,
            "linecolor": "white",
            "showbackground": true,
            "ticks": "",
            "zerolinecolor": "white"
           }
          },
          "shapedefaults": {
           "line": {
            "color": "#2a3f5f"
           }
          },
          "ternary": {
           "aaxis": {
            "gridcolor": "white",
            "linecolor": "white",
            "ticks": ""
           },
           "baxis": {
            "gridcolor": "white",
            "linecolor": "white",
            "ticks": ""
           },
           "bgcolor": "#E5ECF6",
           "caxis": {
            "gridcolor": "white",
            "linecolor": "white",
            "ticks": ""
           }
          },
          "title": {
           "x": 0.05
          },
          "xaxis": {
           "automargin": true,
           "gridcolor": "white",
           "linecolor": "white",
           "ticks": "",
           "title": {
            "standoff": 15
           },
           "zerolinecolor": "white",
           "zerolinewidth": 2
          },
          "yaxis": {
           "automargin": true,
           "gridcolor": "white",
           "linecolor": "white",
           "ticks": "",
           "title": {
            "standoff": 15
           },
           "zerolinecolor": "white",
           "zerolinewidth": 2
          }
         }
        },
        "xaxis": {
         "anchor": "y",
         "domain": [
          0,
          0.45
         ]
        },
        "xaxis2": {
         "anchor": "y2",
         "domain": [
          0.55,
          1
         ]
        },
        "xaxis3": {
         "anchor": "y3",
         "domain": [
          0,
          0.45
         ]
        },
        "xaxis4": {
         "anchor": "y4",
         "domain": [
          0.55,
          1
         ]
        },
        "yaxis": {
         "anchor": "x",
         "domain": [
          0.625,
          1
         ]
        },
        "yaxis2": {
         "anchor": "x2",
         "domain": [
          0.625,
          1
         ]
        },
        "yaxis3": {
         "anchor": "x3",
         "domain": [
          0,
          0.375
         ]
        },
        "yaxis4": {
         "anchor": "x4",
         "domain": [
          0,
          0.375
         ]
        }
       }
      }
     },
     "metadata": {},
     "output_type": "display_data"
    }
   ],
   "source": [
    "import plotly.graph_objects as go\n",
    "from plotly.subplots import make_subplots\n",
    "\n",
    "# Create comparison dashboard\n",
    "fig = make_subplots(\n",
    "    rows=2, cols=2,\n",
    "    subplot_titles=('Satellite Passes Over Cities', 'Risk Assessment',\n",
    "                    'Orbital Altitude Distribution', 'Risk Factors Breakdown')\n",
    ")\n",
    "\n",
    "# Add traces for each subplot\n",
    "# ... (visualization code)\n",
    "\n",
    "fig.show()"
   ]
  },
  {
   "cell_type": "code",
   "execution_count": 8,
   "id": "5f254490",
   "metadata": {},
   "outputs": [
    {
     "name": "stdout",
     "output_type": "stream",
     "text": [
      "Fetching satellite data...\n",
      "Loaded 12706 satellites\n",
      "\n",
      "City Risk Assessment:\n",
      "             City  LEO Risk Factor  GEO Visibility Factor  Polar Coverage Factor  Total Risk Score Risk Level\n",
      "0    Philadelphia           11.902                  3.303                 14.516             9.845       High\n",
      "1  Rio de Janeiro           11.902                  4.428                  8.323             8.944       High\n",
      "\n",
      "\n"
     ]
    },
    {
     "data": {
      "application/vnd.plotly.v1+json": {
       "config": {
        "plotlyServerURL": "https://plot.ly"
       },
       "data": [
        {
         "marker": {
          "color": "blue"
         },
         "name": "Altitude",
         "nbinsx": 50,
         "type": "histogram",
         "x": {
          "bdata": "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",
          "dtype": "f8"
         },
         "xaxis": "x",
         "yaxis": "y"
        },
        {
         "marker": {
          "color": "green"
         },
         "name": "Philadelphia",
         "type": "bar",
         "x": [
          "LEO Risk",
          "GEO Visibility",
          "Polar Coverage",
          "Total Risk"
         ],
         "xaxis": "x2",
         "y": [
          11.902,
          3.303,
          14.516,
          9.845
         ],
         "yaxis": "y2"
        },
        {
         "marker": {
          "color": "orange"
         },
         "name": "Rio de Janeiro",
         "type": "bar",
         "x": [
          "LEO Risk",
          "GEO Visibility",
          "Polar Coverage",
          "Total Risk"
         ],
         "xaxis": "x2",
         "y": [
          11.902,
          4.428,
          8.323,
          8.944
         ],
         "yaxis": "y2"
        },
        {
         "marker": {
          "color": [
           "red",
           "yellow",
           "blue"
          ]
         },
         "text": [
          "11902",
          "210",
          "594"
         ],
         "textposition": "outside",
         "type": "bar",
         "x": [
          "LEO",
          "MEO",
          "GEO"
         ],
         "xaxis": "x3",
         "y": [
          11902,
          210,
          594
         ],
         "yaxis": "y3"
        },
        {
         "marker": {
          "color": "purple",
          "opacity": 0.5,
          "size": 2
         },
         "mode": "markers",
         "name": "Satellites",
         "type": "scatter",
         "x": {
          "bdata": "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",
          "dtype": "f8"
         },
         "xaxis": "x4",
         "y": {
          "bdata": "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",
          "dtype": "f8"
         },
         "yaxis": "y4"
        }
       ],
       "layout": {
        "annotations": [
         {
          "font": {
           "size": 16
          },
          "showarrow": false,
          "text": "Orbital Altitude Distribution",
          "x": 0.225,
          "xanchor": "center",
          "xref": "paper",
          "y": 1,
          "yanchor": "bottom",
          "yref": "paper"
         },
         {
          "font": {
           "size": 16
          },
          "showarrow": false,
          "text": "Risk Comparison: Philadelphia vs Rio",
          "x": 0.775,
          "xanchor": "center",
          "xref": "paper",
          "y": 1,
          "yanchor": "bottom",
          "yref": "paper"
         },
         {
          "font": {
           "size": 16
          },
          "showarrow": false,
          "text": "Satellites by Orbital Zone",
          "x": 0.225,
          "xanchor": "center",
          "xref": "paper",
          "y": 0.375,
          "yanchor": "bottom",
          "yref": "paper"
         },
         {
          "font": {
           "size": 16
          },
          "showarrow": false,
          "text": "Inclination vs Altitude",
          "x": 0.775,
          "xanchor": "center",
          "xref": "paper",
          "y": 0.375,
          "yanchor": "bottom",
          "yref": "paper"
         }
        ],
        "height": 800,
        "showlegend": true,
        "template": {
         "data": {
          "bar": [
           {
            "error_x": {
             "color": "#2a3f5f"
            },
            "error_y": {
             "color": "#2a3f5f"
            },
            "marker": {
             "line": {
              "color": "#E5ECF6",
              "width": 0.5
             },
             "pattern": {
              "fillmode": "overlay",
              "size": 10,
              "solidity": 0.2
             }
            },
            "type": "bar"
           }
          ],
          "barpolar": [
           {
            "marker": {
             "line": {
              "color": "#E5ECF6",
              "width": 0.5
             },
             "pattern": {
              "fillmode": "overlay",
              "size": 10,
              "solidity": 0.2
             }
            },
            "type": "barpolar"
           }
          ],
          "carpet": [
           {
            "aaxis": {
             "endlinecolor": "#2a3f5f",
             "gridcolor": "white",
             "linecolor": "white",
             "minorgridcolor": "white",
             "startlinecolor": "#2a3f5f"
            },
            "baxis": {
             "endlinecolor": "#2a3f5f",
             "gridcolor": "white",
             "linecolor": "white",
             "minorgridcolor": "white",
             "startlinecolor": "#2a3f5f"
            },
            "type": "carpet"
           }
          ],
          "choropleth": [
           {
            "colorbar": {
             "outlinewidth": 0,
             "ticks": ""
            },
            "type": "choropleth"
           }
          ],
          "contour": [
           {
            "colorbar": {
             "outlinewidth": 0,
             "ticks": ""
            },
            "colorscale": [
             [
              0,
              "#0d0887"
             ],
             [
              0.1111111111111111,
              "#46039f"
             ],
             [
              0.2222222222222222,
              "#7201a8"
             ],
             [
              0.3333333333333333,
              "#9c179e"
             ],
             [
              0.4444444444444444,
              "#bd3786"
             ],
             [
              0.5555555555555556,
              "#d8576b"
             ],
             [
              0.6666666666666666,
              "#ed7953"
             ],
             [
              0.7777777777777778,
              "#fb9f3a"
             ],
             [
              0.8888888888888888,
              "#fdca26"
             ],
             [
              1,
              "#f0f921"
             ]
            ],
            "type": "contour"
           }
          ],
          "contourcarpet": [
           {
            "colorbar": {
             "outlinewidth": 0,
             "ticks": ""
            },
            "type": "contourcarpet"
           }
          ],
          "heatmap": [
           {
            "colorbar": {
             "outlinewidth": 0,
             "ticks": ""
            },
            "colorscale": [
             [
              0,
              "#0d0887"
             ],
             [
              0.1111111111111111,
              "#46039f"
             ],
             [
              0.2222222222222222,
              "#7201a8"
             ],
             [
              0.3333333333333333,
              "#9c179e"
             ],
             [
              0.4444444444444444,
              "#bd3786"
             ],
             [
              0.5555555555555556,
              "#d8576b"
             ],
             [
              0.6666666666666666,
              "#ed7953"
             ],
             [
              0.7777777777777778,
              "#fb9f3a"
             ],
             [
              0.8888888888888888,
              "#fdca26"
             ],
             [
              1,
              "#f0f921"
             ]
            ],
            "type": "heatmap"
           }
          ],
          "histogram": [
           {
            "marker": {
             "pattern": {
              "fillmode": "overlay",
              "size": 10,
              "solidity": 0.2
             }
            },
            "type": "histogram"
           }
          ],
          "histogram2d": [
           {
            "colorbar": {
             "outlinewidth": 0,
             "ticks": ""
            },
            "colorscale": [
             [
              0,
              "#0d0887"
             ],
             [
              0.1111111111111111,
              "#46039f"
             ],
             [
              0.2222222222222222,
              "#7201a8"
             ],
             [
              0.3333333333333333,
              "#9c179e"
             ],
             [
              0.4444444444444444,
              "#bd3786"
             ],
             [
              0.5555555555555556,
              "#d8576b"
             ],
             [
              0.6666666666666666,
              "#ed7953"
             ],
             [
              0.7777777777777778,
              "#fb9f3a"
             ],
             [
              0.8888888888888888,
              "#fdca26"
             ],
             [
              1,
              "#f0f921"
             ]
            ],
            "type": "histogram2d"
           }
          ],
          "histogram2dcontour": [
           {
            "colorbar": {
             "outlinewidth": 0,
             "ticks": ""
            },
            "colorscale": [
             [
              0,
              "#0d0887"
             ],
             [
              0.1111111111111111,
              "#46039f"
             ],
             [
              0.2222222222222222,
              "#7201a8"
             ],
             [
              0.3333333333333333,
              "#9c179e"
             ],
             [
              0.4444444444444444,
              "#bd3786"
             ],
             [
              0.5555555555555556,
              "#d8576b"
             ],
             [
              0.6666666666666666,
              "#ed7953"
             ],
             [
              0.7777777777777778,
              "#fb9f3a"
             ],
             [
              0.8888888888888888,
              "#fdca26"
             ],
             [
              1,
              "#f0f921"
             ]
            ],
            "type": "histogram2dcontour"
           }
          ],
          "mesh3d": [
           {
            "colorbar": {
             "outlinewidth": 0,
             "ticks": ""
            },
            "type": "mesh3d"
           }
          ],
          "parcoords": [
           {
            "line": {
             "colorbar": {
              "outlinewidth": 0,
              "ticks": ""
             }
            },
            "type": "parcoords"
           }
          ],
          "pie": [
           {
            "automargin": true,
            "type": "pie"
           }
          ],
          "scatter": [
           {
            "fillpattern": {
             "fillmode": "overlay",
             "size": 10,
             "solidity": 0.2
            },
            "type": "scatter"
           }
          ],
          "scatter3d": [
           {
            "line": {
             "colorbar": {
              "outlinewidth": 0,
              "ticks": ""
             }
            },
            "marker": {
             "colorbar": {
              "outlinewidth": 0,
              "ticks": ""
             }
            },
            "type": "scatter3d"
           }
          ],
          "scattercarpet": [
           {
            "marker": {
             "colorbar": {
              "outlinewidth": 0,
              "ticks": ""
             }
            },
            "type": "scattercarpet"
           }
          ],
          "scattergeo": [
           {
            "marker": {
             "colorbar": {
              "outlinewidth": 0,
              "ticks": ""
             }
            },
            "type": "scattergeo"
           }
          ],
          "scattergl": [
           {
            "marker": {
             "colorbar": {
              "outlinewidth": 0,
              "ticks": ""
             }
            },
            "type": "scattergl"
           }
          ],
          "scattermap": [
           {
            "marker": {
             "colorbar": {
              "outlinewidth": 0,
              "ticks": ""
             }
            },
            "type": "scattermap"
           }
          ],
          "scattermapbox": [
           {
            "marker": {
             "colorbar": {
              "outlinewidth": 0,
              "ticks": ""
             }
            },
            "type": "scattermapbox"
           }
          ],
          "scatterpolar": [
           {
            "marker": {
             "colorbar": {
              "outlinewidth": 0,
              "ticks": ""
             }
            },
            "type": "scatterpolar"
           }
          ],
          "scatterpolargl": [
           {
            "marker": {
             "colorbar": {
              "outlinewidth": 0,
              "ticks": ""
             }
            },
            "type": "scatterpolargl"
           }
          ],
          "scatterternary": [
           {
            "marker": {
             "colorbar": {
              "outlinewidth": 0,
              "ticks": ""
             }
            },
            "type": "scatterternary"
           }
          ],
          "surface": [
           {
            "colorbar": {
             "outlinewidth": 0,
             "ticks": ""
            },
            "colorscale": [
             [
              0,
              "#0d0887"
             ],
             [
              0.1111111111111111,
              "#46039f"
             ],
             [
              0.2222222222222222,
              "#7201a8"
             ],
             [
              0.3333333333333333,
              "#9c179e"
             ],
             [
              0.4444444444444444,
              "#bd3786"
             ],
             [
              0.5555555555555556,
              "#d8576b"
             ],
             [
              0.6666666666666666,
              "#ed7953"
             ],
             [
              0.7777777777777778,
              "#fb9f3a"
             ],
             [
              0.8888888888888888,
              "#fdca26"
             ],
             [
              1,
              "#f0f921"
             ]
            ],
            "type": "surface"
           }
          ],
          "table": [
           {
            "cells": {
             "fill": {
              "color": "#EBF0F8"
             },
             "line": {
              "color": "white"
             }
            },
            "header": {
             "fill": {
              "color": "#C8D4E3"
             },
             "line": {
              "color": "white"
             }
            },
            "type": "table"
           }
          ]
         },
         "layout": {
          "annotationdefaults": {
           "arrowcolor": "#2a3f5f",
           "arrowhead": 0,
           "arrowwidth": 1
          },
          "autotypenumbers": "strict",
          "coloraxis": {
           "colorbar": {
            "outlinewidth": 0,
            "ticks": ""
           }
          },
          "colorscale": {
           "diverging": [
            [
             0,
             "#8e0152"
            ],
            [
             0.1,
             "#c51b7d"
            ],
            [
             0.2,
             "#de77ae"
            ],
            [
             0.3,
             "#f1b6da"
            ],
            [
             0.4,
             "#fde0ef"
            ],
            [
             0.5,
             "#f7f7f7"
            ],
            [
             0.6,
             "#e6f5d0"
            ],
            [
             0.7,
             "#b8e186"
            ],
            [
             0.8,
             "#7fbc41"
            ],
            [
             0.9,
             "#4d9221"
            ],
            [
             1,
             "#276419"
            ]
           ],
           "sequential": [
            [
             0,
             "#0d0887"
            ],
            [
             0.1111111111111111,
             "#46039f"
            ],
            [
             0.2222222222222222,
             "#7201a8"
            ],
            [
             0.3333333333333333,
             "#9c179e"
            ],
            [
             0.4444444444444444,
             "#bd3786"
            ],
            [
             0.5555555555555556,
             "#d8576b"
            ],
            [
             0.6666666666666666,
             "#ed7953"
            ],
            [
             0.7777777777777778,
             "#fb9f3a"
            ],
            [
             0.8888888888888888,
             "#fdca26"
            ],
            [
             1,
             "#f0f921"
            ]
           ],
           "sequentialminus": [
            [
             0,
             "#0d0887"
            ],
            [
             0.1111111111111111,
             "#46039f"
            ],
            [
             0.2222222222222222,
             "#7201a8"
            ],
            [
             0.3333333333333333,
             "#9c179e"
            ],
            [
             0.4444444444444444,
             "#bd3786"
            ],
            [
             0.5555555555555556,
             "#d8576b"
            ],
            [
             0.6666666666666666,
             "#ed7953"
            ],
            [
             0.7777777777777778,
             "#fb9f3a"
            ],
            [
             0.8888888888888888,
             "#fdca26"
            ],
            [
             1,
             "#f0f921"
            ]
           ]
          },
          "colorway": [
           "#636efa",
           "#EF553B",
           "#00cc96",
           "#ab63fa",
           "#FFA15A",
           "#19d3f3",
           "#FF6692",
           "#B6E880",
           "#FF97FF",
           "#FECB52"
          ],
          "font": {
           "color": "#2a3f5f"
          },
          "geo": {
           "bgcolor": "white",
           "lakecolor": "white",
           "landcolor": "#E5ECF6",
           "showlakes": true,
           "showland": true,
           "subunitcolor": "white"
          },
          "hoverlabel": {
           "align": "left"
          },
          "hovermode": "closest",
          "mapbox": {
           "style": "light"
          },
          "paper_bgcolor": "white",
          "plot_bgcolor": "#E5ECF6",
          "polar": {
           "angularaxis": {
            "gridcolor": "white",
            "linecolor": "white",
            "ticks": ""
           },
           "bgcolor": "#E5ECF6",
           "radialaxis": {
            "gridcolor": "white",
            "linecolor": "white",
            "ticks": ""
           }
          },
          "scene": {
           "xaxis": {
            "backgroundcolor": "#E5ECF6",
            "gridcolor": "white",
            "gridwidth": 2,
            "linecolor": "white",
            "showbackground": true,
            "ticks": "",
            "zerolinecolor": "white"
           },
           "yaxis": {
            "backgroundcolor": "#E5ECF6",
            "gridcolor": "white",
            "gridwidth": 2,
            "linecolor": "white",
            "showbackground": true,
            "ticks": "",
            "zerolinecolor": "white"
           },
           "zaxis": {
            "backgroundcolor": "#E5ECF6",
            "gridcolor": "white",
            "gridwidth": 2,
            "linecolor": "white",
            "showbackground": true,
            "ticks": "",
            "zerolinecolor": "white"
           }
          },
          "shapedefaults": {
           "line": {
            "color": "#2a3f5f"
           }
          },
          "ternary": {
           "aaxis": {
            "gridcolor": "white",
            "linecolor": "white",
            "ticks": ""
           },
           "baxis": {
            "gridcolor": "white",
            "linecolor": "white",
            "ticks": ""
           },
           "bgcolor": "#E5ECF6",
           "caxis": {
            "gridcolor": "white",
            "linecolor": "white",
            "ticks": ""
           }
          },
          "title": {
           "x": 0.05
          },
          "xaxis": {
           "automargin": true,
           "gridcolor": "white",
           "linecolor": "white",
           "ticks": "",
           "title": {
            "standoff": 15
           },
           "zerolinecolor": "white",
           "zerolinewidth": 2
          },
          "yaxis": {
           "automargin": true,
           "gridcolor": "white",
           "linecolor": "white",
           "ticks": "",
           "title": {
            "standoff": 15
           },
           "zerolinecolor": "white",
           "zerolinewidth": 2
          }
         }
        },
        "title": {
         "text": "Space Situational Awareness Dashboard: Philadelphia vs Rio de Janeiro"
        },
        "xaxis": {
         "anchor": "y",
         "domain": [
          0,
          0.45
         ],
         "title": {
          "text": "Altitude (km)"
         }
        },
        "xaxis2": {
         "anchor": "y2",
         "domain": [
          0.55,
          1
         ],
         "title": {
          "text": "Risk Category"
         }
        },
        "xaxis3": {
         "anchor": "y3",
         "domain": [
          0,
          0.45
         ],
         "title": {
          "text": "Orbit Zone"
         }
        },
        "xaxis4": {
         "anchor": "y4",
         "domain": [
          0.55,
          1
         ],
         "title": {
          "text": "Altitude (km)"
         }
        },
        "yaxis": {
         "anchor": "x",
         "domain": [
          0.625,
          1
         ],
         "title": {
          "text": "Count"
         }
        },
        "yaxis2": {
         "anchor": "x2",
         "domain": [
          0.625,
          1
         ],
         "title": {
          "text": "Risk Score"
         }
        },
        "yaxis3": {
         "anchor": "x3",
         "domain": [
          0,
          0.375
         ],
         "title": {
          "text": "Number of Satellites"
         }
        },
        "yaxis4": {
         "anchor": "x4",
         "domain": [
          0,
          0.375
         ],
         "title": {
          "text": "Inclination (degrees)"
         }
        }
       }
      }
     },
     "metadata": {},
     "output_type": "display_data"
    },
    {
     "name": "stdout",
     "output_type": "stream",
     "text": [
      "\n",
      "Key Findings for Presentation:\n",
      "- Total Active Satellites Tracked: 12706\n",
      "- LEO Satellites (highest collision risk): 11902\n",
      "- Philadelphia Risk Level: High (Score: 9.845)\n",
      "- Rio de Janeiro Risk Level: High (Score: 8.944)\n"
     ]
    }
   ],
   "source": [
    "import requests\n",
    "import pandas as pd\n",
    "import numpy as np\n",
    "from skyfield.api import load, EarthSatellite, wgs84, utc\n",
    "from datetime import datetime, timedelta\n",
    "import plotly.graph_objects as go\n",
    "from plotly.subplots import make_subplots\n",
    "\n",
    "# Step 1: Fetch satellite data\n",
    "print(\"Fetching satellite data...\")\n",
    "url = \"https://celestrak.org/NORAD/elements/gp.php?GROUP=active&FORMAT=tle\"\n",
    "response = requests.get(url)\n",
    "\n",
    "satellites = []\n",
    "lines = response.text.strip().split('\\n')\n",
    "ts = load.timescale()\n",
    "\n",
    "for i in range(0, len(lines)-2, 3):\n",
    "    try:\n",
    "        name = lines[i].strip()\n",
    "        line1 = lines[i+1].strip()\n",
    "        line2 = lines[i+2].strip()\n",
    "        \n",
    "        mean_motion = float(line2[52:63])\n",
    "        orbital_period_minutes = 1440 / mean_motion\n",
    "        altitude_km = ((orbital_period_minutes * 60)**2 * 398600.5 / (4 * np.pi**2))**(1/3) - 6371\n",
    "        \n",
    "        satellites.append({\n",
    "            'name': name,\n",
    "            'norad_id': line1[2:7],\n",
    "            'inclination': float(line2[8:16]),\n",
    "            'eccentricity': float('0.' + line2[26:33]),\n",
    "            'mean_motion': mean_motion,\n",
    "            'altitude_km': altitude_km\n",
    "        })\n",
    "    except:\n",
    "        continue\n",
    "\n",
    "df_satellites = pd.DataFrame(satellites)\n",
    "print(f\"Loaded {len(df_satellites)} satellites\\n\")\n",
    "\n",
    "# Step 2: Define cities\n",
    "cities = {\n",
    "    'Philadelphia': {'lat': 39.9526, 'lon': -75.1652},\n",
    "    'Rio de Janeiro': {'lat': -22.9068, 'lon': -43.1729}\n",
    "}\n",
    "\n",
    "# Step 3: Create risk assessment based on orbital characteristics\n",
    "cities_risk = []\n",
    "for city_name, coords in cities.items():\n",
    "    lat = coords['lat']\n",
    "    \n",
    "    # Calculate risk factors\n",
    "    leo_count = len(df_satellites[df_satellites['altitude_km'] < 2000])\n",
    "    leo_risk = leo_count / 1000\n",
    "    \n",
    "    geo_visibility = 1 - (abs(lat) / 90)\n",
    "    geo_count = len(df_satellites[df_satellites['altitude_km'] >= 35786])\n",
    "    geo_risk = geo_count * geo_visibility / 100\n",
    "    \n",
    "    polar_sats = df_satellites[(df_satellites['inclination'] > 80) & \n",
    "                               (df_satellites['inclination'] < 100)]\n",
    "    polar_risk = len(polar_sats) * (abs(lat) / 90) / 100\n",
    "    \n",
    "    total_risk = (leo_risk * 0.5 + geo_risk * 0.3 + polar_risk * 0.2)\n",
    "    \n",
    "    cities_risk.append({\n",
    "        'City': city_name,\n",
    "        'Latitude': lat,\n",
    "        'Longitude': coords['lon'],\n",
    "        'LEO Risk Factor': round(leo_risk, 3),\n",
    "        'GEO Visibility Factor': round(geo_risk, 3),\n",
    "        'Polar Coverage Factor': round(polar_risk, 3),\n",
    "        'Total Risk Score': round(total_risk, 3),\n",
    "        'Risk Level': 'High' if total_risk > 0.5 else 'Medium' if total_risk > 0.3 else 'Low'\n",
    "    })\n",
    "\n",
    "risk_df = pd.DataFrame(cities_risk)\n",
    "print(\"City Risk Assessment:\")\n",
    "print(risk_df[['City', 'LEO Risk Factor', 'GEO Visibility Factor', \n",
    "               'Polar Coverage Factor', 'Total Risk Score', 'Risk Level']].to_string())\n",
    "print(\"\\n\")\n",
    "\n",
    "# Step 4: Create comprehensive dashboard\n",
    "fig = make_subplots(\n",
    "    rows=2, cols=2,\n",
    "    subplot_titles=('Orbital Altitude Distribution', \n",
    "                    'Risk Comparison: Philadelphia vs Rio',\n",
    "                    'Satellites by Orbital Zone', \n",
    "                    'Inclination vs Altitude'),\n",
    "    specs=[[{'type': 'histogram'}, {'type': 'bar'}],\n",
    "           [{'type': 'bar'}, {'type': 'scatter'}]]\n",
    ")\n",
    "\n",
    "# Plot 1: Altitude distribution\n",
    "fig.add_trace(\n",
    "    go.Histogram(x=df_satellites['altitude_km'], nbinsx=50, \n",
    "                 name='Altitude', marker_color='blue'),\n",
    "    row=1, col=1\n",
    ")\n",
    "\n",
    "# Plot 2: Risk comparison\n",
    "fig.add_trace(\n",
    "    go.Bar(name='Philadelphia', \n",
    "           x=['LEO Risk', 'GEO Visibility', 'Polar Coverage', 'Total Risk'], \n",
    "           y=[risk_df.iloc[0]['LEO Risk Factor'], \n",
    "              risk_df.iloc[0]['GEO Visibility Factor'],\n",
    "              risk_df.iloc[0]['Polar Coverage Factor'],\n",
    "              risk_df.iloc[0]['Total Risk Score']],\n",
    "           marker_color='green'),\n",
    "    row=1, col=2\n",
    ")\n",
    "fig.add_trace(\n",
    "    go.Bar(name='Rio de Janeiro', \n",
    "           x=['LEO Risk', 'GEO Visibility', 'Polar Coverage', 'Total Risk'], \n",
    "           y=[risk_df.iloc[1]['LEO Risk Factor'], \n",
    "              risk_df.iloc[1]['GEO Visibility Factor'],\n",
    "              risk_df.iloc[1]['Polar Coverage Factor'],\n",
    "              risk_df.iloc[1]['Total Risk Score']],\n",
    "           marker_color='orange'),\n",
    "    row=1, col=2\n",
    ")\n",
    "\n",
    "# Plot 3: Satellites by zone\n",
    "leo = len(df_satellites[df_satellites['altitude_km'] < 2000])\n",
    "meo = len(df_satellites[(df_satellites['altitude_km'] >= 2000) & \n",
    "                        (df_satellites['altitude_km'] < 35786)])\n",
    "geo = len(df_satellites[df_satellites['altitude_km'] >= 35786])\n",
    "\n",
    "fig.add_trace(\n",
    "    go.Bar(x=['LEO', 'MEO', 'GEO'],\n",
    "           y=[leo, meo, geo],\n",
    "           text=[f'{leo}', f'{meo}', f'{geo}'],\n",
    "           textposition='outside',\n",
    "           marker_color=['red', 'yellow', 'blue']),\n",
    "    row=2, col=1\n",
    ")\n",
    "\n",
    "# Plot 4: Inclination vs Altitude scatter\n",
    "fig.add_trace(\n",
    "    go.Scatter(x=df_satellites['altitude_km'], \n",
    "               y=df_satellites['inclination'],\n",
    "               mode='markers',\n",
    "               marker=dict(size=2, opacity=0.5, color='purple'),\n",
    "               name='Satellites'),\n",
    "    row=2, col=2\n",
    ")\n",
    "\n",
    "# Update layout\n",
    "fig.update_layout(height=800, showlegend=True, \n",
    "                  title_text=\"Space Situational Awareness Dashboard: Philadelphia vs Rio de Janeiro\")\n",
    "fig.update_xaxes(title_text=\"Altitude (km)\", row=1, col=1)\n",
    "fig.update_xaxes(title_text=\"Risk Category\", row=1, col=2)\n",
    "fig.update_xaxes(title_text=\"Orbit Zone\", row=2, col=1)\n",
    "fig.update_xaxes(title_text=\"Altitude (km)\", row=2, col=2)\n",
    "fig.update_yaxes(title_text=\"Count\", row=1, col=1)\n",
    "fig.update_yaxes(title_text=\"Risk Score\", row=1, col=2)\n",
    "fig.update_yaxes(title_text=\"Number of Satellites\", row=2, col=1)\n",
    "fig.update_yaxes(title_text=\"Inclination (degrees)\", row=2, col=2)\n",
    "\n",
    "fig.show()\n",
    "\n",
    "# Summary statistics for presentation\n",
    "print(\"\\nKey Findings for Presentation:\")\n",
    "print(f\"- Total Active Satellites Tracked: {len(df_satellites)}\")\n",
    "print(f\"- LEO Satellites (highest collision risk): {leo}\")\n",
    "print(f\"- Philadelphia Risk Level: {risk_df.iloc[0]['Risk Level']} (Score: {risk_df.iloc[0]['Total Risk Score']})\")\n",
    "print(f\"- Rio de Janeiro Risk Level: {risk_df.iloc[1]['Risk Level']} (Score: {risk_df.iloc[1]['Total Risk Score']})\")"
   ]
  },
  {
   "cell_type": "code",
   "execution_count": 9,
   "id": "a109dcda",
   "metadata": {},
   "outputs": [],
   "source": [
    "import numpy as np\n",
    "import pandas as pd\n",
    "import plotly.graph_objects as go\n",
    "from plotly.subplots import make_subplots\n",
    "\n",
    "def create_orbital_density_map(df_satellites):\n",
    "    \"\"\"\n",
    "    Create density heat map for collision risk prediction\n",
    "    \"\"\"\n",
    "    # Define orbital zones (altitude bands in km)\n",
    "    altitude_bins = np.arange(200, 2000, 50)  # LEO in 50km increments\n",
    "    inclination_bins = np.arange(0, 180, 5)   # 5-degree increments\n",
    "    \n",
    "    # Create 2D histogram for density\n",
    "    density_matrix = np.histogram2d(\n",
    "        df_satellites['altitude_km'],\n",
    "        df_satellites['inclination'],\n",
    "        bins=[altitude_bins, inclination_bins]\n",
    "    )[0]\n",
    "    \n",
    "    # Apply debris multiplication factor based on historical data\n",
    "    # Real debris is 10x satellites in LEO\n",
    "    debris_factor = np.where(altitude_bins[:-1] < 1000, 10, 1)\n",
    "    debris_density = density_matrix * debris_factor.reshape(-1, 1)\n",
    "    \n",
    "    return debris_density, altitude_bins, inclination_bins\n",
    "\n",
    "def calculate_collision_probability(density_matrix, altitude_bins):\n",
    "    \"\"\"\n",
    "    Calculate collision probability based on density and orbital velocity\n",
    "    \"\"\"\n",
    "    # Orbital velocity decreases with altitude\n",
    "    # v = sqrt(GM/r) where r = Earth_radius + altitude\n",
    "    velocities = np.sqrt(398600.5 / (6371 + altitude_bins[:-1]))\n",
    "    \n",
    "    # Collision probability increases with density squared (pairwise interactions)\n",
    "    # and with relative velocity\n",
    "    collision_risk = density_matrix**2 * velocities.reshape(-1, 1) / 1000\n",
    "    \n",
    "    return collision_risk\n",
    "\n",
    "def predict_future_density(current_density, years=5):\n",
    "    \"\"\"\n",
    "    Predict future debris growth using Kessler Syndrome model\n",
    "    \"\"\"\n",
    "    # Simplified exponential growth in high-density regions\n",
    "    growth_rate = np.where(current_density > 50, 1.15, 1.05)  # 15% vs 5% annual growth\n",
    "    future_density = current_density * (growth_rate ** years)\n",
    "    \n",
    "    return future_density"
   ]
  },
  {
   "cell_type": "code",
   "execution_count": 10,
   "id": "c474cda6",
   "metadata": {},
   "outputs": [],
   "source": [
    "# Create current and predicted density maps\n",
    "current_density, alt_bins, inc_bins = create_orbital_density_map(df_satellites)\n",
    "collision_risk = calculate_collision_probability(current_density, alt_bins)\n",
    "future_density = predict_future_density(current_density, years=5)\n",
    "future_risk = calculate_collision_probability(future_density, alt_bins)\n",
    "\n",
    "# Calculate risk scores for cities based on satellites passing through high-risk zones\n",
    "def calculate_city_debris_risk(city_lat, city_lon, density_matrix, inc_bins):\n",
    "    \"\"\"\n",
    "    Calculate debris risk for a specific city based on orbital passages\n",
    "    \"\"\"\n",
    "    # Satellites visible from city predominantly have inclinations >= abs(latitude)\n",
    "    min_inclination = abs(city_lat)\n",
    "    \n",
    "    # Find which inclination bands affect this city\n",
    "    relevant_inc_indices = np.where(inc_bins[:-1] >= min_inclination)[0]\n",
    "    \n",
    "    # Sum risk from relevant orbital bands\n",
    "    if len(relevant_inc_indices) > 0:\n",
    "        city_risk = np.sum(density_matrix[:, relevant_inc_indices])\n",
    "    else:\n",
    "        city_risk = 0\n",
    "    \n",
    "    # Normalize to 0-100 scale\n",
    "    return min(100, city_risk / 10)\n",
    "\n",
    "# Calculate for both cities\n",
    "philly_current_risk = calculate_city_debris_risk(39.95, -75.16, collision_risk, inc_bins)\n",
    "rio_current_risk = calculate_city_debris_risk(-22.91, -43.17, collision_risk, inc_bins)\n",
    "philly_future_risk = calculate_city_debris_risk(39.95, -75.16, future_risk, inc_bins)\n",
    "rio_future_risk = calculate_city_debris_risk(-22.91, -43.17, future_risk, inc_bins)"
   ]
  },
  {
   "cell_type": "code",
   "execution_count": 11,
   "id": "a6e7e7d7",
   "metadata": {},
   "outputs": [
    {
     "data": {
      "application/vnd.plotly.v1+json": {
       "config": {
        "plotlyServerURL": "https://plot.ly"
       },
       "data": [
        {
         "colorbar": {
          "title": {
           "text": "Density"
          }
         },
         "colorscale": [
          [
           0,
           "#440154"
          ],
          [
           0.1111111111111111,
           "#482878"
          ],
          [
           0.2222222222222222,
           "#3e4989"
          ],
          [
           0.3333333333333333,
           "#31688e"
          ],
          [
           0.4444444444444444,
           "#26828e"
          ],
          [
           0.5555555555555556,
           "#1f9e89"
          ],
          [
           0.6666666666666666,
           "#35b779"
          ],
          [
           0.7777777777777778,
           "#6ece58"
          ],
          [
           0.8888888888888888,
           "#b5de2b"
          ],
          [
           1,
           "#fde725"
          ]
         ],
         "hovertemplate": "Altitude: %{x}km<br>Inclination: %{y}°<br>Density: %{z}<extra></extra>",
         "text": {
          "bdata": "AAAAAAAAAAAAAAAAAAAAAAAAAAAAAAAAAAAAAAAAAAAAAAAAAAAAAAAAAAAAAAAAAAAAAAAAAAAAAAAAAAA0QAAAAAAAAAAAAAAAAAAAAAAAAAAAAAAAAAAAAAAAAAAAAAAAAAAAAAAAAAAAAAAAAAAAAAAAAAAAAAAAAAAAAAAAAAAAAAAAAAAAAAAAAAAAAAAAAAAAAAAAAAAAAAAAAAAAAAAAAAAAAAAAAAAAAAAAAAAAAAAAAAAAAAAAAAAAAAAAAAAAAAAAAAAAAAAAAAAAAAAAAAAAAAAAAAAAAAAAAAAAAAAAAAAAAAAAAAAAAAAAAAAAAAAAAAAAAAAAAAAAAAAAAAAAAAAAAAAAAAAAAAAAAAAAAAAAAAAAAAAAAAAAAAAAAAAAAAAAAAAAAAAAAAAAAAAAAAAAAAAAAAAAAAAAAAAAAAAAAAAAADRAAAAAAAAAPkAAAAAAAAAkQAAAAAAAAAAAAAAAAAAAAAAAAAAAAAAAAAAAAAAAAAAAAAAAAAAAAAAAAAAAAAAAAAAAAAAAAAAAAAAAAAAAAAAAAAAAAAAAAAAAAAAAAAAAAAAAAAAAAAAAAAAAAAAAAAAAAAAAAAAAAAAAAAAAAAAAAAAAAAAAAAAAAAAAAAAAAAAAAAAAAAAAAAAAAAAAAAAAAAAAAAAAAAAAAAAAAAAAAAAAAAAAAAAAAAAAAAAAAAAAAAAAAAAAAAAAAAAAAAAAAAAAAAAAAAAAAAAAAAAAAAAAAAAAAAAAAAAAAAAAAAAAAAAAAAAAAAAAAAAAAAAAAAAAAAAAAAAAAAAAJEAAAAAAAAAkQAAAAAAAAAAAAAAAAAAAAAAAAAAAAAAAAAAAAAAAAAAAAAAAAAAAAAAAAAAAAAA0QAAAAAAAAAAAAAAAAAAAAAAAAAAAAAAAAAAAAAAAAAAAAAAAAAAAAAAAAAAAAAAAAAAAAAAAAAAAAAAAAAAAAAAAAAAAAAAAAAAAAAAAAAAAAAAAAAAAAAAAAAAAAAAAAAAAAAAAAAAAAAAAAAAAAAAAAAAAAAAAAAAAAAAAAAAAAAAAAAAAAAAAAAAAAAAAAAAAAAAAAAAAAAAAAAAAAAAAAAAAAAAAAAAAAAAAAAAAAAAAAAAAAAAAAAAAAAAAAAAAAAAAAAAAAAAAAAAAAAAAAAAAAAAAAAAAAAAAAAAAAAAAAAAAAAAAAAAAAAAAAAAAAAAAAAAAAAAAAAAAAAAAAAAAAAAAAAAAAAAAAAAAAAAAAAAAAAAAAAAAAAA0QAAAAAAAAAAAAAAAAAAAAAAAAAAAAAAAAAAAAAAAAAAAAAAAAAAAAAAAAAAAAAAAAAAAAAAAAAAAAAAAAAAAAAAAAAAAAAAAAAAAAAAAAAAAAAAAAAAAAAAAAAAAAAAAAAAAAAAAAAAAAAAAAAAAAAAAAAAAAAAAAAAAAAAAAAAAAAAAAAAAAAAAAAAAAAAAAAAAAAAAAAAAAAAAAAAAAAAAAAAAAAAAAAAAAAAAAAAAAAAAAAAAAAAAAAAAAAAAAAAAAAAAAAAAAAAAAAAAJEAAAAAAAAAAAAAAAAAAAAAAAAAAAAAATkAAAAAAAAAkQAAAAAAAACRAAAAAAAAAPkAAAAAAAAAAAAAAAAAAAAAAAAAAAAAAAAAAAAAAAAAAAAAAAAAAAAAAAAAAAAAAAAAAAAAAAAAAAAAAAAAAAAAAAAAAAAAAAAAAAAAAAAAAAAAAAAAAAAAAAAAAAAAAAAAAAAAAAAAAAAAAAAAAAAAAAAAAAAAAAAAAAAAAAAAAAAAAAAAAAAAAAAAAAAAAAAAAAAAAAAAAAAAAAAAAAAAAAAAAAAAAAAAAAAAAAAAAAAAAAAAAAAAAAAAAAAAAAAAAAAAAAAAAAAAAAAAAAAAAAAAAAAAAAAAAAAAAAAAAAAAAAAAAAAAAAAAAAAAAJEAAAAAAAAA0QAAAAAAAADRAAAAAAAAANEAAAAAAAAAAAAAAAAAAAAAAAAAAAAAAAAAAAAAAAAAAAAAAAAAAAAAAAAAAAAAAAAAAAAAAAAAAAAAAAAAAAAAAAAAAAAAA8D8AAAAAAAAAAAAAAAAAAAAAAAAAAAAAAAAAAAAAAAAAAAAAAAAAAAAAAAAAAAAAAAAAAAAAAAAAAAAAAAAAAAAAAAAAAAAAAAAAAAAAAAAAAAAAAAAAAAAAAAAAAAAAAAAAAAAAAAAAAAAAAAAAAAAAAAAAAAAAAAAAAAAAAAAAAAAAAAAAAAAAAAAAAAAAAAAAAAAAAAAAAAAAAAAAAAAAAAAAAAAAPkAAAAAAAABUQAAAAAAAQGBAAAAAAAAgd0AAAAAAAKB0QAAAAAAAAAAAAAAAAAAAAAAAAAAAAAAAAAAAAAAAAAAAAAAAAAAAAAAAAAAAAAAAAAAAAAAAAAAAAAAAAAAAAAAAAAAAAAAAAAAAAAAAAAAAAAAAAAAAAAAAAAAAAAAAAAAAAAAAAAAAAAAAAAAAAAAAAAAAAAAAAAAAAAAAAAAAAAAAAAAAAAAAAAAAAAAAAAAAAAAAAAAAAAAAAAAAAAAAAAAAAAAAAAAAAAAAAAAAAAAAAAAAAAAAAAAAAAAAAAAAAAAAAAAAAAAAAAAAAAAAAAAAAAAAAAAAAAAAAAAAAAAAAAAAAAAAAAAAAAAAAAAAAAAAAAAAAAAAAAAANEAAAAAAAABJQAAAAAAAQGVAAAAAAAAASUAAAAAAAAAAAAAAAAAAAAAAAAAAAAAAAAAAAAAAAAAkQAAAAAAAAAAAAAAAAAAAAAAAAAAAAAAAAAAAAAAAAAAAAAAAAAAAFEAAAAAAAAAAAAAAAAAAAAAAAAAAAAAAAAAAAAAAAAAAAAAAAAAAAAAAAAAAAAAAAAAAAAAAAAAAAAAAAAAAAAAAAAAAAAAAAAAAAAAAAAAAAAAAAAAAAAAAAAAAAAAAAAAAAAAAAAAAAAAAAAAAAAAAAAAAAAAAAAAAAAAAAAAAAAAAAAAAAAAAAAAAAAAAAAAAAAAAAAAkQAAAAAAAADRAAAAAAAAASUAAAAAAADCrQAAAAAAAgFtAAAAAAAB7y0AAAAAAAOBwQAAAAAAARslAAAAAAAAAJEAAAAAAAAAkQAAAAAAAAAAAAAAAAAAANEAAAAAAAAAAAAAAAAAAACRAAAAAAAAAZEAAAAAAAAAAAAAAAAAAAAAAAAAAAAAAAAAAAAAAAAAAAAAAAAAAAAAAAAAAAAAAAAAAAAAAAAAAAAAAAAAAAAAAAAAAAAAAAAAAAAAAAAAAAAAAAAAAAAAAAAAAAAAAAAAAAAAAAAAAAAAAAAAAAAAAAAAAAAAAAAAAAAAAAAAAAAAAAAAAAAAAAAAAAAAAAAAAAAAAAAAAAAAAAAAAAAAAAAAAAAAAAAAAAAAAAAAAAAAAAAAAAAAAAAAAAAAAAAAAAAAAAAA+QAAAAAAAAF5AAAAAAACAW0AAAAAAAEBwQAAAAAAAAHRAAAAAAAAAPkAAAAAAAIBbQAAAAAAAADRAAAAAAAAAVEAAAAAAAIBWQAAAAAAAAFRAAAAAAAAAJEAAAAAAAAAAAAAAAAAAAAAAAAAAAAAAGEAAAAAAAADwPwAAAAAAAAAAAAAAAAAAAAAAAAAAAAAAAAAAAAAAAAAAAAAAAAAAAAAAAAAAAAAAAAAAAAAAAAAAAAAAAAAAAAAAAAAAAADwPwAAAAAAAAAAAAAAAAAAAAAAAAAAAAAAAAAAAAAAAAAAAAAAAAAAAAAAAAAAAAAAAAAAAAAAAE5AAAAAAAAAZEAAAAAAAMBsQAAAAAAA1KxAAAAAAAAAmUAAAAAAALTOQAAAAAAAQ8xAAAAAAACIvUAAAAAAAAB5QAAAAAAAAElAAAAAAAAAWUAAAAAAAAAAAAAAAAAAAF5AAAAAAAAAPkAAAAAAAABkQAAAAAAAAAAAAAAAAAAA8D8AAAAAAAAAAAAAAAAAAABAAAAAAAAAIEAAAAAAAAAAAAAAAAAAAAAAAAAAAAAAAAAAAAAAAAAAAAAAAAAAADlAAAAAAAAA8D8AAAAAAAAAAAAAAAAAAABAAAAAAAAAAAAAAAAAAAAAAAAAAAAAAPA/AAAAAAAAAAAAAAAAAAAAAAAAAAAAAAAAAAAAAAAAAAAAAAAAAAAAAAAAAAAAAAAAAAAAAAAAAAAAAAAAAAAAAAAAAAAAAAAAAAAAAAAANEAAAAAAAAAAAAAAAAAAAAAAAAAAAAAAAAAAAAAAAAAAAAAAAAAAAAAAAAAAAAAAPkAAAAAAAAA+QAAAAAAAAAAAAAAAAAAAAAAAAAAAAABJQAAAAAAAAAAAAAAAAAAAAAAAAAAAAAAAAAAAAAAAAAAAAAAAAAAAAAAAAAAAAAAAAAAAAAAAAAAAAAAAAAAAAAAAAAAAAAAAAAAAAAAAAAAAAAAAAAAAAAAAAAAAAAAAAAAAAAAAAAAAAAAAAAAAAAAAAAAAAAAAAAAAAAAAAAAAAAAAAAAAAAAAAAAAAAAAAAAAAAAAAAAAAAAAAAAAAAAAAAAAAAAAAAAAAAAAACRAAAAAAAAAAAAAAAAAAAAkQAAAAAAAAERAAAAAAACAVkAAAAAAAIBWQAAAAAAAAFRAAAAAAAAAAAAAAAAAAAAAAAAAAAAAACRAAAAAAAAAAAAAAAAAAAAAAAAAAAAAAAAAAAAAAAAAAAAAAAAAAAAAAAAAAAAAAEFAAAAAAAAAAAAAAAAAAAAAAAAAAAAAAAAAAAAAAAAAAAAAAAAAAAAAAAAAAAAAAAAAAAAAAAAAAAAAAAAAAAAAAAAAAAAAAAAAAAAAAAAAAAAAAAAAAAAAAAAAAAAAAAAAAAAAAAAAAAAAAAAAAAAAAAAAAAAAAAAAAAAAAAAAAAAAAAAAAAAAAAAAAAAAAAAAAAAAAAAAAAAAAAAAAAAkQAAAAAAAADRAAAAAAAAAREAAAAAAACB3QAAAAAAAgGFAAAAAAABQnkAAAAAAAAAAAAAAAAAAACRAAAAAAAAAAAAAAAAAAAAkQAAAAAAAACRAAAAAAAAAAAAAAAAAAABeQAAAAAAAADRAAAAAAAAAAAAAAAAAAAAAAAAAAAAAAAAAAAAAAAAAAAAAAAAAAAAAAAAAAAAAAAAAAAAAAAAAAEAAAAAAAAAAAAAAAAAAAAAAAAAAAAAA8D8AAAAAAAAAAAAAAAAAAAAAAAAAAAAAAAAAAAAAAAAAAAAAAAAAAAAAAAAAAAAAAAAAAAAAAAAAAAAAAAAAAAAAAAAAAAAAAAAAAAAAAAAAAAAAAAAAAAAAAAAAAAAAAAAAAAAAAAAAAAAAAAAAIHJAAAAAAAAAPkAAAAAAAABJQAAAAAAAVKpAAAAAAAAANEAAAAAAAAAAAAAAAAAAAAAAAAAAAAAAAAAAAAAAAAAAAAAAAAAAACRAAAAAAAAAAAAAAAAAAAAAAAAAAAAAAAAAAAAAAAAAAAAAAAAAAAAAAAAAAAAAAAAAAAAAAAAAAAAAAAAAAAAAAAAAAAAAAAAAAAAAAAAAAAAAAAAAAAAAAAAAAAAAAAAAAAAAAAAAAAAAAAAAAAAAAAAAAAAAAAAAAAAAAAAAAAAAAAAAAAAAAAAAAAAAAAAAAAAAAAAAAAAAAAAAAAAAAAAAAAAAAAAAAAAAAAAAAAAAAAAAAAAAAAAAAAAAAAAAAAAAAAAAAAAAAAAAAAAAAAAAAAAAAAAAAAAAAAAAAAAAAAAAAAAAAAAAAAAAAAAAAAAAAAAAAAAAAAAAAAAAAAAAAAAAAAAAAAAAAAAAAAAAAAAAAAAAAAAAAAAAACRAAAAAAAAAAAAAAAAAAAAAAAAAAAAAAAAAAAAAAAAAAAAAAAAAAAAAAAAAAAAAAAAAAAAAAAAAAAAAAAAAAAAAAAAAAAAAAAAAAAAAAAAAAAAAAAAAAAAAAAAAAAAAAAAAAAAAAAAAAAAAAAAAAAAAAAAAAAAAAAAAAAAAAAAAAAAAAAAAAAAAAAAAAAAAAAAAAAAAAAAAAAAAAAAAAAAAAAAAAAAAAAAAAAAAAAAAAAAAAAAAAAAAAAAAAAAAAAAAAAAAAAAAJEAAAAAAAAAAAAAAAAAAAAAAAAAAAAAATkAAAAAAAAAkQAAAAAAAAAAAAAAAAAAAJEAAAAAAAAAAAAAAAAAAAAAAAAAAAAAAAAAAAAAAAABEQAAAAAAAQGpAAAAAAAAAAEAAAAAAAAAAAAAAAAAAAAAAAAAAAAAAAAAAAAAAAAAAAAAAAAAAAAAAAAAAAAAA8D8AAAAAAAAAAAAAAAAAAAhAAAAAAAAAJkAAAAAAAABGQAAAAAAAAAAAAAAAAAAAAAAAAAAAAAAAAAAAAAAAAAAAAAAAAAAAAAAAAAAAAAAAAAAAAAAAAAAAAAAAAAAAAAAAAAAAAAAAAAAAAAAAAAAAAAAAAAAAAAAAAAAAAAAkQAAAAAAAAERAAAAAAAAAPkAAAAAAAAAAAAAAAAAAAAAAAAAAAAAATkAAAAAAAABEQAAAAAAAACRAAAAAAAAgh0AAAAAAAABZQAAAAAAAQGBAAAAAAAAASUAAAAAAAAAkQAAAAAAAAPA/AAAAAACAUkAAAAAAAAAoQAAAAAAA4G5AAAAAAADAe0AAAAAAAAAAAAAAAAAAAAAAAAAAAAAAAAAAAAAAAAAAAAAAAAAAAAAAAAAAAAAAAAAAAAAAAAAAAAAAAAAAAAAAAAAAAAAAAAAAAAAAAAAAAAAAAAAAAAAAAAAAAAAAAAAAAAAAAAAAAAAAAAAAAAAAAAAAAAAAAAAAAAAAAAAAAAAAAAAAAAAAAAAAAAAAAAAAAAAAAAAAAAAAAAAAACRAAAAAAAAAAAAAAAAAAAAAAAAAAAAAAAAAAAAAAAAAAAAAAAAAAAAkQAAAAAAAAAAAAAAAAAAAAAAAAAAAAAAAAAAAAAAAAAAAAAAAAAAAJEAAAAAAAAAAAAAAAAAAAPA/AAAAAAAAAAAAAAAAAAAAAAAAAAAAAPA/AAAAAAAAAAAAAAAAAAAAAAAAAAAAAAAAAAAAAAAAAAAAAAAAAAAAAAAAAAAAAAAAAAAAAAAAAAAAAAAAAAAAAAAAAAAAAAAAAAAAAAAAAAAAAAAAAAAAAAAAAAAAAAAAAAAAAAAAAAAAAAAAAAAAAAAAAAAAAD5AAAAAAABAZUAAAAAAACCCQAAAAAAA4IBAAAAAAABUoEAAAAAAALayQAAAAAAA4rNAAAAAAAAstUAAAAAAAPCUQAAAAAAA4JBAAAAAAAAAeUAAAAAAAAB+QAAAAAAAQHpAAAAAAACAUUAAAAAAAAAkQAAAAAAAAE5AAAAAAAAAAEAAAAAAAAAgQAAAAAAAAAAAAAAAAAAAAAAAAAAAAAAAAAAAAAAAAAAAAAAAAAAAAAAAAAAAAAAAAAAAAAAAAAAAAAAAAAAAAAAAAAAAAAAAAAAAAAAAAAAAAAAAAAAAAAAAAAAAAAAAAAAAAAAAAAAAAAAAAAAAAAAAAAAAAAAAAAAAAAAAAAAAAAAAAAAAAAAAAAAAAAAAAAAAAAAAAAAAAAAAAAAAAAAAAAAAAAAAAAAAAAAAAAAAAAAAAAAAAAAAAAAAAAAAAAAAAAAAAAAAAAAAAAAAAAAAAAAAAAAAAAAAAAAAAAAAAAAAAAAAAAAAAAAAAAAAAAAAAAAAAAAAAAAAAAAAAAAAAAAAAAAAAAAAAAAAAAAAAAAAAAAAAAAAAAAAAAAAAAAAAAAAAPA/AAAAAAAAFEAAAAAAAAAAAAAAAAAAAAAAAAAAAAAAAAAAAAAAAAAAAAAAAAAAAPA/AAAAAAAAAAAAAAAAAAAAAAAAAAAAAAAAAAAAAAAAAAAAAAAAAAAAAAAAAAAAAAAAAAAAAAAAAAAAAAAAAAAAAAAAAAAAAAAAAAAAAAAAAAAAAAAAAAAAAAAAAAAAAAAAAAAAAAAAAAAAAAAAAAAAAAAAAAAAAAAAAAAAAAAAAAAAAAAAAAAAAAAAAAAAAAAAAAAAAAAAAAAAAAAAAAAAAAAAAAAAACRAAAAAAAAAJEAAAAAAAAAAAAAAAAAAAAAAAAAAAAAAAAAAAAAAAAAAAAAAAAAAAAAAAAAAAAAAAAAAAAAAAAAAAAAAAAAAAAAAAAAAAAAAAAAAAAAAAAAAAAAAAAAAAAAAAAAAAAAAAAAAAAAAAAAAAAAAAAAAAAAAAAAAAAAAAAAAAAAAAAAAAAAAAAAAAAAAAAAAAAAAAAAAAAAAAAAAAAAAAAAAAAAAAAAAAAAAAAAAAAAAAAAAAAAAAAAAAAAAAAAAAAAAAAAAAAAAAAAAAAAAAAAAAAAAAAAAAAAAAAAAAAAAAAAAAAAAAAAAAAAAAAAAAAAAAAAAAAAAAAAAAAAAAAAAAAAAAAAAAAAAAAAAAAAAAAAAAAAAAAAAAAAAAAAAAAAAAAAAAAAAAAAAAAAAAAAAAAAAAAAAAAAAAAAAAAAAAAAAAAAAAAAAAAAAAAAAAAAAAAAAAAAAAAAAAAAAAAAAAAAAAAAAAAAAAAAAAAAAAAAAAAAAAAAAAAAAAAAAAAAAAAAAAAAAAAAAAAAAAAAAAAAAAAAAAAAAAAAAAAAAAAAAAAAAAAAAAAAAAAAAAAAAAAAAAAAAAAAAAAAAAAAAAAAAAAAAAAAAAAAAAAAAAAAAAAAAAAAAAAAAAAAAAAAAAAAAAAAAAAAAAAAAAAAAAAAAAAAAAAAAAAAAAAAAAAAAAAAAAAAAAAAAAAAAAAAAAAAAAAAAAAAAAAAAAAAAAAAAAAAAAAAAAAAAAAAAAAAAAAAAAAAAAAAAAAAAAAAAAAAAAAAAAAAAAAAAAAAAAAAAAAAAAAAAAAAAAAAAAAAAAAAAAAAAAAAAAAAAAAAAAAAAAAAAAAAAAAAAAAAAAAAAAAAAAAAAAAAAAAAAAAAAAAAAAAAAAAAAAAAAAAAAAAAAAAAAAAAAAAAAAAAAAAAAAAAAAAAAAAAAAAAAAAAAAAAAAAAAAAAAAAAAAAAAAAAAAAAAAAAAAAAAAAAAAAAAAAAAAAAAAAAAAAAAAAAAAAAAAAAAAAAAAAAAAAAAAAAAAAAAAAAAAAAAAAAAAD5AAAAAAAAAJEAAAAAAAAAkQAAAAAAAAAAAAAAAAAAAAAAAAAAAAAAAAAAAAAAAAAAAAAAAAAAAAAAAAAAAAAAAAAAAAAAAAAAAAAAAAAAAAAAAAAAAAAAAAAAAAAAAAAAAAAAAAAAAAAAAAAAAAAAAAAAAAAAAAAAAAAAAAAAAAAAAAAAAAAAAAAAAAAAAAAAAAAAAAAAAAAAAAAAAAAAAAAAAAAAAAAAAAAAAAAAAAAAAAAAAAAAAAAAAAAAAAAAAAAAAAAAAAAAAAAAAAAAAAAAAAAAAAAAAAAAAAAAAAAAAAAAAAAAAAAAAAAAAAAAAAAAAAAAAAAAAAAAAAAAAAAAAAAAAAAAAAAAAAAAAAAAAAAAAAAAAAAAAAAAAAAAAAAAAAAAAAAAAAAAAAAAAAAAAAAAAAAAAAAAAAAAAAAAAAAAAAAAAAAAAAAAAAAAAAAAAAAAAAAAAAAAAAAAAAAAAAAAAAAAAAAAAAAAAAAAAAAAAAAAAAAAAAAAAAAAAAAAAAAAAAAAAAAAAAAAAAAAAAAAAAAAAAAAAAAAAAAAAAAAAAAAAAAAAAAAAAAAAAAAAAAAAAAAAAAAAAAAAAAAAAAAAAAAAAAAAAAAAAAAAAAAAAAAAAAAAAAAAAAAAAAAAAAAAAAAAAAAAAAAAAAAAAAAAAAAAAAAAAAAAAAAAAAAAAAAAAAAAAAAAAAAAAAAAAAAAAAAAAAAAAAAAAAAAAAAAAAAAAAAAAAAAAAAAAAAAAAAAAAAAAAAAAAAAAAAAAAAAAAAAAAAAAAAAAAAAAAAAAAAAAAAAAAAAAAAAAAAAAAAAAAAAAAAAAAAAAAAAAAAAAAAAAAAAAAAAAAAAAAAAAAAAAAAAAAAAAAAAAAAAAAAAAAAAAAAAAAAAAAAAAAAAAAAAAAAAAAAAAAAAAAAAAAAAAAAAAAAAAAAAAAAAAAAAAAAAAAAAAAAAAAAAAAAAAAAAAAAAAAAAAAAAAAAAAAAAAAAAAAAAAAAAAAAAAAAAAAAAAAAAAAAAAAAAAAAAAAAAAAAAAAAAAAAAAAAAAAAAAAAAAAAAAAAAAAAAAAAAAAAAAAAAAAAAAAAAAAAAAAAAAAAAAAAAAAAAAAAAAAAAAAAAAAAAJEAAAAAAAAAAAAAAAAAAAAAAAAAAAAAAAAAAAAAAAAAAAAAAAAAAAAAAAAAAAAAAAAAAAAAAAAAAAAAAAAAAAAAAAAAAAAAAAAAAAAAAAAAAAAAAAAAAAAAAAAAAAAAAAAAAAAAAAAAAAAAAAAAAAAAAAAAAAAAAAAAAAAAAAAAAAAAAAAAAAAAAAAAAAAAAAAAAAAAAAAAAAAAAAAAAAAAAAAAAAAAAAAAAAAAAAAAAAAAAAAAAAAAAAAAAAAAAAAAAAAAAAAAAAAAAAAAAAAAAAAAAAAAAAAAAAAAAAAAAAAAAAAAAAAAAAAAAAAAAAAAAAAAAAAAAAAAAAAAAAAAAAAAAAAAAAAAAAAAAAAAAAAAAAAAAAAAAAAAAAAAAAAAAAAAAAAAAAAAAAAAAAAAAAAAAAAAAAAAAAAAAAAAAAAAAAAAAAAAAAAAAAAAAAAAAAAAAAAAAAAAAAAAAAAAAAAAAAAAAAAAAAAAAAAAAAAAAAAAAAAAAAAAAAAAAAAAAAAAAAAAAAAAAAAAAAAAAAAAAAAAAAAAAAAAAAAAAAAAAAAAAAAAAAAAAAAAAAAAAAAAAAAAAAAAAAAAAAAAAAAAAAAAAAAAAAAAAAAAAAAAAAAAAAAAAAAAAAAAAAAAAAAAAAAAAAAAAAAAAAAAAAAAAAAAAAAAAAAAAAAAAAAAAAAAAAAAAAAAAAAAAAAAAAAAAAAAAAAAAAAAAAAAAAAAAAAAAAAAAAAAAAAAAAAAAAAAAAAAAAAAAAAAAAAAAAAAAAAAAAAAAAAAAAAAAAAAAAAAAAAAAAAAAAAAAAAAAAAAAAAAAAAAAAAAAAAAAAAAAAAAAAAAAAAAAAAAAAAAAAAAAAAAAAAAAAAAAAAAAAAAAAAAAAAAAAAAAAAAAAAAAAAAAAAAAAAAAAAAAAAAAAAAAAAAAAAAAAAAAAAAAAAAAAAAAAAAAAAAAAAAAAAAAAAAAAAAAAAAAAAAAAAAAAAAAAAAAAAAAAAAAAAAAAAAAAAAAAAAAAAAAAAAAAAAAAAAAAAAAAAAAAAAAAAAAAAAAAAAAAAAAAAAAAAAAAAAAAAAAAAAAAAAAAAAAAAAAAAAAAAAAAAAAAAAAAAAAAAAAAAAAAAAAAAAAAAAAAAAAAAAAAAAAAAAAAAAAAAAAAAAAAAAAAAAAAAAAAAAAAAAAAAAAAAAAAAAAAAAAAAAAAAAAAAAAAAAAAAAAAAAAAAAAAAAAAAAAAAAAAAAAAAAAAAAAAAAAAAAAAAAAAAAAAAAAAAAAAAAAAAAAAAAAAAAAAAAAAAAAAAAAAAAAAAAAAAAAAAAAAAAAAAAAAAAAAAAAAAAAAAAAAAAAAAAAAAAAAAAAAAAAAAAAAAAAAAAAAAAAAAAAAAAAAAAAAAAAAAAAAAAAAAAAAAAAAAAAAAAAAAAAAAAAAAAAAAAAAAAAAAAAAAAAAAAAAAAAAAAAAAAAAAAAAAAAAAAAAAAAAAAAAAAAAAAAAAAAAAAAAAAAAAAAAAAAAAAAAAAAAAAAAAAAAAAAAAAAAAAAAAAAAAAAAAAAAAAAAAAAAAAAAAAAAAAAAAAAAAAAAAAAAAAAAAAAAAAAAAAAAAAAAAAAAAAAAAAAAAAAAAAAAAAAAAAAAAAAAAAAAAAAAAAAAAAAAAAAAAAAAAAAAAAAAAAAAAAAAAAAAAAAAAAAAAAAAAAAAAAAAAAAAAAAAAAAAAAAAAAAAAAAAAAAAAAAAAAAAAAAAAAAAAAAAAAAAAAAAAAAAAAAAAAAAAAAAAAAAAAAAAAAAAAAAAAAAAAAAAAAAAAAAAAAAAAAAAAAAAAAAAAAAAAAAAAAAAAAAAAAAAAAAAAAAAAAAAAAAAAAAAAAAAAAAAAAAAAAAAAAAAAAAAAAAAAAAAAAAAAAAAAAAAAAAAAAAAAAAAAAAAAAAAAAAAAAAAAAAAAAAAAAAAAAAAAAAAAAAAAAAAAAAAAAAAAAAAAAAAAAAAAAAAAAAAAAAAAAAAAAAAAAAAAAAAAAAAAAAAAAAAAAAAAAAAAAAAAAAAAAAAAAAAAAAAAAAAAAAAAAAAAAAAAAAAAAAAAAAAAAAAAAAAAAAAAAAAAAAAAAAAAAAAAAAAAAAAAAAAAAAAAAAAAAAAAAAAAAAAAAAAAAAAAAAAAAAAAAAAAAAAAAAAAAAAAAAAAAAAAAAAAAAAAAAAAAAAAAAAAAAAAAAAAAAAAAAAAAAAAAAAAAAAAAAAAAAAAAAAAAAAAAAAAAAAAAAAAAAAAAAAAAAAAAAAAAAAAAAAAAAAAAAAAAAAAAAAAAAAAAAAAAAAAAAAAAAAAAAAAAAAAAAAAAAAAAAAAAAAAAAAAAAAAAAAAAAAAAAAAAAAAAAAAAAAAAAAAAAAAAAAAAAAAAAAAAAAAAAAAAAAAAAAAAAAAAAAAAAAAAAAAAAAAAAAAAAAAAAAAAAAAAAAAAAAAAAAAAAAAAAAAAAAAAAAAAAAAAAAAAAAAAAAAAAAAAAAAAAAAAAAAAAAAAAAAAAAAAAAAAAAAAAAAAAAAAAAAAAAAAAAAAAAAAAAAAAAAAAAAAAAAAAAAAAAAAAAAAAAAAAAAAAAAAAAAAAAAAAAAAAAAAAAAAAAAAAAAAAAAAAAAAAAAAAAAAAAAAAAAAAAAAAAAAAAAAAAAAAAAAAAAAAAAAAAAAAAAAAAAAAAAAAAAAAAAAAAAAAAAAAAAAAAAAAAAAAAAAAAAAAAAAAAAAAAAAAAAAAAAAAAAAAAAAAAAAAAAAAAAAAAAAAAAAAAAAAAAAAAAAAAAAAAAAAAAAAAAAAAAAAAAAAAAAAAAAAAAAAAAAAAAAAAAAAAAAAAAAAAAAAAAAAAAAAAAAAAAAAAAAAAAAAAAAAAAAAAAAAAAAAAAAAAAAAAAAAAAAAAAAAAAAAAAAAAAAAAA=",
          "dtype": "f8",
          "shape": "35, 35"
         },
         "type": "heatmap",
         "x": {
          "bdata": "yAD6ACwBXgGQAcIB9AEmAlgCigK8Au4CIANSA4QDtgPoAxoETAR+BLAE4gQUBUYFeAWqBdwFDgZABnIGpAbWBggHOgdsBw==",
          "dtype": "i2"
         },
         "xaxis": "x",
         "y": {
          "bdata": "AAAFAAoADwAUABkAHgAjACgALQAyADcAPABBAEYASwBQAFUAWgBfAGQAaQBuAHMAeAB9AIIAhwCMAJEAlgCbAKAApQCqAA==",
          "dtype": "i2"
         },
         "yaxis": "y",
         "z": {
          "bdata": "AAAAAAAAAAAAAAAAAAAAAAAAAAAAAAAAAAAAAAAAAAAAAAAAAAAAAAAAAAAAAAAAAAAAAAAAAAAAAAAAAAA0QAAAAAAAAAAAAAAAAAAAAAAAAAAAAAAAAAAAAAAAAAAAAAAAAAAAAAAAAAAAAAAAAAAAAAAAAAAAAAAAAAAAAAAAAAAAAAAAAAAAAAAAAAAAAAAAAAAAAAAAAAAAAAAAAAAAAAAAAAAAAAAAAAAAAAAAAAAAAAAAAAAAAAAAAAAAAAAAAAAAAAAAAAAAAAAAAAAAAAAAAAAAAAAAAAAAAAAAAAAAAAAAAAAAAAAAAAAAAAAAAAAAAAAAAAAAAAAAAAAAAAAAAAAAAAAAAAAAAAAAAAAAAAAAAAAAAAAAAAAAAAAAAAAAAAAAAAAAAAAAAAAAAAAAAAAAAAAAAAAAAAAAAAAAAAAAAAAAAAAAADRAAAAAAAAAPkAAAAAAAAAkQAAAAAAAAAAAAAAAAAAAAAAAAAAAAAAAAAAAAAAAAAAAAAAAAAAAAAAAAAAAAAAAAAAAAAAAAAAAAAAAAAAAAAAAAAAAAAAAAAAAAAAAAAAAAAAAAAAAAAAAAAAAAAAAAAAAAAAAAAAAAAAAAAAAAAAAAAAAAAAAAAAAAAAAAAAAAAAAAAAAAAAAAAAAAAAAAAAAAAAAAAAAAAAAAAAAAAAAAAAAAAAAAAAAAAAAAAAAAAAAAAAAAAAAAAAAAAAAAAAAAAAAAAAAAAAAAAAAAAAAAAAAAAAAAAAAAAAAAAAAAAAAAAAAAAAAAAAAAAAAAAAAAAAAAAAAAAAAAAAAJEAAAAAAAAAkQAAAAAAAAAAAAAAAAAAAAAAAAAAAAAAAAAAAAAAAAAAAAAAAAAAAAAAAAAAAAAA0QAAAAAAAAAAAAAAAAAAAAAAAAAAAAAAAAAAAAAAAAAAAAAAAAAAAAAAAAAAAAAAAAAAAAAAAAAAAAAAAAAAAAAAAAAAAAAAAAAAAAAAAAAAAAAAAAAAAAAAAAAAAAAAAAAAAAAAAAAAAAAAAAAAAAAAAAAAAAAAAAAAAAAAAAAAAAAAAAAAAAAAAAAAAAAAAAAAAAAAAAAAAAAAAAAAAAAAAAAAAAAAAAAAAAAAAAAAAAAAAAAAAAAAAAAAAAAAAAAAAAAAAAAAAAAAAAAAAAAAAAAAAAAAAAAAAAAAAAAAAAAAAAAAAAAAAAAAAAAAAAAAAAAAAAAAAAAAAAAAAAAAAAAAAAAAAAAAAAAAAAAAAAAAAAAAAAAAAAAAAAAA0QAAAAAAAAAAAAAAAAAAAAAAAAAAAAAAAAAAAAAAAAAAAAAAAAAAAAAAAAAAAAAAAAAAAAAAAAAAAAAAAAAAAAAAAAAAAAAAAAAAAAAAAAAAAAAAAAAAAAAAAAAAAAAAAAAAAAAAAAAAAAAAAAAAAAAAAAAAAAAAAAAAAAAAAAAAAAAAAAAAAAAAAAAAAAAAAAAAAAAAAAAAAAAAAAAAAAAAAAAAAAAAAAAAAAAAAAAAAAAAAAAAAAAAAAAAAAAAAAAAAAAAAAAAAAAAAAAAAJEAAAAAAAAAAAAAAAAAAAAAAAAAAAAAATkAAAAAAAAAkQAAAAAAAACRAAAAAAAAAPkAAAAAAAAAAAAAAAAAAAAAAAAAAAAAAAAAAAAAAAAAAAAAAAAAAAAAAAAAAAAAAAAAAAAAAAAAAAAAAAAAAAAAAAAAAAAAAAAAAAAAAAAAAAAAAAAAAAAAAAAAAAAAAAAAAAAAAAAAAAAAAAAAAAAAAAAAAAAAAAAAAAAAAAAAAAAAAAAAAAAAAAAAAAAAAAAAAAAAAAAAAAAAAAAAAAAAAAAAAAAAAAAAAAAAAAAAAAAAAAAAAAAAAAAAAAAAAAAAAAAAAAAAAAAAAAAAAAAAAAAAAAAAAAAAAAAAAAAAAAAAAAAAAAAAAAAAAAAAAJEAAAAAAAAA0QAAAAAAAADRAAAAAAAAANEAAAAAAAAAAAAAAAAAAAAAAAAAAAAAAAAAAAAAAAAAAAAAAAAAAAAAAAAAAAAAAAAAAAAAAAAAAAAAAAAAAAAAAAAAAAAAA8D8AAAAAAAAAAAAAAAAAAAAAAAAAAAAAAAAAAAAAAAAAAAAAAAAAAAAAAAAAAAAAAAAAAAAAAAAAAAAAAAAAAAAAAAAAAAAAAAAAAAAAAAAAAAAAAAAAAAAAAAAAAAAAAAAAAAAAAAAAAAAAAAAAAAAAAAAAAAAAAAAAAAAAAAAAAAAAAAAAAAAAAAAAAAAAAAAAAAAAAAAAAAAAAAAAAAAAAAAAAAAAPkAAAAAAAABUQAAAAAAAQGBAAAAAAAAgd0AAAAAAAKB0QAAAAAAAAAAAAAAAAAAAAAAAAAAAAAAAAAAAAAAAAAAAAAAAAAAAAAAAAAAAAAAAAAAAAAAAAAAAAAAAAAAAAAAAAAAAAAAAAAAAAAAAAAAAAAAAAAAAAAAAAAAAAAAAAAAAAAAAAAAAAAAAAAAAAAAAAAAAAAAAAAAAAAAAAAAAAAAAAAAAAAAAAAAAAAAAAAAAAAAAAAAAAAAAAAAAAAAAAAAAAAAAAAAAAAAAAAAAAAAAAAAAAAAAAAAAAAAAAAAAAAAAAAAAAAAAAAAAAAAAAAAAAAAAAAAAAAAAAAAAAAAAAAAAAAAAAAAAAAAAAAAAAAAAAAAAAAAAAAAANEAAAAAAAABJQAAAAAAAQGVAAAAAAAAASUAAAAAAAAAAAAAAAAAAAAAAAAAAAAAAAAAAAAAAAAAkQAAAAAAAAAAAAAAAAAAAAAAAAAAAAAAAAAAAAAAAAAAAAAAAAAAAFEAAAAAAAAAAAAAAAAAAAAAAAAAAAAAAAAAAAAAAAAAAAAAAAAAAAAAAAAAAAAAAAAAAAAAAAAAAAAAAAAAAAAAAAAAAAAAAAAAAAAAAAAAAAAAAAAAAAAAAAAAAAAAAAAAAAAAAAAAAAAAAAAAAAAAAAAAAAAAAAAAAAAAAAAAAAAAAAAAAAAAAAAAAAAAAAAAAAAAAAAAkQAAAAAAAADRAAAAAAAAASUAAAAAAADCrQAAAAAAAgFtAAAAAAAB7y0AAAAAAAOBwQAAAAAAARslAAAAAAAAAJEAAAAAAAAAkQAAAAAAAAAAAAAAAAAAANEAAAAAAAAAAAAAAAAAAACRAAAAAAAAAZEAAAAAAAAAAAAAAAAAAAAAAAAAAAAAAAAAAAAAAAAAAAAAAAAAAAAAAAAAAAAAAAAAAAAAAAAAAAAAAAAAAAAAAAAAAAAAAAAAAAAAAAAAAAAAAAAAAAAAAAAAAAAAAAAAAAAAAAAAAAAAAAAAAAAAAAAAAAAAAAAAAAAAAAAAAAAAAAAAAAAAAAAAAAAAAAAAAAAAAAAAAAAAAAAAAAAAAAAAAAAAAAAAAAAAAAAAAAAAAAAAAAAAAAAAAAAAAAAAAAAAAAAA+QAAAAAAAAF5AAAAAAACAW0AAAAAAAEBwQAAAAAAAAHRAAAAAAAAAPkAAAAAAAIBbQAAAAAAAADRAAAAAAAAAVEAAAAAAAIBWQAAAAAAAAFRAAAAAAAAAJEAAAAAAAAAAAAAAAAAAAAAAAAAAAAAAGEAAAAAAAADwPwAAAAAAAAAAAAAAAAAAAAAAAAAAAAAAAAAAAAAAAAAAAAAAAAAAAAAAAAAAAAAAAAAAAAAAAAAAAAAAAAAAAAAAAAAAAADwPwAAAAAAAAAAAAAAAAAAAAAAAAAAAAAAAAAAAAAAAAAAAAAAAAAAAAAAAAAAAAAAAAAAAAAAAE5AAAAAAAAAZEAAAAAAAMBsQAAAAAAA1KxAAAAAAAAAmUAAAAAAALTOQAAAAAAAQ8xAAAAAAACIvUAAAAAAAAB5QAAAAAAAAElAAAAAAAAAWUAAAAAAAAAAAAAAAAAAAF5AAAAAAAAAPkAAAAAAAABkQAAAAAAAAAAAAAAAAAAA8D8AAAAAAAAAAAAAAAAAAABAAAAAAAAAIEAAAAAAAAAAAAAAAAAAAAAAAAAAAAAAAAAAAAAAAAAAAAAAAAAAADlAAAAAAAAA8D8AAAAAAAAAAAAAAAAAAABAAAAAAAAAAAAAAAAAAAAAAAAAAAAAAPA/AAAAAAAAAAAAAAAAAAAAAAAAAAAAAAAAAAAAAAAAAAAAAAAAAAAAAAAAAAAAAAAAAAAAAAAAAAAAAAAAAAAAAAAAAAAAAAAAAAAAAAAANEAAAAAAAAAAAAAAAAAAAAAAAAAAAAAAAAAAAAAAAAAAAAAAAAAAAAAAAAAAAAAAPkAAAAAAAAA+QAAAAAAAAAAAAAAAAAAAAAAAAAAAAABJQAAAAAAAAAAAAAAAAAAAAAAAAAAAAAAAAAAAAAAAAAAAAAAAAAAAAAAAAAAAAAAAAAAAAAAAAAAAAAAAAAAAAAAAAAAAAAAAAAAAAAAAAAAAAAAAAAAAAAAAAAAAAAAAAAAAAAAAAAAAAAAAAAAAAAAAAAAAAAAAAAAAAAAAAAAAAAAAAAAAAAAAAAAAAAAAAAAAAAAAAAAAAAAAAAAAAAAAAAAAAAAAAAAAAAAAACRAAAAAAAAAAAAAAAAAAAAkQAAAAAAAAERAAAAAAACAVkAAAAAAAIBWQAAAAAAAAFRAAAAAAAAAAAAAAAAAAAAAAAAAAAAAACRAAAAAAAAAAAAAAAAAAAAAAAAAAAAAAAAAAAAAAAAAAAAAAAAAAAAAAAAAAAAAAEFAAAAAAAAAAAAAAAAAAAAAAAAAAAAAAAAAAAAAAAAAAAAAAAAAAAAAAAAAAAAAAAAAAAAAAAAAAAAAAAAAAAAAAAAAAAAAAAAAAAAAAAAAAAAAAAAAAAAAAAAAAAAAAAAAAAAAAAAAAAAAAAAAAAAAAAAAAAAAAAAAAAAAAAAAAAAAAAAAAAAAAAAAAAAAAAAAAAAAAAAAAAAAAAAAAAAkQAAAAAAAADRAAAAAAAAAREAAAAAAACB3QAAAAAAAgGFAAAAAAABQnkAAAAAAAAAAAAAAAAAAACRAAAAAAAAAAAAAAAAAAAAkQAAAAAAAACRAAAAAAAAAAAAAAAAAAABeQAAAAAAAADRAAAAAAAAAAAAAAAAAAAAAAAAAAAAAAAAAAAAAAAAAAAAAAAAAAAAAAAAAAAAAAAAAAAAAAAAAAEAAAAAAAAAAAAAAAAAAAAAAAAAAAAAA8D8AAAAAAAAAAAAAAAAAAAAAAAAAAAAAAAAAAAAAAAAAAAAAAAAAAAAAAAAAAAAAAAAAAAAAAAAAAAAAAAAAAAAAAAAAAAAAAAAAAAAAAAAAAAAAAAAAAAAAAAAAAAAAAAAAAAAAAAAAAAAAAAAAIHJAAAAAAAAAPkAAAAAAAABJQAAAAAAAVKpAAAAAAAAANEAAAAAAAAAAAAAAAAAAAAAAAAAAAAAAAAAAAAAAAAAAAAAAAAAAACRAAAAAAAAAAAAAAAAAAAAAAAAAAAAAAAAAAAAAAAAAAAAAAAAAAAAAAAAAAAAAAAAAAAAAAAAAAAAAAAAAAAAAAAAAAAAAAAAAAAAAAAAAAAAAAAAAAAAAAAAAAAAAAAAAAAAAAAAAAAAAAAAAAAAAAAAAAAAAAAAAAAAAAAAAAAAAAAAAAAAAAAAAAAAAAAAAAAAAAAAAAAAAAAAAAAAAAAAAAAAAAAAAAAAAAAAAAAAAAAAAAAAAAAAAAAAAAAAAAAAAAAAAAAAAAAAAAAAAAAAAAAAAAAAAAAAAAAAAAAAAAAAAAAAAAAAAAAAAAAAAAAAAAAAAAAAAAAAAAAAAAAAAAAAAAAAAAAAAAAAAAAAAAAAAAAAAAAAAAAAAACRAAAAAAAAAAAAAAAAAAAAAAAAAAAAAAAAAAAAAAAAAAAAAAAAAAAAAAAAAAAAAAAAAAAAAAAAAAAAAAAAAAAAAAAAAAAAAAAAAAAAAAAAAAAAAAAAAAAAAAAAAAAAAAAAAAAAAAAAAAAAAAAAAAAAAAAAAAAAAAAAAAAAAAAAAAAAAAAAAAAAAAAAAAAAAAAAAAAAAAAAAAAAAAAAAAAAAAAAAAAAAAAAAAAAAAAAAAAAAAAAAAAAAAAAAAAAAAAAAAAAAAAAAJEAAAAAAAAAAAAAAAAAAAAAAAAAAAAAATkAAAAAAAAAkQAAAAAAAAAAAAAAAAAAAJEAAAAAAAAAAAAAAAAAAAAAAAAAAAAAAAAAAAAAAAABEQAAAAAAAQGpAAAAAAAAAAEAAAAAAAAAAAAAAAAAAAAAAAAAAAAAAAAAAAAAAAAAAAAAAAAAAAAAAAAAAAAAA8D8AAAAAAAAAAAAAAAAAAAhAAAAAAAAAJkAAAAAAAABGQAAAAAAAAAAAAAAAAAAAAAAAAAAAAAAAAAAAAAAAAAAAAAAAAAAAAAAAAAAAAAAAAAAAAAAAAAAAAAAAAAAAAAAAAAAAAAAAAAAAAAAAAAAAAAAAAAAAAAAAAAAAAAAkQAAAAAAAAERAAAAAAAAAPkAAAAAAAAAAAAAAAAAAAAAAAAAAAAAATkAAAAAAAABEQAAAAAAAACRAAAAAAAAgh0AAAAAAAABZQAAAAAAAQGBAAAAAAAAASUAAAAAAAAAkQAAAAAAAAPA/AAAAAACAUkAAAAAAAAAoQAAAAAAA4G5AAAAAAADAe0AAAAAAAAAAAAAAAAAAAAAAAAAAAAAAAAAAAAAAAAAAAAAAAAAAAAAAAAAAAAAAAAAAAAAAAAAAAAAAAAAAAAAAAAAAAAAAAAAAAAAAAAAAAAAAAAAAAAAAAAAAAAAAAAAAAAAAAAAAAAAAAAAAAAAAAAAAAAAAAAAAAAAAAAAAAAAAAAAAAAAAAAAAAAAAAAAAAAAAAAAAAAAAAAAAACRAAAAAAAAAAAAAAAAAAAAAAAAAAAAAAAAAAAAAAAAAAAAAAAAAAAAkQAAAAAAAAAAAAAAAAAAAAAAAAAAAAAAAAAAAAAAAAAAAAAAAAAAAJEAAAAAAAAAAAAAAAAAAAPA/AAAAAAAAAAAAAAAAAAAAAAAAAAAAAPA/AAAAAAAAAAAAAAAAAAAAAAAAAAAAAAAAAAAAAAAAAAAAAAAAAAAAAAAAAAAAAAAAAAAAAAAAAAAAAAAAAAAAAAAAAAAAAAAAAAAAAAAAAAAAAAAAAAAAAAAAAAAAAAAAAAAAAAAAAAAAAAAAAAAAAAAAAAAAAD5AAAAAAABAZUAAAAAAACCCQAAAAAAA4IBAAAAAAABUoEAAAAAAALayQAAAAAAA4rNAAAAAAAAstUAAAAAAAPCUQAAAAAAA4JBAAAAAAAAAeUAAAAAAAAB+QAAAAAAAQHpAAAAAAACAUUAAAAAAAAAkQAAAAAAAAE5AAAAAAAAAAEAAAAAAAAAgQAAAAAAAAAAAAAAAAAAAAAAAAAAAAAAAAAAAAAAAAAAAAAAAAAAAAAAAAAAAAAAAAAAAAAAAAAAAAAAAAAAAAAAAAAAAAAAAAAAAAAAAAAAAAAAAAAAAAAAAAAAAAAAAAAAAAAAAAAAAAAAAAAAAAAAAAAAAAAAAAAAAAAAAAAAAAAAAAAAAAAAAAAAAAAAAAAAAAAAAAAAAAAAAAAAAAAAAAAAAAAAAAAAAAAAAAAAAAAAAAAAAAAAAAAAAAAAAAAAAAAAAAAAAAAAAAAAAAAAAAAAAAAAAAAAAAAAAAAAAAAAAAAAAAAAAAAAAAAAAAAAAAAAAAAAAAAAAAAAAAAAAAAAAAAAAAAAAAAAAAAAAAAAAAAAAAAAAAAAAAAAAAAAAAAAAAPA/AAAAAAAAFEAAAAAAAAAAAAAAAAAAAAAAAAAAAAAAAAAAAAAAAAAAAAAAAAAAAPA/AAAAAAAAAAAAAAAAAAAAAAAAAAAAAAAAAAAAAAAAAAAAAAAAAAAAAAAAAAAAAAAAAAAAAAAAAAAAAAAAAAAAAAAAAAAAAAAAAAAAAAAAAAAAAAAAAAAAAAAAAAAAAAAAAAAAAAAAAAAAAAAAAAAAAAAAAAAAAAAAAAAAAAAAAAAAAAAAAAAAAAAAAAAAAAAAAAAAAAAAAAAAAAAAAAAAAAAAAAAAACRAAAAAAAAAJEAAAAAAAAAAAAAAAAAAAAAAAAAAAAAAAAAAAAAAAAAAAAAAAAAAAAAAAAAAAAAAAAAAAAAAAAAAAAAAAAAAAAAAAAAAAAAAAAAAAAAAAAAAAAAAAAAAAAAAAAAAAAAAAAAAAAAAAAAAAAAAAAAAAAAAAAAAAAAAAAAAAAAAAAAAAAAAAAAAAAAAAAAAAAAAAAAAAAAAAAAAAAAAAAAAAAAAAAAAAAAAAAAAAAAAAAAAAAAAAAAAAAAAAAAAAAAAAAAAAAAAAAAAAAAAAAAAAAAAAAAAAAAAAAAAAAAAAAAAAAAAAAAAAAAAAAAAAAAAAAAAAAAAAAAAAAAAAAAAAAAAAAAAAAAAAAAAAAAAAAAAAAAAAAAAAAAAAAAAAAAAAAAAAAAAAAAAAAAAAAAAAAAAAAAAAAAAAAAAAAAAAAAAAAAAAAAAAAAAAAAAAAAAAAAAAAAAAAAAAAAAAAAAAAAAAAAAAAAAAAAAAAAAAAAAAAAAAAAAAAAAAAAAAAAAAAAAAAAAAAAAAAAAAAAAAAAAAAAAAAAAAAAAAAAAAAAAAAAAAAAAAAAAAAAAAAAAAAAAAAAAAAAAAAAAAAAAAAAAAAAAAAAAAAAAAAAAAAAAAAAAAAAAAAAAAAAAAAAAAAAAAAAAAAAAAAAAAAAAAAAAAAAAAAAAAAAAAAAAAAAAAAAAAAAAAAAAAAAAAAAAAAAAAAAAAAAAAAAAAAAAAAAAAAAAAAAAAAAAAAAAAAAAAAAAAAAAAAAAAAAAAAAAAAAAAAAAAAAAAAAAAAAAAAAAAAAAAAAAAAAAAAAAAAAAAAAAAAAAAAAAAAAAAAAAAAAAAAAAAAAAAAAAAAAAAAAAAAAAAAAAAAAAAAAAAAAAAAAAAAAAAAAAAAAAAAAAAAAAAAAAAAAAAAAAAAAAAAAAAAAAAAAAAAAAAAAAAAAAAAAAAAAAAAAAAAAAAAAAAAAAAAAAAAAAAAAAAAAAAAAAAAAAAAAAAAAAAAAAAAAAAAAAAAAAAAAAAAAAAAAAAAAAAAAAAAAAAAAAAAAAAD5AAAAAAAAAJEAAAAAAAAAkQAAAAAAAAAAAAAAAAAAAAAAAAAAAAAAAAAAAAAAAAAAAAAAAAAAAAAAAAAAAAAAAAAAAAAAAAAAAAAAAAAAAAAAAAAAAAAAAAAAAAAAAAAAAAAAAAAAAAAAAAAAAAAAAAAAAAAAAAAAAAAAAAAAAAAAAAAAAAAAAAAAAAAAAAAAAAAAAAAAAAAAAAAAAAAAAAAAAAAAAAAAAAAAAAAAAAAAAAAAAAAAAAAAAAAAAAAAAAAAAAAAAAAAAAAAAAAAAAAAAAAAAAAAAAAAAAAAAAAAAAAAAAAAAAAAAAAAAAAAAAAAAAAAAAAAAAAAAAAAAAAAAAAAAAAAAAAAAAAAAAAAAAAAAAAAAAAAAAAAAAAAAAAAAAAAAAAAAAAAAAAAAAAAAAAAAAAAAAAAAAAAAAAAAAAAAAAAAAAAAAAAAAAAAAAAAAAAAAAAAAAAAAAAAAAAAAAAAAAAAAAAAAAAAAAAAAAAAAAAAAAAAAAAAAAAAAAAAAAAAAAAAAAAAAAAAAAAAAAAAAAAAAAAAAAAAAAAAAAAAAAAAAAAAAAAAAAAAAAAAAAAAAAAAAAAAAAAAAAAAAAAAAAAAAAAAAAAAAAAAAAAAAAAAAAAAAAAAAAAAAAAAAAAAAAAAAAAAAAAAAAAAAAAAAAAAAAAAAAAAAAAAAAAAAAAAAAAAAAAAAAAAAAAAAAAAAAAAAAAAAAAAAAAAAAAAAAAAAAAAAAAAAAAAAAAAAAAAAAAAAAAAAAAAAAAAAAAAAAAAAAAAAAAAAAAAAAAAAAAAAAAAAAAAAAAAAAAAAAAAAAAAAAAAAAAAAAAAAAAAAAAAAAAAAAAAAAAAAAAAAAAAAAAAAAAAAAAAAAAAAAAAAAAAAAAAAAAAAAAAAAAAAAAAAAAAAAAAAAAAAAAAAAAAAAAAAAAAAAAAAAAAAAAAAAAAAAAAAAAAAAAAAAAAAAAAAAAAAAAAAAAAAAAAAAAAAAAAAAAAAAAAAAAAAAAAAAAAAAAAAAAAAAAAAAAAAAAAAAAAAAAAAAAAAAAAAAAAAAAAAAAAAAAAAAAAAAAAAAAAAAAAAAAAAAAAAAAAAAAAAAAAAAAAAAAAAAAAAAAAAAAAAAAAJEAAAAAAAAAAAAAAAAAAAAAAAAAAAAAAAAAAAAAAAAAAAAAAAAAAAAAAAAAAAAAAAAAAAAAAAAAAAAAAAAAAAAAAAAAAAAAAAAAAAAAAAAAAAAAAAAAAAAAAAAAAAAAAAAAAAAAAAAAAAAAAAAAAAAAAAAAAAAAAAAAAAAAAAAAAAAAAAAAAAAAAAAAAAAAAAAAAAAAAAAAAAAAAAAAAAAAAAAAAAAAAAAAAAAAAAAAAAAAAAAAAAAAAAAAAAAAAAAAAAAAAAAAAAAAAAAAAAAAAAAAAAAAAAAAAAAAAAAAAAAAAAAAAAAAAAAAAAAAAAAAAAAAAAAAAAAAAAAAAAAAAAAAAAAAAAAAAAAAAAAAAAAAAAAAAAAAAAAAAAAAAAAAAAAAAAAAAAAAAAAAAAAAAAAAAAAAAAAAAAAAAAAAAAAAAAAAAAAAAAAAAAAAAAAAAAAAAAAAAAAAAAAAAAAAAAAAAAAAAAAAAAAAAAAAAAAAAAAAAAAAAAAAAAAAAAAAAAAAAAAAAAAAAAAAAAAAAAAAAAAAAAAAAAAAAAAAAAAAAAAAAAAAAAAAAAAAAAAAAAAAAAAAAAAAAAAAAAAAAAAAAAAAAAAAAAAAAAAAAAAAAAAAAAAAAAAAAAAAAAAAAAAAAAAAAAAAAAAAAAAAAAAAAAAAAAAAAAAAAAAAAAAAAAAAAAAAAAAAAAAAAAAAAAAAAAAAAAAAAAAAAAAAAAAAAAAAAAAAAAAAAAAAAAAAAAAAAAAAAAAAAAAAAAAAAAAAAAAAAAAAAAAAAAAAAAAAAAAAAAAAAAAAAAAAAAAAAAAAAAAAAAAAAAAAAAAAAAAAAAAAAAAAAAAAAAAAAAAAAAAAAAAAAAAAAAAAAAAAAAAAAAAAAAAAAAAAAAAAAAAAAAAAAAAAAAAAAAAAAAAAAAAAAAAAAAAAAAAAAAAAAAAAAAAAAAAAAAAAAAAAAAAAAAAAAAAAAAAAAAAAAAAAAAAAAAAAAAAAAAAAAAAAAAAAAAAAAAAAAAAAAAAAAAAAAAAAAAAAAAAAAAAAAAAAAAAAAAAAAAAAAAAAAAAAAAAAAAAAAAAAAAAAAAAAAAAAAAAAAAAAAAAAAAAAAAAAAAAAAAAAAAAAAAAAAAAAAAAAAAAAAAAAAAAAAAAAAAAAAAAAAAAAAAAAAAAAAAAAAAAAAAAAAAAAAAAAAAAAAAAAAAAAAAAAAAAAAAAAAAAAAAAAAAAAAAAAAAAAAAAAAAAAAAAAAAAAAAAAAAAAAAAAAAAAAAAAAAAAAAAAAAAAAAAAAAAAAAAAAAAAAAAAAAAAAAAAAAAAAAAAAAAAAAAAAAAAAAAAAAAAAAAAAAAAAAAAAAAAAAAAAAAAAAAAAAAAAAAAAAAAAAAAAAAAAAAAAAAAAAAAAAAAAAAAAAAAAAAAAAAAAAAAAAAAAAAAAAAAAAAAAAAAAAAAAAAAAAAAAAAAAAAAAAAAAAAAAAAAAAAAAAAAAAAAAAAAAAAAAAAAAAAAAAAAAAAAAAAAAAAAAAAAAAAAAAAAAAAAAAAAAAAAAAAAAAAAAAAAAAAAAAAAAAAAAAAAAAAAAAAAAAAAAAAAAAAAAAAAAAAAAAAAAAAAAAAAAAAAAAAAAAAAAAAAAAAAAAAAAAAAAAAAAAAAAAAAAAAAAAAAAAAAAAAAAAAAAAAAAAAAAAAAAAAAAAAAAAAAAAAAAAAAAAAAAAAAAAAAAAAAAAAAAAAAAAAAAAAAAAAAAAAAAAAAAAAAAAAAAAAAAAAAAAAAAAAAAAAAAAAAAAAAAAAAAAAAAAAAAAAAAAAAAAAAAAAAAAAAAAAAAAAAAAAAAAAAAAAAAAAAAAAAAAAAAAAAAAAAAAAAAAAAAAAAAAAAAAAAAAAAAAAAAAAAAAAAAAAAAAAAAAAAAAAAAAAAAAAAAAAAAAAAAAAAAAAAAAAAAAAAAAAAAAAAAAAAAAAAAAAAAAAAAAAAAAAAAAAAAAAAAAAAAAAAAAAAAAAAAAAAAAAAAAAAAAAAAAAAAAAAAAAAAAAAAAAAAAAAAAAAAAAAAAAAAAAAAAAAAAAAAAAAAAAAAAAAAAAAAAAAAAAAAAAAAAAAAAAAAAAAAAAAAAAAAAAAAAAAAAAAAAAAAAAAAAAAAAAAAAAAAAAAAAAAAAAAAAAAAAAAAAAAAAAAAAAAAAAAAAAAAAAAAAAAAAAAAAAAAAAAAAAAAAAAAAAAAAAAAAAAAAAAAAAAAAAAAAAAAAAAAAAAAAAAAAAAAAAAAAAAAAAAAAAAAAAAAAAAAAAAAAAAAAAAAAAAAAAAAAAAAAAAAAAAAAAAAAAAAAAAAAAAAAAAAAAAAAAAAAAAAAAAAAAAAAAAAAAAAAAAAAAAAAAAAAAAAAAAAAAAAAAAAAAAAAAAAAAAAAAAAAAAAAAAAAAAAAAAAAAAAAAAAAAAAAAAAAAAAAAAAAAAAAAAAAAAAAAAAAAAAAAAAAAAAAAAAAAAAAAAAAAAAAAAAAAAAAAAAAAAAAAAAAAAAAAAAAAAAAAAAAAAAAAAAAAAAAAAAAAAAAAAAAAAAAAAAAAAAAAAAAAAAAAAAAAAAAAAAAAAAAAAAAAAAAAAAAAAAAAAAAAAAAAAAAAAAAAAAAAAAAAAAAAAAAAAAAAAAAAAAAAAAAAAAAAAAAAAAAAAAAAAAAAAAAAAAAAAAAAAAAAAAAAAAAAAAAAAAAAAAAAAAAAAAAAAAAAAAAAAAAAAAAAAAAAAAAAAAAAAAAAAAAAAAAAAAAAAAAAAAAAAAAAAAAAAAAAAAAAAAAAAAAAAAAAAAAAAAAAAAAAAAAAAAAAAAAAAAAAAAAAAAAAAAAAAAAAAAAAAAAAAAAAAAAAAAAAAAAAAAAAAAAAAAAAAAAAAAAAAAAAAAAAAAAAAAAAAAAAAAAAAAAAAAAAA=",
          "dtype": "f8",
          "shape": "35, 35"
         }
        },
        {
         "colorbar": {
          "title": {
           "text": "Density"
          }
         },
         "colorscale": [
          [
           0,
           "#440154"
          ],
          [
           0.1111111111111111,
           "#482878"
          ],
          [
           0.2222222222222222,
           "#3e4989"
          ],
          [
           0.3333333333333333,
           "#31688e"
          ],
          [
           0.4444444444444444,
           "#26828e"
          ],
          [
           0.5555555555555556,
           "#1f9e89"
          ],
          [
           0.6666666666666666,
           "#35b779"
          ],
          [
           0.7777777777777778,
           "#6ece58"
          ],
          [
           0.8888888888888888,
           "#b5de2b"
          ],
          [
           1,
           "#fde725"
          ]
         ],
         "hovertemplate": "Altitude: %{x}km<br>Inclination: %{y}°<br>Density: %{z}<extra></extra>",
         "text": {
          "bdata": "AAAAAAAAAAAAAAAAAAAAAAAAAAAAAAAAAAAAAAAAAAAAAAAAAAAAAAAAAAAAAAAAAAAAAAAAAAAAAAAAAIA5QAAAAAAAAAAAAAAAAAAAAAAAAAAAAAAAAAAAAAAAAAAAAAAAAAAAAAAAAAAAAAAAAAAAAAAAAAAAAAAAAAAAAAAAAAAAAAAAAAAAAAAAAAAAAAAAAAAAAAAAAAAAAAAAAAAAAAAAAAAAAAAAAAAAAAAAAAAAAAAAAAAAAAAAAAAAAAAAAAAAAAAAAAAAAAAAAAAAAAAAAAAAAAAAAAAAAAAAAAAAAAAAAAAAAAAAAAAAAAAAAAAAAAAAAAAAAAAAAAAAAAAAAAAAAAAAAAAAAAAAAAAAAAAAAAAAAAAAAAAAAAAAAAAAAAAAAAAAAAAAAAAAAAAAAAAAAAAAAAAAAAAAAAAAAAAAAAAAAAAAgDlAZmZmZmYmQ0CamZmZmZkpQAAAAAAAAAAAAAAAAAAAAAAAAAAAAAAAAAAAAAAAAAAAAAAAAAAAAAAAAAAAAAAAAAAAAAAAAAAAAAAAAAAAAAAAAAAAAAAAAAAAAAAAAAAAAAAAAAAAAAAAAAAAAAAAAAAAAAAAAAAAAAAAAAAAAAAAAAAAAAAAAAAAAAAAAAAAAAAAAAAAAAAAAAAAAAAAAAAAAAAAAAAAAAAAAAAAAAAAAAAAAAAAAAAAAAAAAAAAAAAAAAAAAAAAAAAAAAAAAAAAAAAAAAAAAAAAAAAAAAAAAAAAAAAAAAAAAAAAAAAAAAAAAAAAAAAAAAAAAAAAAAAAAAAAAAAAmpmZmZmZKUCamZmZmZkpQAAAAAAAAAAAAAAAAAAAAAAAAAAAAAAAAAAAAAAAAAAAAAAAAAAAAAAAAAAAAIA5QAAAAAAAAAAAAAAAAAAAAAAAAAAAAAAAAAAAAAAAAAAAAAAAAAAAAAAAAAAAAAAAAAAAAAAAAAAAAAAAAAAAAAAAAAAAAAAAAAAAAAAAAAAAAAAAAAAAAAAAAAAAAAAAAAAAAAAAAAAAAAAAAAAAAAAAAAAAAAAAAAAAAAAAAAAAAAAAAAAAAAAAAAAAAAAAAAAAAAAAAAAAAAAAAAAAAAAAAAAAAAAAAAAAAAAAAAAAAAAAAAAAAAAAAAAAAAAAAAAAAAAAAAAAAAAAAAAAAAAAAAAAAAAAAAAAAAAAAAAAAAAAAAAAAAAAAAAAAAAAAAAAAAAAAAAAAAAAAAAAAAAAAAAAAAAAAAAAAAAAAAAAAAAAAAAAAAAAAAAAAIA5QAAAAAAAAAAAAAAAAAAAAAAAAAAAAAAAAAAAAAAAAAAAAAAAAAAAAAAAAAAAAAAAAAAAAAAAAAAAAAAAAAAAAAAAAAAAAAAAAAAAAAAAAAAAAAAAAAAAAAAAAAAAAAAAAAAAAAAAAAAAAAAAAAAAAAAAAAAAAAAAAAAAAAAAAAAAAAAAAAAAAAAAAAAAAAAAAAAAAAAAAAAAAAAAAAAAAAAAAAAAAAAAAAAAAAAAAAAAAAAAAAAAAAAAAAAAAAAAAAAAAAAAAAAAmpmZmZmZKUAAAAAAAAAAAAAAAAAAAAAAzczMzMwsXkCamZmZmZkpQJqZmZmZmSlAZmZmZmYmQ0AAAAAAAAAAAAAAAAAAAAAAAAAAAAAAAAAAAAAAAAAAAAAAAAAAAAAAAAAAAAAAAAAAAAAAAAAAAAAAAAAAAAAAAAAAAAAAAAAAAAAAAAAAAAAAAAAAAAAAAAAAAAAAAAAAAAAAAAAAAAAAAAAAAAAAAAAAAAAAAAAAAAAAAAAAAAAAAAAAAAAAAAAAAAAAAAAAAAAAAAAAAAAAAAAAAAAAAAAAAAAAAAAAAAAAAAAAAAAAAAAAAAAAAAAAAAAAAAAAAAAAAAAAAAAAAAAAAAAAAAAAAAAAAAAAAAAAAAAAAAAAAAAAAAAAmpmZmZmZKUAAAAAAAIA5QAAAAAAAgDlAAAAAAACAOUAAAAAAAAAAAAAAAAAAAAAAAAAAAAAAAAAAAAAAAAAAAAAAAAAAAAAAAAAAAAAAAAAAAAAAAAAAAAAAAAAAAAAAzczMzMzM9D8AAAAAAAAAAAAAAAAAAAAAAAAAAAAAAAAAAAAAAAAAAAAAAAAAAAAAAAAAAAAAAAAAAAAAAAAAAAAAAAAAAAAAAAAAAAAAAAAAAAAAAAAAAAAAAAAAAAAAAAAAAAAAAAAAAAAAAAAAAAAAAAAAAAAAAAAAAAAAAAAAAAAAAAAAAAAAAAAAAAAAAAAAAAAAAAAAAAAAAAAAAAAAAAAAAAAAZmZmZmYmQ0DNzMzMzBxkQAAAAAAAWHBAmpmZmZlBh0CamZmZmb2EQAAAAAAAAAAAAAAAAAAAAAAAAAAAAAAAAAAAAAAAAAAAAAAAAAAAAAAAAAAAAAAAAAAAAAAAAAAAAAAAAAAAAAAAAAAAAAAAAAAAAAAAAAAAAAAAAAAAAAAAAAAAAAAAAAAAAAAAAAAAAAAAAAAAAAAAAAAAAAAAAAAAAAAAAAAAAAAAAAAAAAAAAAAAAAAAAAAAAAAAAAAAAAAAAAAAAAAAAAAAAAAAAAAAAAAAAAAAAAAAAAAAAAAAAAAAAAAAAAAAAAAAAAAAAAAAAAAAAAAAAAAAAAAAAAAAAAAAAAAAAAAAAAAAAAAAAAAAAAAAAAAAAAAAAAAAAAAAAACAOUBmZmZmZuZPQGZmZmZmXnVAZmZmZmbmT0AAAAAAAAAAAAAAAAAAAAAAAAAAAAAAAACamZmZmZkpQAAAAAAAAAAAAAAAAAAAAAAAAAAAAAAAAAAAAAAAAAAAmpmZmZmZGUAAAAAAAAAAAAAAAAAAAAAAAAAAAAAAAAAAAAAAAAAAAAAAAAAAAAAAAAAAAAAAAAAAAAAAAAAAAAAAAAAAAAAAAAAAAAAAAAAAAAAAAAAAAAAAAAAAAAAAAAAAAAAAAAAAAAAAAAAAAAAAAAAAAAAAAAAAAAAAAAAAAAAAAAAAAAAAAAAAAAAAAAAAAAAAAACamZmZmZkpQAAAAAAAgDlAZmZmZmbmT0AAAAAAgFe7QGZmZmZmpmtAMzMzM/Oi20DNzMzMzPiAQAAAAADAatlAmpmZmZmZKUCamZmZmZkpQAAAAAAAAAAAAAAAAACAOUAAAAAAAAAAAJqZmZmZmSlAzczMzMwcdEAAAAAAAAAAAAAAAAAAAAAAAAAAAAAAAAAAAAAAAAAAAAAAAAAAAAAAAAAAAAAAAAAAAAAAAAAAAAAAAAAAAAAAAAAAAAAAAAAAAAAAAAAAAAAAAAAAAAAAAAAAAAAAAAAAAAAAAAAAAAAAAAAAAAAAAAAAAAAAAAAAAAAAAAAAAAAAAAAAAAAAAAAAAAAAAAAAAAAAAAAAAAAAAAAAAAAAAAAAAAAAAAAAAAAAAAAAAAAAAAAAAAAAAAAAAAAAAABmZmZmZiZDQM3MzMzMLG5AZmZmZmama0AAAAAAAFiAQM3MzMzMHIRAZmZmZmYmQ0BmZmZmZqZrQAAAAAAAgDlAzczMzMwcZEAAAAAAAKBmQM3MzMzMHGRAmpmZmZmZKUAAAAAAAAAAAAAAAAAAAAAAzczMzMzMHkDNzMzMzMz0PwAAAAAAAAAAAAAAAAAAAAAAAAAAAAAAAAAAAAAAAAAAAAAAAAAAAAAAAAAAAAAAAAAAAAAAAAAAAAAAAAAAAADNzMzMzMz0PwAAAAAAAAAAAAAAAAAAAAAAAAAAAAAAAAAAAAAAAAAAAAAAAAAAAAAAAAAAAAAAAM3MzMzMLF5AzczMzMwcdECamZmZmel8QGZmZmbm/bxAZmZmZmYkqUAAAAAAoODeQDMzMzMTbNxAMzMzM/OyzUAAAAAAACSJQGZmZmZm5k9AMzMzMzMjaUAAAAAAAAAAAM3MzMzMLG5AZmZmZmYmQ0DNzMzMzBx0QAAAAAAAAAAAzczMzMzM9D8AAAAAAAAAAM3MzMzMzARAZmZmZmZmJEAAAAAAAAAAAAAAAAAAAAAAAAAAAAAAAAAAAAAAAAAAAGZmZmZm5j9AzczMzMzM9D8AAAAAAAAAAM3MzMzMzARAAAAAAAAAAAAAAAAAAAAAAM3MzMzMzPQ/AAAAAAAAAAAAAAAAAAAAAAAAAAAAAAAAAAAAAAAAAAAAAAAAAAAAAAAAAAAAAAAAAAAAAAAAAAAAAAAAAAAAAAAAAAAAAAAAAAAAAACAOUAAAAAAAAAAAAAAAAAAAAAAAAAAAAAAAAAAAAAAAAAAAAAAAAAAAAAAZmZmZmYmQ0BmZmZmZiZDQAAAAAAAAAAAAAAAAAAAAABmZmZmZuZPQAAAAAAAAAAAAAAAAAAAAAAAAAAAAAAAAAAAAAAAAAAAAAAAAAAAAAAAAAAAAAAAAAAAAAAAAAAAAAAAAAAAAAAAAAAAAAAAAAAAAAAAAAAAAAAAAAAAAAAAAAAAAAAAAAAAAAAAAAAAAAAAAAAAAAAAAAAAAAAAAAAAAAAAAAAAAAAAAAAAAAAAAAAAAAAAAAAAAAAAAAAAAAAAAAAAAAAAAAAAAAAAAJqZmZmZmSlAAAAAAAAAAACamZmZmZkpQM3MzMzMjElAAAAAAACgZkAAAAAAAKBmQM3MzMzMHGRAAAAAAAAAAAAAAAAAAAAAAJqZmZmZmSlAAAAAAAAAAAAAAAAAAAAAAAAAAAAAAAAAAAAAAAAAAAAAAAAAAAAAADMzMzMzs0VAAAAAAAAAAAAAAAAAAAAAAAAAAAAAAAAAAAAAAAAAAAAAAAAAAAAAAAAAAAAAAAAAAAAAAAAAAAAAAAAAAAAAAAAAAAAAAAAAAAAAAAAAAAAAAAAAAAAAAAAAAAAAAAAAAAAAAAAAAAAAAAAAAAAAAAAAAAAAAAAAAAAAAAAAAAAAAAAAAAAAAAAAAAAAAAAAAAAAAAAAAACamZmZmZkpQAAAAAAAgDlAzczMzMyMSUCamZmZmUGHQJqZmZmZmXFAAAAAAAB8rkAAAAAAAAAAAJqZmZmZmSlAAAAAAAAAAACamZmZmZkpQJqZmZmZmSlAAAAAAAAAAADNzMzMzCxuQAAAAAAAgDlAAAAAAAAAAAAAAAAAAAAAAAAAAAAAAAAAAAAAAAAAAAAAAAAAAAAAAAAAAAAAAAAAzczMzMzMBEAAAAAAAAAAAAAAAAAAAAAAzczMzMzM9D8AAAAAAAAAAAAAAAAAAAAAAAAAAAAAAAAAAAAAAAAAAAAAAAAAAAAAAAAAAAAAAAAAAAAAAAAAAAAAAAAAAAAAAAAAAAAAAAAAAAAAAAAAAAAAAAAAAAAAAAAAAAAAAAAAAAAAAAAAAGZmZmZmOoJAZmZmZmYmQ0BmZmZmZuZPQM3MzMxMerpAAAAAAACAOUAAAAAAAAAAAAAAAAAAAAAAAAAAAAAAAAAAAAAAAAAAAJqZmZmZmSlAAAAAAAAAAAAAAAAAAAAAAAAAAAAAAAAAAAAAAAAAAAAAAAAAAAAAAAAAAAAAAAAAAAAAAAAAAAAAAAAAAAAAAAAAAAAAAAAAAAAAAAAAAAAAAAAAAAAAAAAAAAAAAAAAAAAAAAAAAAAAAAAAAAAAAAAAAAAAAAAAAAAAAAAAAAAAAAAAAAAAAAAAAAAAAAAAAAAAAAAAAAAAAAAAAAAAAAAAAAAAAAAAAAAAAAAAAAAAAAAAAAAAAAAAAAAAAAAAAAAAAAAAAAAAAAAAAAAAAAAAAAAAAAAAAAAAAAAAAAAAAAAAAAAAAAAAAAAAAAAAAAAAAAAAAAAAAAAAAAAAAAAAAAAAAAAAAAAAAAAAAAAAAAAAAAAAAJqZmZmZmSlAAAAAAAAAAAAAAAAAAAAAAAAAAAAAAAAAAAAAAAAAAAAAAAAAAAAAAAAAAAAAAAAAAAAAAAAAAAAAAAAAAAAAAAAAAAAAAAAAAAAAAAAAAAAAAAAAAAAAAAAAAAAAAAAAAAAAAAAAAAAAAAAAAAAAAAAAAAAAAAAAAAAAAAAAAAAAAAAAAAAAAAAAAAAAAAAAAAAAAAAAAAAAAAAAAAAAAAAAAAAAAAAAAAAAAAAAAAAAAAAAAAAAAAAAAAAAAAAAmpmZmZmZKUAAAAAAAAAAAAAAAAAAAAAAzczMzMwsXkCamZmZmZkpQAAAAAAAAAAAmpmZmZmZKUAAAAAAAAAAAAAAAAAAAAAAAAAAAAAAAADNzMzMzIxJQGZmZmZmZnpAzczMzMzMBEAAAAAAAAAAAAAAAAAAAAAAAAAAAAAAAAAAAAAAAAAAAAAAAAAAAAAAzczMzMzM9D8AAAAAAAAAAGZmZmZmZg5AAAAAAAAALECamZmZmRlMQAAAAAAAAAAAAAAAAAAAAAAAAAAAAAAAAAAAAAAAAAAAAAAAAAAAAAAAAAAAAAAAAAAAAAAAAAAAAAAAAAAAAAAAAAAAAAAAAAAAAAAAAAAAAAAAAAAAAACamZmZmZkpQM3MzMzMjElAZmZmZmYmQ0AAAAAAAAAAAAAAAAAAAAAAzczMzMwsXkDNzMzMzIxJQJqZmZmZmSlAmpmZmZlBl0AzMzMzMyNpQAAAAAAAWHBAZmZmZmbmT0CamZmZmZkpQM3MzMzMzPQ/mpmZmZmZYkCamZmZmZkuQM3MzMzMDH9AAAAAAADoi0AAAAAAAAAAAAAAAAAAAAAAAAAAAAAAAAAAAAAAAAAAAAAAAAAAAAAAAAAAAAAAAAAAAAAAAAAAAAAAAAAAAAAAAAAAAAAAAAAAAAAAAAAAAAAAAAAAAAAAAAAAAAAAAAAAAAAAAAAAAAAAAAAAAAAAAAAAAAAAAAAAAAAAAAAAAAAAAAAAAAAAAAAAAAAAAAAAAAAAAAAAAJqZmZmZmSlAAAAAAAAAAAAAAAAAAAAAAAAAAAAAAAAAAAAAAAAAAACamZmZmZkpQAAAAAAAAAAAAAAAAAAAAAAAAAAAAAAAAAAAAAAAAAAAmpmZmZmZKUAAAAAAAAAAAM3MzMzMzPQ/AAAAAAAAAAAAAAAAAAAAAM3MzMzMzPQ/AAAAAAAAAAAAAAAAAAAAAAAAAAAAAAAAAAAAAAAAAAAAAAAAAAAAAAAAAAAAAAAAAAAAAAAAAAAAAAAAAAAAAAAAAAAAAAAAAAAAAAAAAAAAAAAAAAAAAAAAAAAAAAAAAAAAAAAAAAAAAAAAAAAAAGZmZmZmJkNAZmZmZmZedUBmZmZmZjqSQGZmZmZm+JBAMzMzM7NrsEAzMzMzM9HCQGZmZmbm/sNAzczMzMxKxUBmZmZmZg6lQJqZmZmZ+KBAAAAAAAAkiUAAAAAAACyOQGZmZmZmZopAmpmZmZmZYUCamZmZmZkpQM3MzMzMLF5AzczMzMzMBEBmZmZmZmYkQAAAAAAAAAAAAAAAAAAAAAAAAAAAAAAAAAAAAAAAAAAAAAAAAAAAAAAAAAAAAAAAAAAAAAAAAAAAAAAAAAAAAAAAAAAAAAAAAAAAAAAAAAAAAAAAAAAAAAAAAAAAAAAAAAAAAAAAAAAAAAAAAAAAAAAAAAAAAAAAAAAAAAAAAAAAAAAAAAAAAAAAAAAAAAAAAAAAAAAAAAAAAAAAAAAAAAAAAAAAAAAAAAAAAAAAAAAAAAAAAAAAAAAAAAAAAAAAAAAAAAAAAAAAAAAAAAAAAAAAAAAAAAAAAAAAAAAAAAAAAAAAAAAAAAAAAAAAAAAAAAAAAAAAAAAAAAAAAAAAAAAAAAAAAAAAAAAAAAAAAAAAAAAAAAAAAAAAAAAAAAAAAM3MzMzMzPQ/mpmZmZmZGUAAAAAAAAAAAAAAAAAAAAAAAAAAAAAAAAAAAAAAAAAAAM3MzMzMzPQ/AAAAAAAAAAAAAAAAAAAAAAAAAAAAAAAAAAAAAAAAAAAAAAAAAAAAAAAAAAAAAAAAAAAAAAAAAAAAAAAAAAAAAAAAAAAAAAAAAAAAAAAAAAAAAAAAAAAAAAAAAAAAAAAAAAAAAAAAAAAAAAAAAAAAAAAAAAAAAAAAAAAAAAAAAAAAAAAAAAAAAAAAAAAAAAAAAAAAAAAAAAAAAAAAAAAAAJqZmZmZmSlAmpmZmZmZKUAAAAAAAAAAAAAAAAAAAAAAAAAAAAAAAAAAAAAAAAAAAAAAAAAAAAAAAAAAAAAAAAAAAAAAAAAAAAAAAAAAAAAAAAAAAAAAAAAAAAAAAAAAAAAAAAAAAAAAAAAAAAAAAAAAAAAAAAAAAAAAAAAAAAAAAAAAAAAAAAAAAAAAAAAAAAAAAAAAAAAAAAAAAAAAAAAAAAAAAAAAAAAAAAAAAAAAAAAAAAAAAAAAAAAAAAAAAAAAAAAAAAAAAAAAAAAAAAAAAAAAAAAAAAAAAAAAAAAAAAAAAAAAAAAAAAAAAAAAAAAAAAAAAAAAAAAAAAAAAAAAAAAAAAAAAAAAAAAAAAAAAAAAAAAAAAAAAAAAAAAAAAAAAAAAAAAAAAAAAAAAAAAAAAAAAAAAAAAAAAAAAAAAAAAAAAAAAAAAAAAAAAAAAAAAAAAAAAAAAAAAAAAAAAAAAAAAAAAAAAAAAAAAAAAAAAAAAAAAAAAAAAAAAAAAAAAAAAAAAAAAAAAAAAAAAAAAAAAAAAAAAAAAAAAAAAAAAAAAAAAAAAAAAAAAAAAAAAAAAAAAAAAAAAAAAAAAAAAAAAAAAAAAAAAAAAAAAAAAAAAAAAAAAAAAAAAAAAAAAAAAAAAAAAAAAAAAAAAAAAAAAAAAAAAAAAAAAAAAAAAAAAAAAAAAAAAAAAAAAAAAAAAAAAAAAAAAAAAAAAAAAAAAAAAAAAAAAAAAAAAAAAAAAAAAAAAAAAAAAAAAAAAAAAAAAAAAAAAAAAAAAAAAAAAAAAAAAAAAAAAAAAAAAAAAAAAAAAAAAAAAAAAAAAAAAAAAAAAAAAAAAAAAAAAAAAAAAAAAAAAAAAAAAAAAAAAAAAAAAAAAAAAAAAAAAAAAAAAAAAAAAAAAAAAAAAAAAAAAAAAAAAAAAAAAAAAAAAAAAAAAAAAAAAAAAAAAAAAAAAAAAAAAAAAAAAAAAAAAAAAAAAAAAAAAAAAAAAAAAAAAAAAAAAAAAAAAAAAAAAAAAAAAAAAAAAAAAAAAAAAAAAAAAAAAAAAAAGZmZmZmJkNAmpmZmZmZKUCamZmZmZkpQAAAAAAAAAAAAAAAAAAAAAAAAAAAAAAAAAAAAAAAAAAAAAAAAAAAAAAAAAAAAAAAAAAAAAAAAAAAAAAAAAAAAAAAAAAAAAAAAAAAAAAAAAAAAAAAAAAAAAAAAAAAAAAAAAAAAAAAAAAAAAAAAAAAAAAAAAAAAAAAAAAAAAAAAAAAAAAAAAAAAAAAAAAAAAAAAAAAAAAAAAAAAAAAAAAAAAAAAAAAAAAAAAAAAAAAAAAAAAAAAAAAAAAAAAAAAAAAAAAAAAAAAAAAAAAAAAAAAAAAAAAAAAAAAAAAAAAAAAAAAAAAAAAAAAAAAAAAAAAAAAAAAAAAAAAAAAAAAAAAAAAAAAAAAAAAAAAAAAAAAAAAAAAAAAAAAAAAAAAAAAAAAAAAAAAAAAAAAAAAAAAAAAAAAAAAAAAAAAAAAAAAAAAAAAAAAAAAAAAAAAAAAAAAAAAAAAAAAAAAAAAAAAAAAAAAAAAAAAAAAAAAAAAAAAAAAAAAAAAAAAAAAAAAAAAAAAAAAAAAAAAAAAAAAAAAAAAAAAAAAAAAAAAAAAAAAAAAAAAAAAAAAAAAAAAAAAAAAAAAAAAAAAAAAAAAAAAAAAAAAAAAAAAAAAAAAAAAAAAAAAAAAAAAAAAAAAAAAAAAAAAAAAAAAAAAAAAAAAAAAAAAAAAAAAAAAAAAAAAAAAAAAAAAAAAAAAAAAAAAAAAAAAAAAAAAAAAAAAAAAAAAAAAAAAAAAAAAAAAAAAAAAAAAAAAAAAAAAAAAAAAAAAAAAAAAAAAAAAAAAAAAAAAAAAAAAAAAAAAAAAAAAAAAAAAAAAAAAAAAAAAAAAAAAAAAAAAAAAAAAAAAAAAAAAAAAAAAAAAAAAAAAAAAAAAAAAAAAAAAAAAAAAAAAAAAAAAAAAAAAAAAAAAAAAAAAAAAAAAAAAAAAAAAAAAAAAAAAAAAAAAAAAAAAAAAAAAAAAAAAAAAAAAAAAAAAAAAAAAAAAAAAAAAAAAAAAAAAAAAAAAAAAAAAAAAAAAAAAAAAAAAAAAAAAAAAAAAAAAAAAAAAAAAAAAAAAAAAAAAAAAAAAAAAAAAAAAAAAAAAAAAAAAAAAAAAAAAAAAAmpmZmZmZKUAAAAAAAAAAAAAAAAAAAAAAAAAAAAAAAAAAAAAAAAAAAAAAAAAAAAAAAAAAAAAAAAAAAAAAAAAAAAAAAAAAAAAAAAAAAAAAAAAAAAAAAAAAAAAAAAAAAAAAAAAAAAAAAAAAAAAAAAAAAAAAAAAAAAAAAAAAAAAAAAAAAAAAAAAAAAAAAAAAAAAAAAAAAAAAAAAAAAAAAAAAAAAAAAAAAAAAAAAAAAAAAAAAAAAAAAAAAAAAAAAAAAAAAAAAAAAAAAAAAAAAAAAAAAAAAAAAAAAAAAAAAAAAAAAAAAAAAAAAAAAAAAAAAAAAAAAAAAAAAAAAAAAAAAAAAAAAAAAAAAAAAAAAAAAAAAAAAAAAAAAAAAAAAAAAAAAAAAAAAAAAAAAAAAAAAAAAAAAAAAAAAAAAAAAAAAAAAAAAAAAAAAAAAAAAAAAAAAAAAAAAAAAAAAAAAAAAAAAAAAAAAAAAAAAAAAAAAAAAAAAAAAAAAAAAAAAAAAAAAAAAAAAAAAAAAAAAAAAAAAAAAAAAAAAAAAAAAAAAAAAAAAAAAAAAAAAAAAAAAAAAAAAAAAAAAAAAAAAAAAAAAAAAAAAAAAAAAAAAAAAAAAAAAAAAAAAAAAAAAAAAAAAAAAAAAAAAAAAAAAAAAAAAAAAAAAAAAAAAAAAAAAAAAAAAAAAAAAAAAAAAAAAAAAAAAAAAAAAAAAAAAAAAAAAAAAAAAAAAAAAAAAAAAAAAAAAAAAAAAAAAAAAAAAAAAAAAAAAAAAAAAAAAAAAAAAAAAAAAAAAAAAAAAAAAAAAAAAAAAAAAAAAAAAAAAAAAAAAAAAAAAAAAAAAAAAAAAAAAAAAAAAAAAAAAAAAAAAAAAAAAAAAAAAAAAAAAAAAAAAAAAAAAAAAAAAAAAAAAAAAAAAAAAAAAAAAAAAAAAAAAAAAAAAAAAAAAAAAAAAAAAAAAAAAAAAAAAAAAAAAAAAAAAAAAAAAAAAAAAAAAAAAAAAAAAAAAAAAAAAAAAAAAAAAAAAAAAAAAAAAAAAAAAAAAAAAAAAAAAAAAAAAAAAAAAAAAAAAAAAAAAAAAAAAAAAAAAAAAAAAAAAAAAAAAAAAAAAAAAAAAAAAAAAAAAAAAAAAAAAAAAAAAAAAAAAAAAAAAAAAAAAAAAAAAAAAAAAAAAAAAAAAAAAAAAAAAAAAAAAAAAAAAAAAAAAAAAAAAAAAAAAAAAAAAAAAAAAAAAAAAAAAAAAAAAAAAAAAAAAAAAAAAAAAAAAAAAAAAAAAAAAAAAAAAAAAAAAAAAAAAAAAAAAAAAAAAAAAAAAAAAAAAAAAAAAAAAAAAAAAAAAAAAAAAAAAAAAAAAAAAAAAAAAAAAAAAAAAAAAAAAAAAAAAAAAAAAAAAAAAAAAAAAAAAAAAAAAAAAAAAAAAAAAAAAAAAAAAAAAAAAAAAAAAAAAAAAAAAAAAAAAAAAAAAAAAAAAAAAAAAAAAAAAAAAAAAAAAAAAAAAAAAAAAAAAAAAAAAAAAAAAAAAAAAAAAAAAAAAAAAAAAAAAAAAAAAAAAAAAAAAAAAAAAAAAAAAAAAAAAAAAAAAAAAAAAAAAAAAAAAAAAAAAAAAAAAAAAAAAAAAAAAAAAAAAAAAAAAAAAAAAAAAAAAAAAAAAAAAAAAAAAAAAAAAAAAAAAAAAAAAAAAAAAAAAAAAAAAAAAAAAAAAAAAAAAAAAAAAAAAAAAAAAAAAAAAAAAAAAAAAAAAAAAAAAAAAAAAAAAAAAAAAAAAAAAAAAAAAAAAAAAAAAAAAAAAAAAAAAAAAAAAAAAAAAAAAAAAAAAAAAAAAAAAAAAAAAAAAAAAAAAAAAAAAAAAAAAAAAAAAAAAAAAAAAAAAAAAAAAAAAAAAAAAAAAAAAAAAAAAAAAAAAAAAAAAAAAAAAAAAAAAAAAAAAAAAAAAAAAAAAAAAAAAAAAAAAAAAAAAAAAAAAAAAAAAAAAAAAAAAAAAAAAAAAAAAAAAAAAAAAAAAAAAAAAAAAAAAAAAAAAAAAAAAAAAAAAAAAAAAAAAAAAAAAAAAAAAAAAAAAAAAAAAAAAAAAAAAAAAAAAAAAAAAAAAAAAAAAAAAAAAAAAAAAAAAAAAAAAAAAAAAAAAAAAAAAAAAAAAAAAAAAAAAAAAAAAAAAAAAAAAAAAAAAAAAAAAAAAAAAAAAAAAAAAAAAAAAAAAAAAAAAAAAAAAAAAAAAAAAAAAAAAAAAAAAAAAAAAAAAAAAAAAAAAAAAAAAAAAAAAAAAAAAAAAAAAAAAAAAAAAAAAAAAAAAAAAAAAAAAAAAAAAAAAAAAAAAAAAAAAAAAAAAAAAAAAAAAAAAAAAAAAAAAAAAAAAAAAAAAAAAAAAAAAAAAAAAAAAAAAAAAAAAAAAAAAAAAAAAAAAAAAAAAAAAAAAAAAAAAAAAAAAAAAAAAAAAAAAAAAAAAAAAAAAAAAAAAAAAAAAAAAAAAAAAAAAAAAAAAAAAAAAAAAAAAAAAAAAAAAAAAAAAAAAAAAAAAAAAAAAAAAAAAAAAAAAAAAAAAAAAAAAAAAAAAAAAAAAAAAAAAAAAAAAAAAAAAAAAAAAAAAAAAAAAAAAAAAAAAAAAAAAAAAAAAAAAAAAAAAAAAAAAAAAAAAAAAAAAAAAAAAAAAAAAAAAAAAAAAAAAAAAAAAAAAAAAAAAAAAAAAAAAAAAAAAAAAAAAAAAAAAAAAAAAAAAAAAAAAAAAAAAAAAAAAAAAAAAAAAAAAAAAAAAAAAAAAAAAAAAAAAAAAAAAAAAAAAAAAAAAAAAAAAAAAAAAAAAAAAAAAAAAAAAAAAAAAAAAAAAAAAAAAAAAAAAAAAAAAAAAAAAAAAAAAAAAAAAAAAAAAAAAAAAAAAAAAAAAAAAAAAAAAAAAAAAAAAAAAAAAAAAAAAAAAAAAAAAAAAAAAAAAAA=",
          "dtype": "f8",
          "shape": "35, 35"
         },
         "type": "heatmap",
         "x": {
          "bdata": "yAD6ACwBXgGQAcIB9AEmAlgCigK8Au4CIANSA4QDtgPoAxoETAR+BLAE4gQUBUYFeAWqBdwFDgZABnIGpAbWBggHOgdsBw==",
          "dtype": "i2"
         },
         "xaxis": "x2",
         "y": {
          "bdata": "AAAFAAoADwAUABkAHgAjACgALQAyADcAPABBAEYASwBQAFUAWgBfAGQAaQBuAHMAeAB9AIIAhwCMAJEAlgCbAKAApQCqAA==",
          "dtype": "i2"
         },
         "yaxis": "y2",
         "z": {
          "bdata": "AAAAAAAAAAAAAAAAAAAAAAAAAAAAAAAAAAAAAAAAAAAAAAAAAAAAAAAAAAAAAAAAAAAAAAAAAABxgQTFj4Y5QAAAAAAAAAAAAAAAAAAAAAAAAAAAAAAAAAAAAAAAAAAAAAAAAAAAAAAAAAAAAAAAAAAAAAAAAAAAAAAAAAAAAAAAAAAAAAAAAAAAAAAAAAAAAAAAAAAAAAAAAAAAAAAAAAAAAAAAAAAAAAAAAAAAAAAAAAAAAAAAAAAAAAAAAAAAAAAAAAAAAAAAAAAAAAAAAAAAAAAAAAAAAAAAAAAAAAAAAAAAAAAAAAAAAAAAAAAAAAAAAAAAAAAAAAAAAAAAAAAAAAAAAAAAAAAAAAAAAAAAAAAAAAAAAAAAAAAAAAAAAAAAAAAAAAAAAAAAAAAAAAAAAAAAAAAAAAAAAAAAAAAAAAAAAAAAAHGBBMWPhjlAFWHD0+skQ0BxgQTFj4YpQAAAAAAAAAAAAAAAAAAAAAAAAAAAAAAAAAAAAAAAAAAAAAAAAAAAAAAAAAAAAAAAAAAAAAAAAAAAAAAAAAAAAAAAAAAAAAAAAAAAAAAAAAAAAAAAAAAAAAAAAAAAAAAAAAAAAAAAAAAAAAAAAAAAAAAAAAAAAAAAAAAAAAAAAAAAAAAAAAAAAAAAAAAAAAAAAAAAAAAAAAAAAAAAAAAAAAAAAAAAAAAAAAAAAAAAAAAAAAAAAAAAAAAAAAAAAAAAAAAAAAAAAAAAAAAAAAAAAAAAAAAAAAAAAAAAAAAAAAAAAAAAAAAAAAAAAAAAAAAAAAAAAAAAAAAAcYEExY+GKUBxgQTFj4YpQAAAAAAAAAAAAAAAAAAAAAAAAAAAAAAAAAAAAAAAAAAAAAAAAAAAAABxgQTFj4Y5QAAAAAAAAAAAAAAAAAAAAAAAAAAAAAAAAAAAAAAAAAAAAAAAAAAAAAAAAAAAAAAAAAAAAAAAAAAAAAAAAAAAAAAAAAAAAAAAAAAAAAAAAAAAAAAAAAAAAAAAAAAAAAAAAAAAAAAAAAAAAAAAAAAAAAAAAAAAAAAAAAAAAAAAAAAAAAAAAAAAAAAAAAAAAAAAAAAAAAAAAAAAAAAAAAAAAAAAAAAAAAAAAAAAAAAAAAAAAAAAAAAAAAAAAAAAAAAAAAAAAAAAAAAAAAAAAAAAAAAAAAAAAAAAAAAAAAAAAAAAAAAAAAAAAAAAAAAAAAAAAAAAAAAAAAAAAAAAAAAAAAAAAAAAAAAAAAAAAAAAAAAAAAAAAAAAAABxgQTFj4Y5QAAAAAAAAAAAAAAAAAAAAAAAAAAAAAAAAAAAAAAAAAAAAAAAAAAAAAAAAAAAAAAAAAAAAAAAAAAAAAAAAAAAAAAAAAAAAAAAAAAAAAAAAAAAAAAAAAAAAAAAAAAAAAAAAAAAAAAAAAAAAAAAAAAAAAAAAAAAAAAAAAAAAAAAAAAAAAAAAAAAAAAAAAAAAAAAAAAAAAAAAAAAAAAAAAAAAAAAAAAAAAAAAAAAAAAAAAAAAAAAAAAAAAAAAAAAAAAAAAAAAAAAAAAAcYEExY+GKUAAAAAAAAAAAAAAAAAAAAAAOU7RkZwrXkBxgQTFj4YpQHGBBMWPhilAFWHD0+skQ0AAAAAAAAAAAAAAAAAAAAAAAAAAAAAAAAAAAAAAAAAAAAAAAAAAAAAAAAAAAAAAAAAAAAAAAAAAAAAAAAAAAAAAAAAAAAAAAAAAAAAAAAAAAAAAAAAAAAAAAAAAAAAAAAAAAAAAAAAAAAAAAAAAAAAAAAAAAAAAAAAAAAAAAAAAAAAAAAAAAAAAAAAAAAAAAAAAAAAAAAAAAAAAAAAAAAAAAAAAAAAAAAAAAAAAAAAAAAAAAAAAAAAAAAAAAAAAAAAAAAAAAAAAAAAAAAAAAAAAAAAAAAAAAAAAAAAAAAAAAAAAAAAAAAAAcYEExY+GKUBxgQTFj4Y5QHGBBMWPhjlAcYEExY+GOUAAAAAAAAAAAAAAAAAAAAAAAAAAAAAAAAAAAAAAAAAAAAAAAAAAAAAAAAAAAAAAAAAAAAAAAAAAAAAAAAAAAAAA9M02N6Zr9D8AAAAAAAAAAAAAAAAAAAAAAAAAAAAAAAAAAAAAAAAAAAAAAAAAAAAAAAAAAAAAAAAAAAAAAAAAAAAAAAAAAAAAAAAAAAAAAAAAAAAAAAAAAAAAAAAAAAAAAAAAAAAAAAAAAAAAAAAAAAAAAAAAAAAAAAAAAAAAAAAAAAAAAAAAAAAAAAAAAAAAAAAAAAAAAAAAAAAAAAAAAAAAAAAAAAAAFWHD0+skQ0DR3uALEx1kQAq1pnmfV3BAoQG8BZ5Bh0DH5T+k+72EQAAAAAAAAAAAAAAAAAAAAAAAAAAAAAAAAAAAAAAAAAAAAAAAAAAAAAAAAAAAAAAAAAAAAAAAAAAAAAAAAAAAAAAAAAAAAAAAAAAAAAAAAAAAAAAAAAAAAAAAAAAAAAAAAAAAAAAAAAAAAAAAAAAAAAAAAAAAAAAAAAAAAAAAAAAAAAAAAAAAAAAAAAAAAAAAAAAAAAAAAAAAAAAAAAAAAAAAAAAAAAAAAAAAAAAAAAAAAAAAAAAAAAAAAAAAAAAAAAAAAAAAAAAAAAAAAAAAAAAAAAAAAAAAAAAAAAAAAAAAAAAAAAAAAAAAAAAAAAAAAAAAAAAAAAAAcYEExY+GOUDNoUW2M+hPQL7snjzkXnVAzaFFtjPoT0AAAAAAAAAAAAAAAAAAAAAAAAAAAAAAAABxgQTFj4YpQAAAAAAAAAAAAAAAAAAAAAAAAAAAAAAAAAAAAAAAAAAAcYEExY+GGUAAAAAAAAAAAAAAAAAAAAAAAAAAAAAAAAAAAAAAAAAAAAAAAAAAAAAAAAAAAAAAAAAAAAAAAAAAAAAAAAAAAAAAAAAAAAAAAAAAAAAAAAAAAAAAAAAAAAAAAAAAAAAAAAAAAAAAAAAAAAAAAAAAAAAAAAAAAAAAAAAAAAAAAAAAAAAAAAAAAAAAAAAAAAAAAABxgQTFj4YpQHGBBMWPhjlAzaFFtjPoT0DkriXkhVe7QF8yVTD6p2tAJzqS6/Ki20AAvAUSiPiAQJGpgpG9atlAcYEExY+GKUBxgQTFj4YpQAAAAAAAAAAAcYEExY+GOUAAAAAAAAAAAHGBBMWPhilA0d7gCxMddEAAAAAAAAAAAAAAAAAAAAAAAAAAAAAAAAAAAAAAAAAAAAAAAAAAAAAAAAAAAAAAAAAAAAAAAAAAAAAAAAAAAAAAAAAAAAAAAAAAAAAAAAAAAAAAAAAAAAAAAAAAAAAAAAAAAAAAAAAAAAAAAAAAAAAAAAAAAAAAAAAAAAAAAAAAAAAAAAAAAAAAAAAAAAAAAAAAAAAAAAAAAAAAAAAAAAAAAAAAAAAAAAAAAAAAAAAAAAAAAAAAAAAAAAAAAAAAAAAVYcPT6yRDQDlO0ZGcK25AXzJVMPqna0AKtaZ5n1eAQNHe4AsTHYRAFWHD0+skQ0BfMlUw+qdrQHGBBMWPhjlA0d7gCxMdZECr+lxttaBmQNHe4AsTHWRAcYEExY+GKUAAAAAAAAAAAAAAAAAAAAAA7jTSUnmhHkD0zTY3pmv0PwAAAAAAAAAAAAAAAAAAAAAAAAAAAAAAAAAAAAAAAAAAAAAAAAAAAAAAAAAAAAAAAAAAAAAAAAAAAAAAAAAAAAD0zTY3pmv0PwAAAAAAAAAAAAAAAAAAAAAAAAAAAAAAAAAAAAAAAAAAAAAAAAAAAAAAAAAAAAAAADlO0ZGcK15A0d7gCxMddEBMQBNhy+l8QCshH3To/bxAhRbZzlckqUAONjw9ouDeQNsCCaoVbNxAAAmKH+6yzUCFFtnOVySJQM2hRbYz6E9AhRbZzlckaUAAAAAAAAAAADlO0ZGcK25AFWHD0+skQ0DR3uALEx10QAAAAAAAAAAA9M02N6Zr9D8AAAAAAAAAAPTNNjemawRA9M02N6ZrJEAAAAAAAAAAAAAAAAAAAAAAAAAAAAAAAAAAAAAAAAAAAM2hRbYz6D9A9M02N6Zr9D8AAAAAAAAAAPTNNjemawRAAAAAAAAAAAAAAAAAAAAAAPTNNjema/Q/AAAAAAAAAAAAAAAAAAAAAAAAAAAAAAAAAAAAAAAAAAAAAAAAAAAAAAAAAAAAAAAAAAAAAAAAAAAAAAAAAAAAAAAAAAAAAAAAcYEExY+GOUAAAAAAAAAAAAAAAAAAAAAAAAAAAAAAAAAAAAAAAAAAAAAAAAAAAAAAFWHD0+skQ0AVYcPT6yRDQAAAAAAAAAAAAAAAAAAAAADNoUW2M+hPQAAAAAAAAAAAAAAAAAAAAAAAAAAAAAAAAAAAAAAAAAAAAAAAAAAAAAAAAAAAAAAAAAAAAAAAAAAAAAAAAAAAAAAAAAAAAAAAAAAAAAAAAAAAAAAAAAAAAAAAAAAAAAAAAAAAAAAAAAAAAAAAAAAAAAAAAAAAAAAAAAAAAAAAAAAAAAAAAAAAAAAAAAAAAAAAAAAAAAAAAAAAAAAAAAAAAAAAAAAAAAAAAHGBBMWPhilAAAAAAAAAAABxgQTFj4YpQHGBBMWPhklAq/pcbbWgZkCr+lxttaBmQNHe4AsTHWRAAAAAAAAAAAAAAAAAAAAAAHGBBMWPhilAAAAAAAAAAAAAAAAAAAAAAAAAAAAAAAAAAAAAAAAAAAAAAAAAAAAAANM6qppgskVAAAAAAAAAAAAAAAAAAAAAAAAAAAAAAAAAAAAAAAAAAAAAAAAAAAAAAAAAAAAAAAAAAAAAAAAAAAAAAAAAAAAAAAAAAAAAAAAAAAAAAAAAAAAAAAAAAAAAAAAAAAAAAAAAAAAAAAAAAAAAAAAAAAAAAAAAAAAAAAAAAAAAAAAAAAAAAAAAAAAAAAAAAAAAAAAAAAAAAAAAAABxgQTFj4YpQHGBBMWPhjlAcYEExY+GSUChAbwFnkGHQPfCZKpwmXFAtNEA3hB8rkAAAAAAAAAAAHGBBMWPhilAAAAAAAAAAABxgQTFj4YpQHGBBMWPhilAAAAAAAAAAAA5TtGRnCtuQHGBBMWPhjlAAAAAAAAAAAAAAAAAAAAAAAAAAAAAAAAAAAAAAAAAAAAAAAAAAAAAAAAAAAAAAAAA9M02N6ZrBEAAAAAAAAAAAAAAAAAAAAAA9M02N6Zr9D8AAAAAAAAAAAAAAAAAAAAAAAAAAAAAAAAAAAAAAAAAAAAAAAAAAAAAAAAAAAAAAAAAAAAAAAAAAAAAAAAAAAAAAAAAAAAAAAAAAAAAAAAAAAAAAAAAAAAAAAAAAAAAAAAAAAAAAAAAAO3Jw0JZOoJAFWHD0+skQ0DNoUW2M+hPQFEFoxJGerpAcYEExY+GOUAAAAAAAAAAAAAAAAAAAAAAAAAAAAAAAAAAAAAAAAAAAHGBBMWPhilAAAAAAAAAAAAAAAAAAAAAAAAAAAAAAAAAAAAAAAAAAAAAAAAAAAAAAAAAAAAAAAAAAAAAAAAAAAAAAAAAAAAAAAAAAAAAAAAAAAAAAAAAAAAAAAAAAAAAAAAAAAAAAAAAAAAAAAAAAAAAAAAAAAAAAAAAAAAAAAAAAAAAAAAAAAAAAAAAAAAAAAAAAAAAAAAAAAAAAAAAAAAAAAAAAAAAAAAAAAAAAAAAAAAAAAAAAAAAAAAAAAAAAAAAAAAAAAAAAAAAAAAAAAAAAAAAAAAAAAAAAAAAAAAAAAAAAAAAAAAAAAAAAAAAAAAAAAAAAAAAAAAAAAAAAAAAAAAAAAAAAAAAAAAAAAAAAAAAAAAAAAAAAAAAAAAAAHGBBMWPhilAAAAAAAAAAAAAAAAAAAAAAAAAAAAAAAAAAAAAAAAAAAAAAAAAAAAAAAAAAAAAAAAAAAAAAAAAAAAAAAAAAAAAAAAAAAAAAAAAAAAAAAAAAAAAAAAAAAAAAAAAAAAAAAAAAAAAAAAAAAAAAAAAAAAAAAAAAAAAAAAAAAAAAAAAAAAAAAAAAAAAAAAAAAAAAAAAAAAAAAAAAAAAAAAAAAAAAAAAAAAAAAAAAAAAAAAAAAAAAAAAAAAAAAAAAAAAAAAAcYEExY+GKUAAAAAAAAAAAAAAAAAAAAAAOU7RkZwrXkBxgQTFj4YpQAAAAAAAAAAAcYEExY+GKUAAAAAAAAAAAAAAAAAAAAAAAAAAAAAAAABxgQTFj4ZJQHIkl/8oZnpA9M02N6ZrBEAAAAAAAAAAAAAAAAAAAAAAAAAAAAAAAAAAAAAAAAAAAAAAAAAAAAAA9M02N6Zr9D8AAAAAAAAAAO400lJ5oQ5AMFvriwQULEAwW+uLBBRMQAAAAAAAAAAAAAAAAAAAAAAAAAAAAAAAAAAAAAAAAAAAAAAAAAAAAAAAAAAAAAAAAAAAAAAAAAAAAAAAAAAAAAAAAAAAAAAAAAAAAAAAAAAAAAAAAAAAAABxgQTFj4YpQHGBBMWPhklAFWHD0+skQ0AAAAAAAAAAAAAAAAAAAAAAOU7RkZwrXkBxgQTFj4ZJQHGBBMWPhilAoQG8BZ5Bl0CFFtnOVyRpQAq1pnmfV3BAzaFFtjPoT0BxgQTFj4YpQPTNNjema/Q/gTRj0eSaYkDuNNJSeaEuQJLx7zPiDH9Aws4UOlfoi0AAAAAAAAAAAAAAAAAAAAAAAAAAAAAAAAAAAAAAAAAAAAAAAAAAAAAAAAAAAAAAAAAAAAAAAAAAAAAAAAAAAAAAAAAAAAAAAAAAAAAAAAAAAAAAAAAAAAAAAAAAAAAAAAAAAAAAAAAAAAAAAAAAAAAAAAAAAAAAAAAAAAAAAAAAAAAAAAAAAAAAAAAAAAAAAAAAAAAAAAAAAHGBBMWPhilAAAAAAAAAAAAAAAAAAAAAAAAAAAAAAAAAAAAAAAAAAABxgQTFj4YpQAAAAAAAAAAAAAAAAAAAAAAAAAAAAAAAAAAAAAAAAAAAcYEExY+GKUAAAAAAAAAAAPTNNjema/Q/AAAAAAAAAAAAAAAAAAAAAPTNNjema/Q/AAAAAAAAAAAAAAAAAAAAAAAAAAAAAAAAAAAAAAAAAAAAAAAAAAAAAAAAAAAAAAAAAAAAAAAAAAAAAAAAAAAAAAAAAAAAAAAAAAAAAAAAAAAAAAAAAAAAAAAAAAAAAAAAAAAAAAAAAAAAAAAAAAAAABVhw9PrJENAvuyePORedUDtycNCWTqSQAC8BRKI+JBA6JWyjLxrsEB04JxRM9HCQIMNT2/n/sNA3wuTKcdKxUBDaW/wbw6lQAC8BRKI+KBAhRbZzlckiUA5TtGRnCuOQHIkl/8oZopA98JkqnCZYUBxgQTFj4YpQDlO0ZGcK15A9M02N6ZrBED0zTY3pmskQAAAAAAAAAAAAAAAAAAAAAAAAAAAAAAAAAAAAAAAAAAAAAAAAAAAAAAAAAAAAAAAAAAAAAAAAAAAAAAAAAAAAAAAAAAAAAAAAAAAAAAAAAAAAAAAAAAAAAAAAAAAAAAAAAAAAAAAAAAAAAAAAAAAAAAAAAAAAAAAAAAAAAAAAAAAAAAAAAAAAAAAAAAAAAAAAAAAAAAAAAAAAAAAAAAAAAAAAAAAAAAAAAAAAAAAAAAAAAAAAAAAAAAAAAAAAAAAAAAAAAAAAAAAAAAAAAAAAAAAAAAAAAAAAAAAAAAAAAAAAAAAAAAAAAAAAAAAAAAAAAAAAAAAAAAAAAAAAAAAAAAAAAAAAAAAAAAAAAAAAAAAAAAAAAAAAAAAAAAAAAAAAPTNNjema/Q/cYEExY+GGUAAAAAAAAAAAAAAAAAAAAAAAAAAAAAAAAAAAAAAAAAAAPTNNjema/Q/AAAAAAAAAAAAAAAAAAAAAAAAAAAAAAAAAAAAAAAAAAAAAAAAAAAAAAAAAAAAAAAAAAAAAAAAAAAAAAAAAAAAAAAAAAAAAAAAAAAAAAAAAAAAAAAAAAAAAAAAAAAAAAAAAAAAAAAAAAAAAAAAAAAAAAAAAAAAAAAAAAAAAAAAAAAAAAAAAAAAAAAAAAAAAAAAAAAAAAAAAAAAAAAAAAAAAHGBBMWPhilAcYEExY+GKUAAAAAAAAAAAAAAAAAAAAAAAAAAAAAAAAAAAAAAAAAAAAAAAAAAAAAAAAAAAAAAAAAAAAAAAAAAAAAAAAAAAAAAAAAAAAAAAAAAAAAAAAAAAAAAAAAAAAAAAAAAAAAAAAAAAAAAAAAAAAAAAAAAAAAAAAAAAAAAAAAAAAAAAAAAAAAAAAAAAAAAAAAAAAAAAAAAAAAAAAAAAAAAAAAAAAAAAAAAAAAAAAAAAAAAAAAAAAAAAAAAAAAAAAAAAAAAAAAAAAAAAAAAAAAAAAAAAAAAAAAAAAAAAAAAAAAAAAAAAAAAAAAAAAAAAAAAAAAAAAAAAAAAAAAAAAAAAAAAAAAAAAAAAAAAAAAAAAAAAAAAAAAAAAAAAAAAAAAAAAAAAAAAAAAAAAAAAAAAAAAAAAAAAAAAAAAAAAAAAAAAAAAAAAAAAAAAAAAAAAAAAAAAAAAAAAAAAAAAAAAAAAAAAAAAAAAAAAAAAAAAAAAAAAAAAAAAAAAAAAAAAAAAAAAAAAAAAAAAAAAAAAAAAAAAAAAAAAAAAAAAAAAAAAAAAAAAAAAAAAAAAAAAAAAAAAAAAAAAAAAAAAAAAAAAAAAAAAAAAAAAAAAAAAAAAAAAAAAAAAAAAAAAAAAAAAAAAAAAAAAAAAAAAAAAAAAAAAAAAAAAAAAAAAAAAAAAAAAAAAAAAAAAAAAAAAAAAAAAAAAAAAAAAAAAAAAAAAAAAAAAAAAAAAAAAAAAAAAAAAAAAAAAAAAAAAAAAAAAAAAAAAAAAAAAAAAAAAAAAAAAAAAAAAAAAAAAAAAAAAAAAAAAAAAAAAAAAAAAAAAAAAAAAAAAAAAAAAAAAAAAAAAAAAAAAAAAAAAAAAAAAAAAAAAAAAAAAAAAAAAAAAAAAAAAAAAAAAAAAAAAAAAAAAAAAAAAAAAAAAAAAAAAAAAAAAAAAAAAAAAAAAAAAAAAAAAAAAAAAAAAAAAAAAAAAAAAAAAAAAAAAAAAAAAAAAAAAAAAAAAAAAAAAAAAAAAAAAAAAAAAAAAAAAAAAAAAABVhw9PrJENAcYEExY+GKUBxgQTFj4YpQAAAAAAAAAAAAAAAAAAAAAAAAAAAAAAAAAAAAAAAAAAAAAAAAAAAAAAAAAAAAAAAAAAAAAAAAAAAAAAAAAAAAAAAAAAAAAAAAAAAAAAAAAAAAAAAAAAAAAAAAAAAAAAAAAAAAAAAAAAAAAAAAAAAAAAAAAAAAAAAAAAAAAAAAAAAAAAAAAAAAAAAAAAAAAAAAAAAAAAAAAAAAAAAAAAAAAAAAAAAAAAAAAAAAAAAAAAAAAAAAAAAAAAAAAAAAAAAAAAAAAAAAAAAAAAAAAAAAAAAAAAAAAAAAAAAAAAAAAAAAAAAAAAAAAAAAAAAAAAAAAAAAAAAAAAAAAAAAAAAAAAAAAAAAAAAAAAAAAAAAAAAAAAAAAAAAAAAAAAAAAAAAAAAAAAAAAAAAAAAAAAAAAAAAAAAAAAAAAAAAAAAAAAAAAAAAAAAAAAAAAAAAAAAAAAAAAAAAAAAAAAAAAAAAAAAAAAAAAAAAAAAAAAAAAAAAAAAAAAAAAAAAAAAAAAAAAAAAAAAAAAAAAAAAAAAAAAAAAAAAAAAAAAAAAAAAAAAAAAAAAAAAAAAAAAAAAAAAAAAAAAAAAAAAAAAAAAAAAAAAAAAAAAAAAAAAAAAAAAAAAAAAAAAAAAAAAAAAAAAAAAAAAAAAAAAAAAAAAAAAAAAAAAAAAAAAAAAAAAAAAAAAAAAAAAAAAAAAAAAAAAAAAAAAAAAAAAAAAAAAAAAAAAAAAAAAAAAAAAAAAAAAAAAAAAAAAAAAAAAAAAAAAAAAAAAAAAAAAAAAAAAAAAAAAAAAAAAAAAAAAAAAAAAAAAAAAAAAAAAAAAAAAAAAAAAAAAAAAAAAAAAAAAAAAAAAAAAAAAAAAAAAAAAAAAAAAAAAAAAAAAAAAAAAAAAAAAAAAAAAAAAAAAAAAAAAAAAAAAAAAAAAAAAAAAAAAAAAAAAAAAAAAAAAAAAAAAAAAAAAAAAAAAAAAAAAAAAAAAAAAAAAAAAAAAAAAAAAAAAAAAAAAAAAAAAAAAAAAAAAAAAAAAAAAAAAAAAAAAAAAAAAAAAAAAAAAAAAAAAAAAAAAAAAAAAAAAAAAAAAAAAAAAAAAAAAAAAAAAAcYEExY+GKUAAAAAAAAAAAAAAAAAAAAAAAAAAAAAAAAAAAAAAAAAAAAAAAAAAAAAAAAAAAAAAAAAAAAAAAAAAAAAAAAAAAAAAAAAAAAAAAAAAAAAAAAAAAAAAAAAAAAAAAAAAAAAAAAAAAAAAAAAAAAAAAAAAAAAAAAAAAAAAAAAAAAAAAAAAAAAAAAAAAAAAAAAAAAAAAAAAAAAAAAAAAAAAAAAAAAAAAAAAAAAAAAAAAAAAAAAAAAAAAAAAAAAAAAAAAAAAAAAAAAAAAAAAAAAAAAAAAAAAAAAAAAAAAAAAAAAAAAAAAAAAAAAAAAAAAAAAAAAAAAAAAAAAAAAAAAAAAAAAAAAAAAAAAAAAAAAAAAAAAAAAAAAAAAAAAAAAAAAAAAAAAAAAAAAAAAAAAAAAAAAAAAAAAAAAAAAAAAAAAAAAAAAAAAAAAAAAAAAAAAAAAAAAAAAAAAAAAAAAAAAAAAAAAAAAAAAAAAAAAAAAAAAAAAAAAAAAAAAAAAAAAAAAAAAAAAAAAAAAAAAAAAAAAAAAAAAAAAAAAAAAAAAAAAAAAAAAAAAAAAAAAAAAAAAAAAAAAAAAAAAAAAAAAAAAAAAAAAAAAAAAAAAAAAAAAAAAAAAAAAAAAAAAAAAAAAAAAAAAAAAAAAAAAAAAAAAAAAAAAAAAAAAAAAAAAAAAAAAAAAAAAAAAAAAAAAAAAAAAAAAAAAAAAAAAAAAAAAAAAAAAAAAAAAAAAAAAAAAAAAAAAAAAAAAAAAAAAAAAAAAAAAAAAAAAAAAAAAAAAAAAAAAAAAAAAAAAAAAAAAAAAAAAAAAAAAAAAAAAAAAAAAAAAAAAAAAAAAAAAAAAAAAAAAAAAAAAAAAAAAAAAAAAAAAAAAAAAAAAAAAAAAAAAAAAAAAAAAAAAAAAAAAAAAAAAAAAAAAAAAAAAAAAAAAAAAAAAAAAAAAAAAAAAAAAAAAAAAAAAAAAAAAAAAAAAAAAAAAAAAAAAAAAAAAAAAAAAAAAAAAAAAAAAAAAAAAAAAAAAAAAAAAAAAAAAAAAAAAAAAAAAAAAAAAAAAAAAAAAAAAAAAAAAAAAAAAAAAAAAAAAAAAAAAAAAAAAAAAAAAAAAAAAAAAAAAAAAAAAAAAAAAAAAAAAAAAAAAAAAAAAAAAAAAAAAAAAAAAAAAAAAAAAAAAAAAAAAAAAAAAAAAAAAAAAAAAAAAAAAAAAAAAAAAAAAAAAAAAAAAAAAAAAAAAAAAAAAAAAAAAAAAAAAAAAAAAAAAAAAAAAAAAAAAAAAAAAAAAAAAAAAAAAAAAAAAAAAAAAAAAAAAAAAAAAAAAAAAAAAAAAAAAAAAAAAAAAAAAAAAAAAAAAAAAAAAAAAAAAAAAAAAAAAAAAAAAAAAAAAAAAAAAAAAAAAAAAAAAAAAAAAAAAAAAAAAAAAAAAAAAAAAAAAAAAAAAAAAAAAAAAAAAAAAAAAAAAAAAAAAAAAAAAAAAAAAAAAAAAAAAAAAAAAAAAAAAAAAAAAAAAAAAAAAAAAAAAAAAAAAAAAAAAAAAAAAAAAAAAAAAAAAAAAAAAAAAAAAAAAAAAAAAAAAAAAAAAAAAAAAAAAAAAAAAAAAAAAAAAAAAAAAAAAAAAAAAAAAAAAAAAAAAAAAAAAAAAAAAAAAAAAAAAAAAAAAAAAAAAAAAAAAAAAAAAAAAAAAAAAAAAAAAAAAAAAAAAAAAAAAAAAAAAAAAAAAAAAAAAAAAAAAAAAAAAAAAAAAAAAAAAAAAAAAAAAAAAAAAAAAAAAAAAAAAAAAAAAAAAAAAAAAAAAAAAAAAAAAAAAAAAAAAAAAAAAAAAAAAAAAAAAAAAAAAAAAAAAAAAAAAAAAAAAAAAAAAAAAAAAAAAAAAAAAAAAAAAAAAAAAAAAAAAAAAAAAAAAAAAAAAAAAAAAAAAAAAAAAAAAAAAAAAAAAAAAAAAAAAAAAAAAAAAAAAAAAAAAAAAAAAAAAAAAAAAAAAAAAAAAAAAAAAAAAAAAAAAAAAAAAAAAAAAAAAAAAAAAAAAAAAAAAAAAAAAAAAAAAAAAAAAAAAAAAAAAAAAAAAAAAAAAAAAAAAAAAAAAAAAAAAAAAAAAAAAAAAAAAAAAAAAAAAAAAAAAAAAAAAAAAAAAAAAAAAAAAAAAAAAAAAAAAAAAAAAAAAAAAAAAAAAAAAAAAAAAAAAAAAAAAAAAAAAAAAAAAAAAAAAAAAAAAAAAAAAAAAAAAAAAAAAAAAAAAAAAAAAAAAAAAAAAAAAAAAAAAAAAAAAAAAAAAAAAAAAAAAAAAAAAAAAAAAAAAAAAAAAAAAAAAAAAAAAAAAAAAAAAAAAAAAAAAAAAAAAAAAAAAAAAAAAAAAAAAAAAAAAAAAAAAAAAAAAAAAAAAAAAAAAAAAAAAAAAAAAAAAAAAAAAAAAAAAAAAAAAAAAAAAAAAAAAAAAAAAAAAAAAAAAAAAAAAAAAAAAAAAAAAAAAAAAAAAAAAAAAAAAAAAAAAAAAAAAAAAAAAAAAAAAAAAAAAAAAAAAAAAAAAAAAAAAAAAAAAAAAAAAAAAAAAAAAAAAAAAAAAAAAAAAAAAAAAAAAAAAAAAAAAAAAAAAAAAAAAAAAAAAAAAAAAAAAAAAAAAAAAAAAAAAAAAAAAAAAAAAAAAAAAAAAAAAAAAAAAAAAAAAAAAAAAAAAAAAAAAAAAAAAAAAAAAAAAAAAAAAAAAAAAAAAAAAAAAAAAAAAAAAAAAAAAAAAAAAAAAAAAAAAAAAAAAAAAAAAAAAAAAAAAAAAAAAAAAAAAAAAAAAAAAAAAAAAAAAAAAAAAAAAAAAAAAAAAAAAAAAAAAAAAAAAAAAAAAAAAAAAAAAAAAAAAAAAAAAAAAAAAAAAAAAAAAAAAAAAAAAAAAAAAAAAAAAAAAAAAAAAAAAAAAAAAAAAAAAAAAAAAA=",
          "dtype": "f8",
          "shape": "35, 35"
         }
        },
        {
         "line": {
          "color": "blue",
          "width": 3
         },
         "marker": {
          "size": 8
         },
         "mode": "lines+markers",
         "name": "Philadelphia",
         "type": "scatter",
         "x": {
          "bdata": "AAECAwQFBgcICQo=",
          "dtype": "i1"
         },
         "xaxis": "x3",
         "y": {
          "bdata": "AAAAAAAAWUABAAAAAABcQF2PwvUoXF9AAm+BBMWPYUAhSUkPQ6tjQBuFj05+B2ZANBowizusaED+jX01LqJrQMqUtQgV825AaAEeD+1UcUC8XRdtW2lzQA==",
          "dtype": "f8"
         },
         "yaxis": "y3"
        },
        {
         "line": {
          "color": "green",
          "width": 3
         },
         "marker": {
          "size": 8
         },
         "mode": "lines+markers",
         "name": "Rio de Janeiro",
         "type": "scatter",
         "x": {
          "bdata": "AAECAwQFBgcICQo=",
          "dtype": "i1"
         },
         "xaxis": "x3",
         "y": {
          "bdata": "AAAAAAAAWUABAAAAAIBbQAEAAAAAQF5ANTMzMzOjYECH61G4Hk1iQBSDwMqhIWRA/lxtxf4kZkAYs14M5VtoQALFAfR7y2pA6Yubv255bUDAWWLp/DVwQA==",
          "dtype": "f8"
         },
         "yaxis": "y3"
        },
        {
         "marker": {
          "color": "darkred"
         },
         "text": [
          "1889078.4",
          "1594762.5",
          "1270729.3",
          "104858.8",
          "33514.7"
         ],
         "textposition": "outside",
         "type": "bar",
         "x": [
          "450km",
          "500km",
          "550km",
          "350km",
          "400km"
         ],
         "xaxis": "x4",
         "y": [
          1889078.382372494,
          1594762.472946369,
          1270729.3110530677,
          104858.75674009751,
          33514.68060276426
         ],
         "yaxis": "y4"
        }
       ],
       "layout": {
        "annotations": [
         {
          "font": {
           "size": 16
          },
          "showarrow": false,
          "text": "Current Debris Density Heat Map",
          "x": 0.225,
          "xanchor": "center",
          "xref": "paper",
          "y": 1,
          "yanchor": "bottom",
          "yref": "paper"
         },
         {
          "font": {
           "size": 16
          },
          "showarrow": false,
          "text": "5-Year Predicted Density (Kessler Effect)",
          "x": 0.775,
          "xanchor": "center",
          "xref": "paper",
          "y": 1,
          "yanchor": "bottom",
          "yref": "paper"
         },
         {
          "font": {
           "size": 16
          },
          "showarrow": false,
          "text": "City Risk Score Projection",
          "x": 0.225,
          "xanchor": "center",
          "xref": "paper",
          "y": 0.375,
          "yanchor": "bottom",
          "yref": "paper"
         },
         {
          "font": {
           "size": 16
          },
          "showarrow": false,
          "text": "High-Risk Orbital Zones",
          "x": 0.775,
          "xanchor": "center",
          "xref": "paper",
          "y": 0.375,
          "yanchor": "bottom",
          "yref": "paper"
         }
        ],
        "font": {
         "color": "black",
         "size": 12
        },
        "height": 800,
        "paper_bgcolor": "white",
        "plot_bgcolor": "white",
        "showlegend": true,
        "template": {
         "data": {
          "bar": [
           {
            "error_x": {
             "color": "#2a3f5f"
            },
            "error_y": {
             "color": "#2a3f5f"
            },
            "marker": {
             "line": {
              "color": "#E5ECF6",
              "width": 0.5
             },
             "pattern": {
              "fillmode": "overlay",
              "size": 10,
              "solidity": 0.2
             }
            },
            "type": "bar"
           }
          ],
          "barpolar": [
           {
            "marker": {
             "line": {
              "color": "#E5ECF6",
              "width": 0.5
             },
             "pattern": {
              "fillmode": "overlay",
              "size": 10,
              "solidity": 0.2
             }
            },
            "type": "barpolar"
           }
          ],
          "carpet": [
           {
            "aaxis": {
             "endlinecolor": "#2a3f5f",
             "gridcolor": "white",
             "linecolor": "white",
             "minorgridcolor": "white",
             "startlinecolor": "#2a3f5f"
            },
            "baxis": {
             "endlinecolor": "#2a3f5f",
             "gridcolor": "white",
             "linecolor": "white",
             "minorgridcolor": "white",
             "startlinecolor": "#2a3f5f"
            },
            "type": "carpet"
           }
          ],
          "choropleth": [
           {
            "colorbar": {
             "outlinewidth": 0,
             "ticks": ""
            },
            "type": "choropleth"
           }
          ],
          "contour": [
           {
            "colorbar": {
             "outlinewidth": 0,
             "ticks": ""
            },
            "colorscale": [
             [
              0,
              "#0d0887"
             ],
             [
              0.1111111111111111,
              "#46039f"
             ],
             [
              0.2222222222222222,
              "#7201a8"
             ],
             [
              0.3333333333333333,
              "#9c179e"
             ],
             [
              0.4444444444444444,
              "#bd3786"
             ],
             [
              0.5555555555555556,
              "#d8576b"
             ],
             [
              0.6666666666666666,
              "#ed7953"
             ],
             [
              0.7777777777777778,
              "#fb9f3a"
             ],
             [
              0.8888888888888888,
              "#fdca26"
             ],
             [
              1,
              "#f0f921"
             ]
            ],
            "type": "contour"
           }
          ],
          "contourcarpet": [
           {
            "colorbar": {
             "outlinewidth": 0,
             "ticks": ""
            },
            "type": "contourcarpet"
           }
          ],
          "heatmap": [
           {
            "colorbar": {
             "outlinewidth": 0,
             "ticks": ""
            },
            "colorscale": [
             [
              0,
              "#0d0887"
             ],
             [
              0.1111111111111111,
              "#46039f"
             ],
             [
              0.2222222222222222,
              "#7201a8"
             ],
             [
              0.3333333333333333,
              "#9c179e"
             ],
             [
              0.4444444444444444,
              "#bd3786"
             ],
             [
              0.5555555555555556,
              "#d8576b"
             ],
             [
              0.6666666666666666,
              "#ed7953"
             ],
             [
              0.7777777777777778,
              "#fb9f3a"
             ],
             [
              0.8888888888888888,
              "#fdca26"
             ],
             [
              1,
              "#f0f921"
             ]
            ],
            "type": "heatmap"
           }
          ],
          "histogram": [
           {
            "marker": {
             "pattern": {
              "fillmode": "overlay",
              "size": 10,
              "solidity": 0.2
             }
            },
            "type": "histogram"
           }
          ],
          "histogram2d": [
           {
            "colorbar": {
             "outlinewidth": 0,
             "ticks": ""
            },
            "colorscale": [
             [
              0,
              "#0d0887"
             ],
             [
              0.1111111111111111,
              "#46039f"
             ],
             [
              0.2222222222222222,
              "#7201a8"
             ],
             [
              0.3333333333333333,
              "#9c179e"
             ],
             [
              0.4444444444444444,
              "#bd3786"
             ],
             [
              0.5555555555555556,
              "#d8576b"
             ],
             [
              0.6666666666666666,
              "#ed7953"
             ],
             [
              0.7777777777777778,
              "#fb9f3a"
             ],
             [
              0.8888888888888888,
              "#fdca26"
             ],
             [
              1,
              "#f0f921"
             ]
            ],
            "type": "histogram2d"
           }
          ],
          "histogram2dcontour": [
           {
            "colorbar": {
             "outlinewidth": 0,
             "ticks": ""
            },
            "colorscale": [
             [
              0,
              "#0d0887"
             ],
             [
              0.1111111111111111,
              "#46039f"
             ],
             [
              0.2222222222222222,
              "#7201a8"
             ],
             [
              0.3333333333333333,
              "#9c179e"
             ],
             [
              0.4444444444444444,
              "#bd3786"
             ],
             [
              0.5555555555555556,
              "#d8576b"
             ],
             [
              0.6666666666666666,
              "#ed7953"
             ],
             [
              0.7777777777777778,
              "#fb9f3a"
             ],
             [
              0.8888888888888888,
              "#fdca26"
             ],
             [
              1,
              "#f0f921"
             ]
            ],
            "type": "histogram2dcontour"
           }
          ],
          "mesh3d": [
           {
            "colorbar": {
             "outlinewidth": 0,
             "ticks": ""
            },
            "type": "mesh3d"
           }
          ],
          "parcoords": [
           {
            "line": {
             "colorbar": {
              "outlinewidth": 0,
              "ticks": ""
             }
            },
            "type": "parcoords"
           }
          ],
          "pie": [
           {
            "automargin": true,
            "type": "pie"
           }
          ],
          "scatter": [
           {
            "fillpattern": {
             "fillmode": "overlay",
             "size": 10,
             "solidity": 0.2
            },
            "type": "scatter"
           }
          ],
          "scatter3d": [
           {
            "line": {
             "colorbar": {
              "outlinewidth": 0,
              "ticks": ""
             }
            },
            "marker": {
             "colorbar": {
              "outlinewidth": 0,
              "ticks": ""
             }
            },
            "type": "scatter3d"
           }
          ],
          "scattercarpet": [
           {
            "marker": {
             "colorbar": {
              "outlinewidth": 0,
              "ticks": ""
             }
            },
            "type": "scattercarpet"
           }
          ],
          "scattergeo": [
           {
            "marker": {
             "colorbar": {
              "outlinewidth": 0,
              "ticks": ""
             }
            },
            "type": "scattergeo"
           }
          ],
          "scattergl": [
           {
            "marker": {
             "colorbar": {
              "outlinewidth": 0,
              "ticks": ""
             }
            },
            "type": "scattergl"
           }
          ],
          "scattermap": [
           {
            "marker": {
             "colorbar": {
              "outlinewidth": 0,
              "ticks": ""
             }
            },
            "type": "scattermap"
           }
          ],
          "scattermapbox": [
           {
            "marker": {
             "colorbar": {
              "outlinewidth": 0,
              "ticks": ""
             }
            },
            "type": "scattermapbox"
           }
          ],
          "scatterpolar": [
           {
            "marker": {
             "colorbar": {
              "outlinewidth": 0,
              "ticks": ""
             }
            },
            "type": "scatterpolar"
           }
          ],
          "scatterpolargl": [
           {
            "marker": {
             "colorbar": {
              "outlinewidth": 0,
              "ticks": ""
             }
            },
            "type": "scatterpolargl"
           }
          ],
          "scatterternary": [
           {
            "marker": {
             "colorbar": {
              "outlinewidth": 0,
              "ticks": ""
             }
            },
            "type": "scatterternary"
           }
          ],
          "surface": [
           {
            "colorbar": {
             "outlinewidth": 0,
             "ticks": ""
            },
            "colorscale": [
             [
              0,
              "#0d0887"
             ],
             [
              0.1111111111111111,
              "#46039f"
             ],
             [
              0.2222222222222222,
              "#7201a8"
             ],
             [
              0.3333333333333333,
              "#9c179e"
             ],
             [
              0.4444444444444444,
              "#bd3786"
             ],
             [
              0.5555555555555556,
              "#d8576b"
             ],
             [
              0.6666666666666666,
              "#ed7953"
             ],
             [
              0.7777777777777778,
              "#fb9f3a"
             ],
             [
              0.8888888888888888,
              "#fdca26"
             ],
             [
              1,
              "#f0f921"
             ]
            ],
            "type": "surface"
           }
          ],
          "table": [
           {
            "cells": {
             "fill": {
              "color": "#EBF0F8"
             },
             "line": {
              "color": "white"
             }
            },
            "header": {
             "fill": {
              "color": "#C8D4E3"
             },
             "line": {
              "color": "white"
             }
            },
            "type": "table"
           }
          ]
         },
         "layout": {
          "annotationdefaults": {
           "arrowcolor": "#2a3f5f",
           "arrowhead": 0,
           "arrowwidth": 1
          },
          "autotypenumbers": "strict",
          "coloraxis": {
           "colorbar": {
            "outlinewidth": 0,
            "ticks": ""
           }
          },
          "colorscale": {
           "diverging": [
            [
             0,
             "#8e0152"
            ],
            [
             0.1,
             "#c51b7d"
            ],
            [
             0.2,
             "#de77ae"
            ],
            [
             0.3,
             "#f1b6da"
            ],
            [
             0.4,
             "#fde0ef"
            ],
            [
             0.5,
             "#f7f7f7"
            ],
            [
             0.6,
             "#e6f5d0"
            ],
            [
             0.7,
             "#b8e186"
            ],
            [
             0.8,
             "#7fbc41"
            ],
            [
             0.9,
             "#4d9221"
            ],
            [
             1,
             "#276419"
            ]
           ],
           "sequential": [
            [
             0,
             "#0d0887"
            ],
            [
             0.1111111111111111,
             "#46039f"
            ],
            [
             0.2222222222222222,
             "#7201a8"
            ],
            [
             0.3333333333333333,
             "#9c179e"
            ],
            [
             0.4444444444444444,
             "#bd3786"
            ],
            [
             0.5555555555555556,
             "#d8576b"
            ],
            [
             0.6666666666666666,
             "#ed7953"
            ],
            [
             0.7777777777777778,
             "#fb9f3a"
            ],
            [
             0.8888888888888888,
             "#fdca26"
            ],
            [
             1,
             "#f0f921"
            ]
           ],
           "sequentialminus": [
            [
             0,
             "#0d0887"
            ],
            [
             0.1111111111111111,
             "#46039f"
            ],
            [
             0.2222222222222222,
             "#7201a8"
            ],
            [
             0.3333333333333333,
             "#9c179e"
            ],
            [
             0.4444444444444444,
             "#bd3786"
            ],
            [
             0.5555555555555556,
             "#d8576b"
            ],
            [
             0.6666666666666666,
             "#ed7953"
            ],
            [
             0.7777777777777778,
             "#fb9f3a"
            ],
            [
             0.8888888888888888,
             "#fdca26"
            ],
            [
             1,
             "#f0f921"
            ]
           ]
          },
          "colorway": [
           "#636efa",
           "#EF553B",
           "#00cc96",
           "#ab63fa",
           "#FFA15A",
           "#19d3f3",
           "#FF6692",
           "#B6E880",
           "#FF97FF",
           "#FECB52"
          ],
          "font": {
           "color": "#2a3f5f"
          },
          "geo": {
           "bgcolor": "white",
           "lakecolor": "white",
           "landcolor": "#E5ECF6",
           "showlakes": true,
           "showland": true,
           "subunitcolor": "white"
          },
          "hoverlabel": {
           "align": "left"
          },
          "hovermode": "closest",
          "mapbox": {
           "style": "light"
          },
          "paper_bgcolor": "white",
          "plot_bgcolor": "#E5ECF6",
          "polar": {
           "angularaxis": {
            "gridcolor": "white",
            "linecolor": "white",
            "ticks": ""
           },
           "bgcolor": "#E5ECF6",
           "radialaxis": {
            "gridcolor": "white",
            "linecolor": "white",
            "ticks": ""
           }
          },
          "scene": {
           "xaxis": {
            "backgroundcolor": "#E5ECF6",
            "gridcolor": "white",
            "gridwidth": 2,
            "linecolor": "white",
            "showbackground": true,
            "ticks": "",
            "zerolinecolor": "white"
           },
           "yaxis": {
            "backgroundcolor": "#E5ECF6",
            "gridcolor": "white",
            "gridwidth": 2,
            "linecolor": "white",
            "showbackground": true,
            "ticks": "",
            "zerolinecolor": "white"
           },
           "zaxis": {
            "backgroundcolor": "#E5ECF6",
            "gridcolor": "white",
            "gridwidth": 2,
            "linecolor": "white",
            "showbackground": true,
            "ticks": "",
            "zerolinecolor": "white"
           }
          },
          "shapedefaults": {
           "line": {
            "color": "#2a3f5f"
           }
          },
          "ternary": {
           "aaxis": {
            "gridcolor": "white",
            "linecolor": "white",
            "ticks": ""
           },
           "baxis": {
            "gridcolor": "white",
            "linecolor": "white",
            "ticks": ""
           },
           "bgcolor": "#E5ECF6",
           "caxis": {
            "gridcolor": "white",
            "linecolor": "white",
            "ticks": ""
           }
          },
          "title": {
           "x": 0.05
          },
          "xaxis": {
           "automargin": true,
           "gridcolor": "white",
           "linecolor": "white",
           "ticks": "",
           "title": {
            "standoff": 15
           },
           "zerolinecolor": "white",
           "zerolinewidth": 2
          },
          "yaxis": {
           "automargin": true,
           "gridcolor": "white",
           "linecolor": "white",
           "ticks": "",
           "title": {
            "standoff": 15
           },
           "zerolinecolor": "white",
           "zerolinewidth": 2
          }
         }
        },
        "title": {
         "text": "Predictive Debris Risk Analysis: Kessler Syndrome Model"
        },
        "xaxis": {
         "anchor": "y",
         "domain": [
          0,
          0.45
         ],
         "gridcolor": "lightgray",
         "gridwidth": 1,
         "showgrid": true,
         "title": {
          "font": {
           "size": 14
          },
          "text": "Altitude (km)"
         },
         "zeroline": true,
         "zerolinecolor": "lightgray",
         "zerolinewidth": 2
        },
        "xaxis2": {
         "anchor": "y2",
         "domain": [
          0.55,
          1
         ],
         "gridcolor": "lightgray",
         "gridwidth": 1,
         "showgrid": true,
         "title": {
          "font": {
           "size": 14
          },
          "text": "Altitude (km)"
         },
         "zeroline": true,
         "zerolinecolor": "lightgray",
         "zerolinewidth": 2
        },
        "xaxis3": {
         "anchor": "y3",
         "domain": [
          0,
          0.45
         ],
         "gridcolor": "lightgray",
         "gridwidth": 1,
         "showgrid": true,
         "title": {
          "font": {
           "size": 14
          },
          "text": "Years from Present"
         },
         "zeroline": true,
         "zerolinecolor": "lightgray",
         "zerolinewidth": 2
        },
        "xaxis4": {
         "anchor": "y4",
         "domain": [
          0.55,
          1
         ],
         "gridcolor": "lightgray",
         "gridwidth": 1,
         "showgrid": true,
         "title": {
          "font": {
           "size": 14
          },
          "text": "Altitude Zone"
         },
         "zeroline": true,
         "zerolinecolor": "lightgray",
         "zerolinewidth": 2
        },
        "yaxis": {
         "anchor": "x",
         "domain": [
          0.625,
          1
         ],
         "gridcolor": "lightgray",
         "gridwidth": 1,
         "showgrid": true,
         "title": {
          "font": {
           "size": 14
          },
          "text": "Inclination (degrees)"
         },
         "zeroline": true,
         "zerolinecolor": "lightgray",
         "zerolinewidth": 2
        },
        "yaxis2": {
         "anchor": "x2",
         "domain": [
          0.625,
          1
         ],
         "gridcolor": "lightgray",
         "gridwidth": 1,
         "showgrid": true,
         "title": {
          "font": {
           "size": 14
          },
          "text": "Inclination (degrees)"
         },
         "zeroline": true,
         "zerolinecolor": "lightgray",
         "zerolinewidth": 2
        },
        "yaxis3": {
         "anchor": "x3",
         "domain": [
          0,
          0.375
         ],
         "gridcolor": "lightgray",
         "gridwidth": 1,
         "showgrid": true,
         "title": {
          "font": {
           "size": 14
          },
          "text": "Risk Score (0-100)"
         },
         "zeroline": true,
         "zerolinecolor": "lightgray",
         "zerolinewidth": 2
        },
        "yaxis4": {
         "anchor": "x4",
         "domain": [
          0,
          0.375
         ],
         "gridcolor": "lightgray",
         "gridwidth": 1,
         "showgrid": true,
         "title": {
          "font": {
           "size": 14
          },
          "text": "Collision Risk Index"
         },
         "zeroline": true,
         "zerolinecolor": "lightgray",
         "zerolinewidth": 2
        }
       }
      }
     },
     "metadata": {},
     "output_type": "display_data"
    }
   ],
   "source": [
    "# Create comprehensive dashboard with predictions - WHITE BACKGROUND VERSION\n",
    "fig = make_subplots(\n",
    "    rows=2, cols=2,\n",
    "    subplot_titles=('Current Debris Density Heat Map', \n",
    "                    '5-Year Predicted Density (Kessler Effect)',\n",
    "                    'City Risk Score Projection', \n",
    "                    'High-Risk Orbital Zones'),\n",
    "    specs=[[{'type': 'heatmap'}, {'type': 'heatmap'}],\n",
    "           [{'type': 'scatter'}, {'type': 'bar'}]]\n",
    ")\n",
    "\n",
    "# Current density heatmap with better color scale\n",
    "fig.add_trace(\n",
    "    go.Heatmap(z=current_density.T, \n",
    "               x=alt_bins[:-1], \n",
    "               y=inc_bins[:-1],\n",
    "               colorscale='Viridis',  # Changed from 'Hot' for better visibility\n",
    "               colorbar=dict(title=\"Density\"),\n",
    "               text=np.round(current_density.T, 1),\n",
    "               hovertemplate='Altitude: %{x}km<br>Inclination: %{y}°<br>Density: %{z}<extra></extra>'),\n",
    "    row=1, col=1\n",
    ")\n",
    "\n",
    "# Predicted future density with same color scale\n",
    "fig.add_trace(\n",
    "    go.Heatmap(z=future_density.T, \n",
    "               x=alt_bins[:-1], \n",
    "               y=inc_bins[:-1],\n",
    "               colorscale='Viridis',\n",
    "               colorbar=dict(title=\"Density\"),\n",
    "               text=np.round(future_density.T, 1),\n",
    "               hovertemplate='Altitude: %{x}km<br>Inclination: %{y}°<br>Density: %{z}<extra></extra>'),\n",
    "    row=1, col=2\n",
    ")\n",
    "\n",
    "# Risk projection over time\n",
    "years = np.arange(0, 11)\n",
    "philly_projection = philly_current_risk * (1.12 ** years)\n",
    "rio_projection = rio_current_risk * (1.10 ** years)\n",
    "\n",
    "fig.add_trace(\n",
    "    go.Scatter(x=years, y=philly_projection, \n",
    "               mode='lines+markers', name='Philadelphia',\n",
    "               line=dict(width=3, color='blue'),\n",
    "               marker=dict(size=8)),\n",
    "    row=2, col=1\n",
    ")\n",
    "fig.add_trace(\n",
    "    go.Scatter(x=years, y=rio_projection, \n",
    "               mode='lines+markers', name='Rio de Janeiro',\n",
    "               line=dict(width=3, color='green'),\n",
    "               marker=dict(size=8)),\n",
    "    row=2, col=1\n",
    ")\n",
    "\n",
    "# Highest risk zones\n",
    "high_risk_zones = []\n",
    "for i in range(len(alt_bins)-1):\n",
    "    max_risk_inc = np.argmax(collision_risk[i])\n",
    "    high_risk_zones.append({\n",
    "        'altitude': alt_bins[i],\n",
    "        'risk_score': np.max(collision_risk[i])\n",
    "    })\n",
    "top_zones = sorted(high_risk_zones, key=lambda x: x['risk_score'], reverse=True)[:5]\n",
    "\n",
    "fig.add_trace(\n",
    "    go.Bar(x=[f\"{z['altitude']:.0f}km\" for z in top_zones],\n",
    "           y=[z['risk_score'] for z in top_zones],\n",
    "           marker_color='darkred',\n",
    "           text=[f\"{z['risk_score']:.1f}\" for z in top_zones],\n",
    "           textposition='outside'),\n",
    "    row=2, col=2\n",
    ")\n",
    "\n",
    "# Update layout with white background and better visibility\n",
    "fig.update_layout(\n",
    "    height=800, \n",
    "    showlegend=True,\n",
    "    title_text=\"Predictive Debris Risk Analysis: Kessler Syndrome Model\",\n",
    "    plot_bgcolor='white',\n",
    "    paper_bgcolor='white',\n",
    "    font=dict(color='black', size=12)\n",
    ")\n",
    "\n",
    "# Update axes for better visibility\n",
    "fig.update_xaxes(showgrid=True, gridwidth=1, gridcolor='lightgray', \n",
    "                 zeroline=True, zerolinewidth=2, zerolinecolor='lightgray',\n",
    "                 title_font=dict(size=14))\n",
    "fig.update_yaxes(showgrid=True, gridwidth=1, gridcolor='lightgray',\n",
    "                 zeroline=True, zerolinewidth=2, zerolinecolor='lightgray',\n",
    "                 title_font=dict(size=14))\n",
    "\n",
    "# Add specific axis labels\n",
    "fig.update_xaxes(title_text=\"Altitude (km)\", row=1, col=1)\n",
    "fig.update_xaxes(title_text=\"Altitude (km)\", row=1, col=2)\n",
    "fig.update_xaxes(title_text=\"Years from Present\", row=2, col=1)\n",
    "fig.update_xaxes(title_text=\"Altitude Zone\", row=2, col=2)\n",
    "\n",
    "fig.update_yaxes(title_text=\"Inclination (degrees)\", row=1, col=1)\n",
    "fig.update_yaxes(title_text=\"Inclination (degrees)\", row=1, col=2)\n",
    "fig.update_yaxes(title_text=\"Risk Score (0-100)\", row=2, col=1)\n",
    "fig.update_yaxes(title_text=\"Collision Risk Index\", row=2, col=2)\n",
    "\n",
    "fig.show()"
   ]
  },
  {
   "cell_type": "code",
   "execution_count": 12,
   "id": "213d532d",
   "metadata": {},
   "outputs": [],
   "source": [
    "def parse_tle_with_risk_metrics(tle_text):\n",
    "    \"\"\"\n",
    "    Parse TLE data and calculate risk metrics\n",
    "    TLE CANNOT provide debris risk or collision scores directly - we calculate them\n",
    "    \"\"\"\n",
    "    satellites = []\n",
    "    lines = tle_text.strip().split('\\n')\n",
    "    \n",
    "    for i in range(0, len(lines)-2, 3):\n",
    "        try:\n",
    "            name = lines[i].strip()\n",
    "            line1 = lines[i+1].strip()\n",
    "            line2 = lines[i+2].strip()\n",
    "            \n",
    "            # Extract TLE parameters\n",
    "            satellite_data = {\n",
    "                'name': name,\n",
    "                'norad_id': int(line1[2:7]),\n",
    "                'classification': line1[7],  # U=unclassified, C=classified\n",
    "                'launch_year': int(line1[9:11]),\n",
    "                'launch_number': int(line1[11:14]),\n",
    "                'piece_designation': line1[14:17].strip(),\n",
    "                'epoch_year': int(line1[18:20]),\n",
    "                'epoch_day': float(line1[20:32]),\n",
    "                'mean_motion_derivative': float(line1[33:43]),\n",
    "                'inclination': float(line2[8:16]),\n",
    "                'raan': float(line2[17:25]),  # Right Ascension\n",
    "                'eccentricity': float('0.' + line2[26:33]),\n",
    "                'arg_perigee': float(line2[34:42]),\n",
    "                'mean_anomaly': float(line2[43:51]),\n",
    "                'mean_motion': float(line2[52:63]),\n",
    "                'revolution_number': int(line2[63:68])\n",
    "            }\n",
    "            \n",
    "            # Calculate derived metrics\n",
    "            satellite_data.update(calculate_orbital_metrics(satellite_data))\n",
    "            \n",
    "            # Calculate risk scores (these are derived, not in TLE)\n",
    "            satellite_data.update(calculate_risk_scores(satellite_data))\n",
    "            \n",
    "            satellites.append(satellite_data)\n",
    "        except Exception as e:\n",
    "            continue\n",
    "    \n",
    "    return pd.DataFrame(satellites)\n",
    "\n",
    "def calculate_orbital_metrics(sat_data):\n",
    "    \"\"\"\n",
    "    Calculate altitude and other metrics from TLE orbital elements\n",
    "    \"\"\"\n",
    "    # Constants\n",
    "    EARTH_RADIUS_KM = 6371\n",
    "    MU = 398600.4418  # Earth's gravitational parameter\n",
    "    \n",
    "    # Calculate orbital period in minutes\n",
    "    mean_motion = sat_data['mean_motion']\n",
    "    period_minutes = 1440.0 / mean_motion\n",
    "    \n",
    "    # Calculate semi-major axis and altitude\n",
    "    # Using Kepler's third law: n = sqrt(μ/a³)\n",
    "    a = (MU / (mean_motion * 2 * np.pi / 86400) ** 2) ** (1/3)\n",
    "    \n",
    "    # Calculate perigee and apogee\n",
    "    eccentricity = sat_data['eccentricity']\n",
    "    perigee_km = a * (1 - eccentricity) - EARTH_RADIUS_KM\n",
    "    apogee_km = a * (1 + eccentricity) - EARTH_RADIUS_KM\n",
    "    mean_altitude_km = a - EARTH_RADIUS_KM\n",
    "    \n",
    "    return {\n",
    "        'period_minutes': period_minutes,\n",
    "        'semi_major_axis_km': a,\n",
    "        'perigee_km': perigee_km,\n",
    "        'apogee_km': apogee_km,\n",
    "        'mean_altitude_km': mean_altitude_km,\n",
    "        'orbit_class': classify_orbit(mean_altitude_km)\n",
    "    }\n",
    "\n",
    "def classify_orbit(altitude_km):\n",
    "    \"\"\"Classify orbit type based on altitude\"\"\"\n",
    "    if altitude_km < 2000:\n",
    "        return 'LEO'\n",
    "    elif altitude_km < 35786:\n",
    "        return 'MEO'\n",
    "    elif 35786 <= altitude_km < 36286:\n",
    "        return 'GEO'\n",
    "    else:\n",
    "        return 'HEO'\n",
    "\n",
    "def calculate_risk_scores(sat_data):\n",
    "    \"\"\"\n",
    "    Calculate debris and collision risk scores\n",
    "    IMPORTANT: These are DERIVED metrics, not in TLE data\n",
    "    \"\"\"\n",
    "    \n",
    "    # 1. DEBRIS RISK SCORE\n",
    "    # Based on altitude (known debris fields) and age\n",
    "    altitude = sat_data['mean_altitude_km']\n",
    "    \n",
    "    # Known debris zones (from historical events)\n",
    "    debris_risk = 0.0\n",
    "    \n",
    "    # Chinese ASAT test debris zone\n",
    "    if 850 <= altitude <= 900:\n",
    "        debris_risk += 0.3\n",
    "    \n",
    "    # Iridium-Cosmos collision zone\n",
    "    if 770 <= altitude <= 820:\n",
    "        debris_risk += 0.25\n",
    "    \n",
    "    # General LEO congestion\n",
    "    if 400 <= altitude <= 600:\n",
    "        debris_risk += 0.2\n",
    "    elif 600 <= altitude <= 1000:\n",
    "        debris_risk += 0.15\n",
    "    \n",
    "    # Piece designation indicates debris\n",
    "    if sat_data['piece_designation'] not in ['A', 'B']:  # A/B are usually payloads\n",
    "        debris_risk += 0.2\n",
    "    \n",
    "    # 2. COLLISION PROBABILITY SCORE\n",
    "    # Based on orbital parameters\n",
    "    collision_score = 0.0\n",
    "    \n",
    "    # High inclination variation = crossing orbits\n",
    "    inclination = sat_data['inclination']\n",
    "    if 50 <= inclination <= 60:  # High traffic inclinations\n",
    "        collision_score += 0.2\n",
    "    if 96 <= inclination <= 100:  # Sun-synchronous (very crowded)\n",
    "        collision_score += 0.3\n",
    "    \n",
    "    # Eccentricity (elliptical orbits cross multiple altitude bands)\n",
    "    if sat_data['eccentricity'] > 0.01:\n",
    "        collision_score += sat_data['eccentricity'] * 10\n",
    "    \n",
    "    # High mean motion derivative indicates orbital decay\n",
    "    if abs(sat_data['mean_motion_derivative']) > 0.0001:\n",
    "        collision_score += 0.1\n",
    "    \n",
    "    return {\n",
    "        'debris_risk_score': min(1.0, debris_risk),\n",
    "        'collision_probability_score': min(1.0, collision_score),\n",
    "        'combined_risk_score': min(1.0, (debris_risk + collision_score) / 2)\n",
    "    }"
   ]
  }
 ],
 "metadata": {
  "kernelspec": {
   "display_name": "Python 3",
   "language": "python",
   "name": "python3"
  },
  "language_info": {
   "codemirror_mode": {
    "name": "ipython",
    "version": 3
   },
   "file_extension": ".py",
   "mimetype": "text/x-python",
   "name": "python",
   "nbconvert_exporter": "python",
   "pygments_lexer": "ipython3",
   "version": "3.13.7"
  }
 },
 "nbformat": 4,
 "nbformat_minor": 5
}
